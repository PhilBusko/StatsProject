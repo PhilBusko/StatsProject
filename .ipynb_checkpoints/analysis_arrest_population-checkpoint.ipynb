{
 "cells": [
  {
   "cell_type": "markdown",
   "metadata": {},
   "source": [
    "# Analysis: Arrests By Population"
   ]
  },
  {
   "cell_type": "markdown",
   "metadata": {},
   "source": [
    "Workflow: 3 <br>\n",
    "Goal: Run analysis on arrest / population ratio. <br>"
   ]
  },
  {
   "cell_type": "code",
   "execution_count": null,
   "metadata": {},
   "outputs": [],
   "source": [
    "import os\n",
    "import pandas as pd\n",
    "import numpy as np\n",
    "import matplotlib.pyplot as plt\n",
    "%matplotlib inline\n",
    "import seaborn as sns\n",
    "\n",
    "import crime_helper as ch"
   ]
  },
  {
   "cell_type": "code",
   "execution_count": null,
   "metadata": {},
   "outputs": [],
   "source": [
    "from IPython.core.interactiveshell import InteractiveShell\n",
    "InteractiveShell.ast_node_interactivity = \"all\"\n",
    "pd.set_option('display.max_colwidth', -1)"
   ]
  },
  {
   "cell_type": "markdown",
   "metadata": {},
   "source": [
    "## Initial Setup"
   ]
  },
  {
   "cell_type": "code",
   "execution_count": null,
   "metadata": {},
   "outputs": [],
   "source": [
    "ARREST_FILE = 'data/arrest_tkm_state.csv'\n",
    "EMPLOYMENT_FILE = 'data/employment_state.csv'\n",
    "OFFENDER_FILE = 'data/offender_tkm_state.csv'\n",
    "OFFENSE_FILE = 'data/offense_tkm_state.csv'\n",
    "VICTIM_FILE = 'data/victim_tkm_state.csv'\n",
    "STATE_FILE = 'data/lookup_state.csv'\n",
    "REGION_FILE = 'data/lookup_region.csv'"
   ]
  },
  {
   "cell_type": "code",
   "execution_count": null,
   "metadata": {},
   "outputs": [],
   "source": [
    "state_df = pd.read_csv(STATE_FILE)\n",
    "state_df.head()\n",
    "state_df.info()"
   ]
  },
  {
   "cell_type": "code",
   "execution_count": null,
   "metadata": {
    "scrolled": true
   },
   "outputs": [],
   "source": [
    "region_df = pd.read_csv(REGION_FILE)\n",
    "region_df"
   ]
  },
  {
   "cell_type": "code",
   "execution_count": null,
   "metadata": {
    "scrolled": true
   },
   "outputs": [],
   "source": [
    "state_full_df = pd.merge(state_df, region_df, how='inner', on='region_code')\n",
    "state_full_df.head()"
   ]
  },
  {
   "cell_type": "code",
   "execution_count": null,
   "metadata": {},
   "outputs": [],
   "source": [
    "state_clean_df = state_full_df.sort_values('state_abbr').reset_index()\n",
    "state_clean_df = state_clean_df[['state_abbr', 'state_name', 'region_code', 'region_name']]\n",
    "state_clean_df.head(10)\n",
    "state_clean_df.info()"
   ]
  },
  {
   "cell_type": "markdown",
   "metadata": {},
   "source": [
    "## Explore Arrests"
   ]
  },
  {
   "cell_type": "code",
   "execution_count": null,
   "metadata": {
    "scrolled": false
   },
   "outputs": [],
   "source": [
    "arrest_df = pd.read_csv(ARREST_FILE)\n",
    "arrest_df = arrest_df.rename(columns={'count': 'arrests'})\n",
    "arrest_df.head()\n",
    "arrest_df.info()"
   ]
  },
  {
   "cell_type": "code",
   "execution_count": null,
   "metadata": {
    "scrolled": true
   },
   "outputs": [],
   "source": [
    "arrest_total_df = arrest_df.groupby(['state', 'year']).sum().sort_values(['state', 'year'])\n",
    "arrest_total_df = arrest_total_df.reset_index()\n",
    "arrest_total_df.head()"
   ]
  },
  {
   "cell_type": "code",
   "execution_count": null,
   "metadata": {},
   "outputs": [],
   "source": [
    "arrest_year_df = arrest_total_df.groupby(['year']).count().sort_values(['year']) \n",
    "arrest_year_df = arrest_year_df.rename(columns={'arrests': 'row_count'})\n",
    "arrest_year_df"
   ]
  },
  {
   "cell_type": "markdown",
   "metadata": {},
   "source": [
    "## Explore Employment"
   ]
  },
  {
   "cell_type": "code",
   "execution_count": null,
   "metadata": {},
   "outputs": [],
   "source": [
    "employment_df = pd.read_csv(EMPLOYMENT_FILE)\n",
    "employment_df.head()\n",
    "employment_df.info()"
   ]
  },
  {
   "cell_type": "code",
   "execution_count": null,
   "metadata": {},
   "outputs": [],
   "source": [
    "population_df = employment_df[['state_abbr', 'year', 'population']]\n",
    "population_df.head()"
   ]
  },
  {
   "cell_type": "code",
   "execution_count": null,
   "metadata": {},
   "outputs": [],
   "source": [
    "population_df.groupby('year').count()"
   ]
  },
  {
   "cell_type": "code",
   "execution_count": null,
   "metadata": {},
   "outputs": [],
   "source": []
  },
  {
   "cell_type": "markdown",
   "metadata": {},
   "source": [
    "## Merge DataFrames"
   ]
  },
  {
   "cell_type": "code",
   "execution_count": null,
   "metadata": {
    "scrolled": true
   },
   "outputs": [],
   "source": [
    "merge_1_df = pd.merge(arrest_total_df, population_df, how='inner', \n",
    "                      left_on=['state', 'year'], right_on=['state_abbr', 'year'])\n",
    "merge_1_df.head()"
   ]
  },
  {
   "cell_type": "code",
   "execution_count": null,
   "metadata": {
    "scrolled": true
   },
   "outputs": [],
   "source": [
    "merge_2_df = pd.merge(merge_1_df, state_clean_df, how='inner', left_on=['state'], right_on=['state_abbr'])\n",
    "merge_2_df.head()"
   ]
  },
  {
   "cell_type": "code",
   "execution_count": null,
   "metadata": {},
   "outputs": [],
   "source": [
    "merge_df = merge_2_df[['region_name', 'state', 'year', 'arrests', 'population']]\n",
    "merge_df.head()\n",
    "merge_df.shape"
   ]
  },
  {
   "cell_type": "code",
   "execution_count": null,
   "metadata": {
    "scrolled": true
   },
   "outputs": [],
   "source": [
    "merge_df.boxplot(column=['arrests'])"
   ]
  },
  {
   "cell_type": "markdown",
   "metadata": {},
   "source": [
    "## Create 3 period Dataframes"
   ]
  },
  {
   "cell_type": "code",
   "execution_count": null,
   "metadata": {},
   "outputs": [],
   "source": [
    "merge_df.groupby(['region_name', 'year']).count()[['state']]"
   ]
  },
  {
   "cell_type": "code",
   "execution_count": null,
   "metadata": {},
   "outputs": [],
   "source": [
    "period_0405_df = combined_df.loc[combined_df['year'].between(2004, 2005)]\n",
    "period_0405_df.head()\n",
    "period_0405_df.shape"
   ]
  },
  {
   "cell_type": "code",
   "execution_count": null,
   "metadata": {},
   "outputs": [],
   "source": [
    "period_1112_df = combined_df.loc[combined_df['year'].between(2011, 2012)]\n",
    "period_1112_df.head()\n",
    "period_1112_df.shape"
   ]
  },
  {
   "cell_type": "code",
   "execution_count": null,
   "metadata": {},
   "outputs": [],
   "source": [
    "period_1718_df = combined_df.loc[combined_df['year'].between(2017, 2018)]\n",
    "period_1718_df.head(10)\n",
    "period_1718_df.shape"
   ]
  },
  {
   "cell_type": "code",
   "execution_count": null,
   "metadata": {},
   "outputs": [],
   "source": [
    "# examine number of counts per region\n",
    "\n",
    "period_0405_df.groupby(['region_name']).count()[['state', 'year']]\n",
    "period_1112_df.groupby(['region_name']).count()[['state', 'year']]\n",
    "period_1718_df.groupby(['region_name']).count()[['state', 'year']]"
   ]
  },
  {
   "cell_type": "code",
   "execution_count": null,
   "metadata": {},
   "outputs": [],
   "source": []
  },
  {
   "cell_type": "code",
   "execution_count": null,
   "metadata": {},
   "outputs": [],
   "source": []
  },
  {
   "cell_type": "code",
   "execution_count": null,
   "metadata": {},
   "outputs": [],
   "source": []
  },
  {
   "cell_type": "code",
   "execution_count": null,
   "metadata": {},
   "outputs": [],
   "source": []
  },
  {
   "cell_type": "code",
   "execution_count": null,
   "metadata": {},
   "outputs": [],
   "source": [
    "save_path = r'data/crime_data_full.csv'\n",
    "merge_df.to_csv(save_path, index=False)\n",
    "f'{round(os.path.getsize(save_path) /1e6, 2)} mb'"
   ]
  }
 ],
 "metadata": {
  "kernelspec": {
   "display_name": "Python 3",
   "language": "python",
   "name": "python3"
  }
 },
 "nbformat": 4,
 "nbformat_minor": 2
}
