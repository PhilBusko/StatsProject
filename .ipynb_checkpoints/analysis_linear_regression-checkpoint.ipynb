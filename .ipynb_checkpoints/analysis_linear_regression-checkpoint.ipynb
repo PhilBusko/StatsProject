{
 "cells": [
  {
   "cell_type": "code",
   "execution_count": 1,
   "metadata": {},
   "outputs": [],
   "source": [
    "import numpy as np\n",
    "import pandas as pd\n",
    "import matplotlib.pyplot as plt\n",
    "import seaborn as sns\n",
    "import scipy.stats as stats\n"
   ]
  },
  {
   "cell_type": "code",
   "execution_count": 4,
   "metadata": {},
   "outputs": [
    {
     "name": "stdout",
     "output_type": "stream",
     "text": [
      "total 8600\r\n",
      "drwxr-xr-x  20 flatironschool  staff   640B Oct  8 12:18 \u001b[34m..\u001b[m\u001b[m\r\n",
      "-rw-r--r--   1 flatironschool  staff    41K Oct  8 11:37 employment_state.csv\r\n",
      "-rw-r--r--   1 flatironschool  staff   2.3M Oct  7 17:34 lookup_agency.csv\r\n",
      "drwxr-xr-x  12 flatironschool  staff   384B Oct  7 17:34 \u001b[34m.\u001b[m\u001b[m\r\n",
      "-rw-r--r--   1 flatironschool  staff   164B Oct  7 17:34 lookup_region.csv\r\n",
      "-rw-r--r--   1 flatironschool  staff   1.3K Oct  7 17:34 lookup_state.csv\r\n",
      "-rw-r--r--   1 flatironschool  staff   172K Oct  7 17:34 offense_tkm_state.csv\r\n",
      "-rw-r--r--   1 flatironschool  staff   300K Oct  7 17:34 offender_tkm_state.csv\r\n",
      "-rw-r--r--   1 flatironschool  staff   125B Oct  7 16:54 lookup_offense_short.csv\r\n",
      "-rw-r--r--   1 flatironschool  staff   462B Oct  7 16:54 lookup_offense_medium.csv\r\n",
      "-rw-r--r--   1 flatironschool  staff   716K Oct  7 16:54 arrest_tkm_state.csv\r\n",
      "-rw-r--r--   1 flatironschool  staff   638K Oct  7 14:31 victim_tkm_state.csv\r\n"
     ]
    }
   ],
   "source": [
    "!ls -lath data"
   ]
  },
  {
   "cell_type": "code",
   "execution_count": 5,
   "metadata": {},
   "outputs": [],
   "source": [
    "employment_df = pd.read_csv('data/employment_state.csv')\n",
    "offense_df = pd.read_csv('data/offense_tkm_state.csv')\n",
    "arrest_df = pd.read_csv('data/arrest_tkm_state.csv')"
   ]
  },
  {
   "cell_type": "code",
   "execution_count": 22,
   "metadata": {},
   "outputs": [
    {
     "data": {
      "text/plain": [
       "Index(['agency_ct', 'civilian_ct', 'year', 'female_civilian_ct',\n",
       "       'female_officer_ct', 'female_total_ct', 'male_civilian_ct',\n",
       "       'male_officer_ct', 'male_total_ct', 'pe_ct_per_1000', 'population',\n",
       "       'state_abbr', 'state_name', 'total_pe_ct'],\n",
       "      dtype='object')"
      ]
     },
     "execution_count": 22,
     "metadata": {},
     "output_type": "execute_result"
    }
   ],
   "source": [
    "employment_df.head()\n",
    "employment_df.columns"
   ]
  },
  {
   "cell_type": "code",
   "execution_count": 8,
   "metadata": {},
   "outputs": [
    {
     "data": {
      "image/png": "[encoded data removed]",
      "text/plain": [
       "<Figure size 432x288 with 1 Axes>"
      ]
     },
     "metadata": {
      "needs_background": "light"
     },
     "output_type": "display_data"
    }
   ],
   "source": [
    "# distribution of police employment per 1000 people:\n",
    "sns.distplot(employment_df.pe_ct_per_1000);"
   ]
  },
  {
   "cell_type": "code",
   "execution_count": 13,
   "metadata": {},
   "outputs": [
    {
     "name": "stdout",
     "output_type": "stream",
     "text": [
      "Statistic for normaltest: 303.152, p_value of normaltest: 0.000\n"
     ]
    }
   ],
   "source": [
    "# is it a normally distributed variable at a 5% significane level?\n",
    "statistic, p_value = stats.normaltest(employment_df.pe_ct_per_1000)\n",
    "\n",
    "print(f'Statistic for normaltest: {statistic:.3f}, p_value of normaltest: {p_value:.3f}')\n"
   ]
  },
  {
   "cell_type": "code",
   "execution_count": 14,
   "metadata": {},
   "outputs": [],
   "source": [
    "#According to statistic, the distribution is not normally distributed"
   ]
  },
  {
   "cell_type": "code",
   "execution_count": null,
   "metadata": {},
   "outputs": [],
   "source": []
  },
  {
   "cell_type": "code",
   "execution_count": 16,
   "metadata": {},
   "outputs": [],
   "source": [
    "#removed the years before 2010\n",
    "offense_df = offense_df.loc[offense_df.year>=2010]"
   ]
  },
  {
   "cell_type": "code",
   "execution_count": 21,
   "metadata": {},
   "outputs": [
    {
     "data": {
      "text/html": [
       "<div>\n",
       "<style scoped>\n",
       "    .dataframe tbody tr th:only-of-type {\n",
       "        vertical-align: middle;\n",
       "    }\n",
       "\n",
       "    .dataframe tbody tr th {\n",
       "        vertical-align: top;\n",
       "    }\n",
       "\n",
       "    .dataframe thead th {\n",
       "        text-align: right;\n",
       "    }\n",
       "</style>\n",
       "<table border=\"1\" class=\"dataframe\">\n",
       "  <thead>\n",
       "    <tr style=\"text-align: right;\">\n",
       "      <th></th>\n",
       "      <th>state</th>\n",
       "      <th>year</th>\n",
       "      <th>count</th>\n",
       "    </tr>\n",
       "  </thead>\n",
       "  <tbody>\n",
       "    <tr>\n",
       "      <th>0</th>\n",
       "      <td>AL</td>\n",
       "      <td>2010</td>\n",
       "      <td>4524</td>\n",
       "    </tr>\n",
       "    <tr>\n",
       "      <th>1</th>\n",
       "      <td>AL</td>\n",
       "      <td>2011</td>\n",
       "      <td>4524</td>\n",
       "    </tr>\n",
       "  </tbody>\n",
       "</table>\n",
       "</div>"
      ],
      "text/plain": [
       "  state  year  count\n",
       "0    AL  2010   4524\n",
       "1    AL  2011   4524"
      ]
     },
     "execution_count": 21,
     "metadata": {},
     "output_type": "execute_result"
    }
   ],
   "source": [
    "#aggregate the offenses on state, year level\n",
    "offense_df_aggr = offense_df.groupby(['state', 'year']).sum().reset_index()\n",
    "offense_df_aggr.head(2)"
   ]
  },
  {
   "cell_type": "code",
   "execution_count": 25,
   "metadata": {},
   "outputs": [],
   "source": [
    "merged_df = pd.merge(offense_df_aggr, employment_df, left_on=['state', 'year'], right_on=['state_abbr', 'year'])"
   ]
  },
  {
   "cell_type": "code",
   "execution_count": 28,
   "metadata": {},
   "outputs": [],
   "source": [
    "#renamed the column\n",
    "merged_df.rename(columns={'count': 'offense_count'}, inplace=True)"
   ]
  },
  {
   "cell_type": "code",
   "execution_count": 29,
   "metadata": {},
   "outputs": [
    {
     "data": {
      "text/html": [
       "<div>\n",
       "<style scoped>\n",
       "    .dataframe tbody tr th:only-of-type {\n",
       "        vertical-align: middle;\n",
       "    }\n",
       "\n",
       "    .dataframe tbody tr th {\n",
       "        vertical-align: top;\n",
       "    }\n",
       "\n",
       "    .dataframe thead th {\n",
       "        text-align: right;\n",
       "    }\n",
       "</style>\n",
       "<table border=\"1\" class=\"dataframe\">\n",
       "  <thead>\n",
       "    <tr style=\"text-align: right;\">\n",
       "      <th></th>\n",
       "      <th>state</th>\n",
       "      <th>year</th>\n",
       "      <th>offense_count</th>\n",
       "      <th>agency_ct</th>\n",
       "      <th>civilian_ct</th>\n",
       "      <th>female_civilian_ct</th>\n",
       "      <th>female_officer_ct</th>\n",
       "      <th>female_total_ct</th>\n",
       "      <th>male_civilian_ct</th>\n",
       "      <th>male_officer_ct</th>\n",
       "      <th>male_total_ct</th>\n",
       "      <th>pe_ct_per_1000</th>\n",
       "      <th>population</th>\n",
       "      <th>state_abbr</th>\n",
       "      <th>state_name</th>\n",
       "      <th>total_pe_ct</th>\n",
       "    </tr>\n",
       "  </thead>\n",
       "  <tbody>\n",
       "    <tr>\n",
       "      <th>0</th>\n",
       "      <td>AL</td>\n",
       "      <td>2010</td>\n",
       "      <td>4524</td>\n",
       "      <td>365</td>\n",
       "      <td>5424.0</td>\n",
       "      <td>3354.0</td>\n",
       "      <td>808.0</td>\n",
       "      <td>4162.0</td>\n",
       "      <td>2070.0</td>\n",
       "      <td>10434.0</td>\n",
       "      <td>12504.0</td>\n",
       "      <td>3.48</td>\n",
       "      <td>4792630</td>\n",
       "      <td>AL</td>\n",
       "      <td>Alabama</td>\n",
       "      <td>16666.0</td>\n",
       "    </tr>\n",
       "    <tr>\n",
       "      <th>1</th>\n",
       "      <td>AL</td>\n",
       "      <td>2011</td>\n",
       "      <td>4524</td>\n",
       "      <td>378</td>\n",
       "      <td>5701.0</td>\n",
       "      <td>3587.0</td>\n",
       "      <td>801.0</td>\n",
       "      <td>4388.0</td>\n",
       "      <td>2114.0</td>\n",
       "      <td>10668.0</td>\n",
       "      <td>12782.0</td>\n",
       "      <td>3.57</td>\n",
       "      <td>4815348</td>\n",
       "      <td>AL</td>\n",
       "      <td>Alabama</td>\n",
       "      <td>17170.0</td>\n",
       "    </tr>\n",
       "    <tr>\n",
       "      <th>2</th>\n",
       "      <td>AL</td>\n",
       "      <td>2012</td>\n",
       "      <td>4574</td>\n",
       "      <td>385</td>\n",
       "      <td>5806.0</td>\n",
       "      <td>3584.0</td>\n",
       "      <td>809.0</td>\n",
       "      <td>4393.0</td>\n",
       "      <td>2222.0</td>\n",
       "      <td>10400.0</td>\n",
       "      <td>12622.0</td>\n",
       "      <td>3.52</td>\n",
       "      <td>4834334</td>\n",
       "      <td>AL</td>\n",
       "      <td>Alabama</td>\n",
       "      <td>17015.0</td>\n",
       "    </tr>\n",
       "    <tr>\n",
       "      <th>3</th>\n",
       "      <td>AL</td>\n",
       "      <td>2013</td>\n",
       "      <td>5346</td>\n",
       "      <td>379</td>\n",
       "      <td>5818.0</td>\n",
       "      <td>3684.0</td>\n",
       "      <td>805.0</td>\n",
       "      <td>4489.0</td>\n",
       "      <td>2134.0</td>\n",
       "      <td>10681.0</td>\n",
       "      <td>12815.0</td>\n",
       "      <td>3.57</td>\n",
       "      <td>4845981</td>\n",
       "      <td>AL</td>\n",
       "      <td>Alabama</td>\n",
       "      <td>17304.0</td>\n",
       "    </tr>\n",
       "    <tr>\n",
       "      <th>4</th>\n",
       "      <td>AL</td>\n",
       "      <td>2014</td>\n",
       "      <td>4726</td>\n",
       "      <td>372</td>\n",
       "      <td>5655.0</td>\n",
       "      <td>3591.0</td>\n",
       "      <td>829.0</td>\n",
       "      <td>4420.0</td>\n",
       "      <td>2064.0</td>\n",
       "      <td>10613.0</td>\n",
       "      <td>12677.0</td>\n",
       "      <td>3.52</td>\n",
       "      <td>4861676</td>\n",
       "      <td>AL</td>\n",
       "      <td>Alabama</td>\n",
       "      <td>17097.0</td>\n",
       "    </tr>\n",
       "  </tbody>\n",
       "</table>\n",
       "</div>"
      ],
      "text/plain": [
       "  state  year  offense_count  agency_ct  civilian_ct  female_civilian_ct  \\\n",
       "0    AL  2010           4524        365       5424.0              3354.0   \n",
       "1    AL  2011           4524        378       5701.0              3587.0   \n",
       "2    AL  2012           4574        385       5806.0              3584.0   \n",
       "3    AL  2013           5346        379       5818.0              3684.0   \n",
       "4    AL  2014           4726        372       5655.0              3591.0   \n",
       "\n",
       "   female_officer_ct  female_total_ct  male_civilian_ct  male_officer_ct  \\\n",
       "0              808.0           4162.0            2070.0          10434.0   \n",
       "1              801.0           4388.0            2114.0          10668.0   \n",
       "2              809.0           4393.0            2222.0          10400.0   \n",
       "3              805.0           4489.0            2134.0          10681.0   \n",
       "4              829.0           4420.0            2064.0          10613.0   \n",
       "\n",
       "   male_total_ct  pe_ct_per_1000  population state_abbr state_name  \\\n",
       "0        12504.0            3.48     4792630         AL    Alabama   \n",
       "1        12782.0            3.57     4815348         AL    Alabama   \n",
       "2        12622.0            3.52     4834334         AL    Alabama   \n",
       "3        12815.0            3.57     4845981         AL    Alabama   \n",
       "4        12677.0            3.52     4861676         AL    Alabama   \n",
       "\n",
       "   total_pe_ct  \n",
       "0      16666.0  \n",
       "1      17170.0  \n",
       "2      17015.0  \n",
       "3      17304.0  \n",
       "4      17097.0  "
      ]
     },
     "execution_count": 29,
     "metadata": {},
     "output_type": "execute_result"
    }
   ],
   "source": [
    "merged_df.head()"
   ]
  },
  {
   "cell_type": "code",
   "execution_count": 31,
   "metadata": {},
   "outputs": [
    {
     "data": {
      "text/html": [
       "<div>\n",
       "<style scoped>\n",
       "    .dataframe tbody tr th:only-of-type {\n",
       "        vertical-align: middle;\n",
       "    }\n",
       "\n",
       "    .dataframe tbody tr th {\n",
       "        vertical-align: top;\n",
       "    }\n",
       "\n",
       "    .dataframe thead th {\n",
       "        text-align: right;\n",
       "    }\n",
       "</style>\n",
       "<table border=\"1\" class=\"dataframe\">\n",
       "  <thead>\n",
       "    <tr style=\"text-align: right;\">\n",
       "      <th></th>\n",
       "      <th>state</th>\n",
       "      <th>year</th>\n",
       "      <th>offense_count</th>\n",
       "      <th>agency_ct</th>\n",
       "      <th>civilian_ct</th>\n",
       "      <th>female_civilian_ct</th>\n",
       "      <th>female_officer_ct</th>\n",
       "      <th>female_total_ct</th>\n",
       "      <th>male_civilian_ct</th>\n",
       "      <th>male_officer_ct</th>\n",
       "      <th>male_total_ct</th>\n",
       "      <th>pe_ct_per_1000</th>\n",
       "      <th>population</th>\n",
       "      <th>state_abbr</th>\n",
       "      <th>state_name</th>\n",
       "      <th>total_pe_ct</th>\n",
       "      <th>offense_rate</th>\n",
       "    </tr>\n",
       "  </thead>\n",
       "  <tbody>\n",
       "    <tr>\n",
       "      <th>0</th>\n",
       "      <td>AL</td>\n",
       "      <td>2010</td>\n",
       "      <td>4524</td>\n",
       "      <td>365</td>\n",
       "      <td>5424.0</td>\n",
       "      <td>3354.0</td>\n",
       "      <td>808.0</td>\n",
       "      <td>4162.0</td>\n",
       "      <td>2070.0</td>\n",
       "      <td>10434.0</td>\n",
       "      <td>12504.0</td>\n",
       "      <td>3.48</td>\n",
       "      <td>4792630</td>\n",
       "      <td>AL</td>\n",
       "      <td>Alabama</td>\n",
       "      <td>16666.0</td>\n",
       "      <td>0.943949</td>\n",
       "    </tr>\n",
       "    <tr>\n",
       "      <th>1</th>\n",
       "      <td>AL</td>\n",
       "      <td>2011</td>\n",
       "      <td>4524</td>\n",
       "      <td>378</td>\n",
       "      <td>5701.0</td>\n",
       "      <td>3587.0</td>\n",
       "      <td>801.0</td>\n",
       "      <td>4388.0</td>\n",
       "      <td>2114.0</td>\n",
       "      <td>10668.0</td>\n",
       "      <td>12782.0</td>\n",
       "      <td>3.57</td>\n",
       "      <td>4815348</td>\n",
       "      <td>AL</td>\n",
       "      <td>Alabama</td>\n",
       "      <td>17170.0</td>\n",
       "      <td>0.939496</td>\n",
       "    </tr>\n",
       "    <tr>\n",
       "      <th>2</th>\n",
       "      <td>AL</td>\n",
       "      <td>2012</td>\n",
       "      <td>4574</td>\n",
       "      <td>385</td>\n",
       "      <td>5806.0</td>\n",
       "      <td>3584.0</td>\n",
       "      <td>809.0</td>\n",
       "      <td>4393.0</td>\n",
       "      <td>2222.0</td>\n",
       "      <td>10400.0</td>\n",
       "      <td>12622.0</td>\n",
       "      <td>3.52</td>\n",
       "      <td>4834334</td>\n",
       "      <td>AL</td>\n",
       "      <td>Alabama</td>\n",
       "      <td>17015.0</td>\n",
       "      <td>0.946149</td>\n",
       "    </tr>\n",
       "    <tr>\n",
       "      <th>3</th>\n",
       "      <td>AL</td>\n",
       "      <td>2013</td>\n",
       "      <td>5346</td>\n",
       "      <td>379</td>\n",
       "      <td>5818.0</td>\n",
       "      <td>3684.0</td>\n",
       "      <td>805.0</td>\n",
       "      <td>4489.0</td>\n",
       "      <td>2134.0</td>\n",
       "      <td>10681.0</td>\n",
       "      <td>12815.0</td>\n",
       "      <td>3.57</td>\n",
       "      <td>4845981</td>\n",
       "      <td>AL</td>\n",
       "      <td>Alabama</td>\n",
       "      <td>17304.0</td>\n",
       "      <td>1.103182</td>\n",
       "    </tr>\n",
       "    <tr>\n",
       "      <th>4</th>\n",
       "      <td>AL</td>\n",
       "      <td>2014</td>\n",
       "      <td>4726</td>\n",
       "      <td>372</td>\n",
       "      <td>5655.0</td>\n",
       "      <td>3591.0</td>\n",
       "      <td>829.0</td>\n",
       "      <td>4420.0</td>\n",
       "      <td>2064.0</td>\n",
       "      <td>10613.0</td>\n",
       "      <td>12677.0</td>\n",
       "      <td>3.52</td>\n",
       "      <td>4861676</td>\n",
       "      <td>AL</td>\n",
       "      <td>Alabama</td>\n",
       "      <td>17097.0</td>\n",
       "      <td>0.972093</td>\n",
       "    </tr>\n",
       "  </tbody>\n",
       "</table>\n",
       "</div>"
      ],
      "text/plain": [
       "  state  year  offense_count  agency_ct  civilian_ct  female_civilian_ct  \\\n",
       "0    AL  2010           4524        365       5424.0              3354.0   \n",
       "1    AL  2011           4524        378       5701.0              3587.0   \n",
       "2    AL  2012           4574        385       5806.0              3584.0   \n",
       "3    AL  2013           5346        379       5818.0              3684.0   \n",
       "4    AL  2014           4726        372       5655.0              3591.0   \n",
       "\n",
       "   female_officer_ct  female_total_ct  male_civilian_ct  male_officer_ct  \\\n",
       "0              808.0           4162.0            2070.0          10434.0   \n",
       "1              801.0           4388.0            2114.0          10668.0   \n",
       "2              809.0           4393.0            2222.0          10400.0   \n",
       "3              805.0           4489.0            2134.0          10681.0   \n",
       "4              829.0           4420.0            2064.0          10613.0   \n",
       "\n",
       "   male_total_ct  pe_ct_per_1000  population state_abbr state_name  \\\n",
       "0        12504.0            3.48     4792630         AL    Alabama   \n",
       "1        12782.0            3.57     4815348         AL    Alabama   \n",
       "2        12622.0            3.52     4834334         AL    Alabama   \n",
       "3        12815.0            3.57     4845981         AL    Alabama   \n",
       "4        12677.0            3.52     4861676         AL    Alabama   \n",
       "\n",
       "   total_pe_ct  offense_rate  \n",
       "0      16666.0      0.943949  \n",
       "1      17170.0      0.939496  \n",
       "2      17015.0      0.946149  \n",
       "3      17304.0      1.103182  \n",
       "4      17097.0      0.972093  "
      ]
     },
     "execution_count": 31,
     "metadata": {},
     "output_type": "execute_result"
    }
   ],
   "source": [
    "merged_df['offense_rate'] = merged_df.offense_count / merged_df.population * 1000\n",
    "merged_df.head()"
   ]
  },
  {
   "cell_type": "code",
   "execution_count": 33,
   "metadata": {},
   "outputs": [],
   "source": [
    "merged_df_2018 = merged_df.loc[merged_df.year==2018]"
   ]
  },
  {
   "cell_type": "code",
   "execution_count": 35,
   "metadata": {},
   "outputs": [
    {
     "data": {
      "text/plain": [
       "<matplotlib.collections.PathCollection at 0x1a1d1690f0>"
      ]
     },
     "execution_count": 35,
     "metadata": {},
     "output_type": "execute_result"
    },
    {
     "data": {
      "image/png": "[encoded data removed]",
      "text/plain": [
       "<Figure size 432x288 with 1 Axes>"
      ]
     },
     "metadata": {
      "needs_background": "light"
     },
     "output_type": "display_data"
    }
   ],
   "source": [
    "plt.scatter(merged_df_2018.offense_rate, merged_df_2018.pe_ct_per_1000)"
   ]
  },
  {
   "cell_type": "code",
   "execution_count": null,
   "metadata": {},
   "outputs": [],
   "source": [
    "merged_df_2018.loc[]"
   ]
  }
 ],
 "metadata": {
  "kernelspec": {
   "display_name": "Python 3",
   "language": "python",
   "name": "python3"
  },
  "language_info": {
   "codemirror_mode": {
    "name": "ipython",
    "version": 3
   },
   "file_extension": ".py",
   "mimetype": "text/x-python",
   "name": "python",
   "nbconvert_exporter": "python",
   "pygments_lexer": "ipython3",
   "version": "3.7.3"
  }
 },
 "nbformat": 4,
 "nbformat_minor": 2
}
