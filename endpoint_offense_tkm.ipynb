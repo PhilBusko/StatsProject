{
 "cells": [
  {
   "cell_type": "markdown",
   "metadata": {},
   "source": [
    "# CDE - Explore Endpoints"
   ]
  },
  {
   "cell_type": "code",
   "execution_count": 1,
   "metadata": {},
   "outputs": [],
   "source": [
    "import os\n",
    "import pandas as pd\n",
    "\n",
    "import crime_helper as ch"
   ]
  },
  {
   "cell_type": "code",
   "execution_count": 2,
   "metadata": {},
   "outputs": [],
   "source": [
    "from IPython.core.interactiveshell import InteractiveShell\n",
    "InteractiveShell.ast_node_interactivity = \"all\"\n",
    "pd.set_option('display.max_colwidth', -1)"
   ]
  },
  {
   "cell_type": "markdown",
   "metadata": {},
   "source": [
    "## Import Lookups"
   ]
  },
  {
   "cell_type": "code",
   "execution_count": 3,
   "metadata": {},
   "outputs": [],
   "source": [
    "# load the lookup data\n",
    "\n",
    "STATE = 'data/state.csv'\n",
    "AGENCY = 'data/agency.csv'\n",
    "OFFENSE_SHORT = 'data/offense_short.csv'\n",
    "YEAR_SINCE = 2010\n",
    "YEAR_UNTIL = 2011"
   ]
  },
  {
   "cell_type": "code",
   "execution_count": 4,
   "metadata": {
    "scrolled": true
   },
   "outputs": [
    {
     "data": {
      "text/html": [
       "<div>\n",
       "<style scoped>\n",
       "    .dataframe tbody tr th:only-of-type {\n",
       "        vertical-align: middle;\n",
       "    }\n",
       "\n",
       "    .dataframe tbody tr th {\n",
       "        vertical-align: top;\n",
       "    }\n",
       "\n",
       "    .dataframe thead th {\n",
       "        text-align: right;\n",
       "    }\n",
       "</style>\n",
       "<table border=\"1\" class=\"dataframe\">\n",
       "  <thead>\n",
       "    <tr style=\"text-align: right;\">\n",
       "      <th></th>\n",
       "      <th>region_code</th>\n",
       "      <th>state_abbr</th>\n",
       "      <th>state_fips_code</th>\n",
       "      <th>state_id</th>\n",
       "      <th>state_name</th>\n",
       "    </tr>\n",
       "  </thead>\n",
       "  <tbody>\n",
       "    <tr>\n",
       "      <th>0</th>\n",
       "      <td>4</td>\n",
       "      <td>AK</td>\n",
       "      <td>2.0</td>\n",
       "      <td>1</td>\n",
       "      <td>Alaska</td>\n",
       "    </tr>\n",
       "    <tr>\n",
       "      <th>1</th>\n",
       "      <td>3</td>\n",
       "      <td>AL</td>\n",
       "      <td>1.0</td>\n",
       "      <td>2</td>\n",
       "      <td>Alabama</td>\n",
       "    </tr>\n",
       "    <tr>\n",
       "      <th>2</th>\n",
       "      <td>3</td>\n",
       "      <td>AR</td>\n",
       "      <td>5.0</td>\n",
       "      <td>3</td>\n",
       "      <td>Arkansas</td>\n",
       "    </tr>\n",
       "    <tr>\n",
       "      <th>3</th>\n",
       "      <td>99</td>\n",
       "      <td>AS</td>\n",
       "      <td>60.0</td>\n",
       "      <td>4</td>\n",
       "      <td>American Samoa</td>\n",
       "    </tr>\n",
       "    <tr>\n",
       "      <th>4</th>\n",
       "      <td>4</td>\n",
       "      <td>AZ</td>\n",
       "      <td>4.0</td>\n",
       "      <td>5</td>\n",
       "      <td>Arizona</td>\n",
       "    </tr>\n",
       "  </tbody>\n",
       "</table>\n",
       "</div>"
      ],
      "text/plain": [
       "   region_code state_abbr  state_fips_code  state_id      state_name\n",
       "0  4            AK         2.0              1         Alaska        \n",
       "1  3            AL         1.0              2         Alabama       \n",
       "2  3            AR         5.0              3         Arkansas      \n",
       "3  99           AS         60.0             4         American Samoa\n",
       "4  4            AZ         4.0              5         Arizona       "
      ]
     },
     "execution_count": 4,
     "metadata": {},
     "output_type": "execute_result"
    }
   ],
   "source": [
    "state_df = pd.read_csv(STATE)\n",
    "state_df.head()"
   ]
  },
  {
   "cell_type": "code",
   "execution_count": 5,
   "metadata": {},
   "outputs": [
    {
     "data": {
      "text/html": [
       "<div>\n",
       "<style scoped>\n",
       "    .dataframe tbody tr th:only-of-type {\n",
       "        vertical-align: middle;\n",
       "    }\n",
       "\n",
       "    .dataframe tbody tr th {\n",
       "        vertical-align: top;\n",
       "    }\n",
       "\n",
       "    .dataframe thead th {\n",
       "        text-align: right;\n",
       "    }\n",
       "</style>\n",
       "<table border=\"1\" class=\"dataframe\">\n",
       "  <thead>\n",
       "    <tr style=\"text-align: right;\">\n",
       "      <th></th>\n",
       "      <th>offense_type</th>\n",
       "    </tr>\n",
       "  </thead>\n",
       "  <tbody>\n",
       "    <tr>\n",
       "      <th>0</th>\n",
       "      <td>aggravated-assault</td>\n",
       "    </tr>\n",
       "    <tr>\n",
       "      <th>1</th>\n",
       "      <td>burglary</td>\n",
       "    </tr>\n",
       "    <tr>\n",
       "      <th>2</th>\n",
       "      <td>larceny</td>\n",
       "    </tr>\n",
       "    <tr>\n",
       "      <th>3</th>\n",
       "      <td>motor-vehicle-theft</td>\n",
       "    </tr>\n",
       "    <tr>\n",
       "      <th>4</th>\n",
       "      <td>homicide</td>\n",
       "    </tr>\n",
       "  </tbody>\n",
       "</table>\n",
       "</div>"
      ],
      "text/plain": [
       "          offense_type\n",
       "0  aggravated-assault \n",
       "1  burglary           \n",
       "2  larceny            \n",
       "3  motor-vehicle-theft\n",
       "4  homicide           "
      ]
     },
     "execution_count": 5,
     "metadata": {},
     "output_type": "execute_result"
    }
   ],
   "source": [
    "offense_df = pd.read_csv(OFFENSE_SHORT)\n",
    "offense_df.head()"
   ]
  },
  {
   "cell_type": "markdown",
   "metadata": {},
   "source": [
    "## Get API Data"
   ]
  },
  {
   "cell_type": "code",
   "execution_count": 6,
   "metadata": {},
   "outputs": [
    {
     "data": {
      "text/plain": [
       "'DE'"
      ]
     },
     "execution_count": 6,
     "metadata": {},
     "output_type": "execute_result"
    },
    {
     "data": {
      "text/plain": [
       "'homicide'"
      ]
     },
     "execution_count": 6,
     "metadata": {},
     "output_type": "execute_result"
    }
   ],
   "source": [
    "# examine data for a random row\n",
    "\n",
    "random_state = state_df.loc[10]['state_abbr']\n",
    "random_offense = offense_df.loc[4]['offense_type']\n",
    "random_state\n",
    "random_offense"
   ]
  },
  {
   "cell_type": "code",
   "execution_count": 7,
   "metadata": {
    "scrolled": true
   },
   "outputs": [],
   "source": [
    "config = {\n",
    "    '{offense}': random_offense,\n",
    "    '{stateAbbr}': random_state,\n",
    "}\n",
    "offense = ch.get_json(ch.OFFENSE_STATE, config)"
   ]
  },
  {
   "cell_type": "code",
   "execution_count": 8,
   "metadata": {
    "scrolled": false
   },
   "outputs": [
    {
     "data": {
      "text/plain": [
       "{'ui_type': 'text',\n",
       " 'noun': 'offense',\n",
       " 'category': None,\n",
       " 'title': 'Offense Count',\n",
       " 'short_title': None,\n",
       " 'ui_restriction': None,\n",
       " 'keys': ['Incident Count', 'Offense Count'],\n",
       " 'data': [{'value': 25,\n",
       "   'data_year': 2001,\n",
       "   'month_num': 0,\n",
       "   'key': 'Incident Count'},\n",
       "  {'value': 29, 'data_year': 2002, 'month_num': 0, 'key': 'Incident Count'},\n",
       "  {'value': 21, 'data_year': 2003, 'month_num': 0, 'key': 'Incident Count'},\n",
       "  {'value': 27, 'data_year': 2004, 'month_num': 0, 'key': 'Incident Count'},\n",
       "  {'value': 38, 'data_year': 2005, 'month_num': 0, 'key': 'Incident Count'},\n",
       "  {'value': 39, 'data_year': 2006, 'month_num': 0, 'key': 'Incident Count'},\n",
       "  {'value': 39, 'data_year': 2007, 'month_num': 0, 'key': 'Incident Count'},\n",
       "  {'value': 54, 'data_year': 2008, 'month_num': 0, 'key': 'Incident Count'},\n",
       "  {'value': 40, 'data_year': 2009, 'month_num': 0, 'key': 'Incident Count'},\n",
       "  {'value': 51, 'data_year': 2010, 'month_num': 0, 'key': 'Incident Count'},\n",
       "  {'value': 46, 'data_year': 2011, 'month_num': 0, 'key': 'Incident Count'},\n",
       "  {'value': 52, 'data_year': 2012, 'month_num': 0, 'key': 'Incident Count'},\n",
       "  {'value': 38, 'data_year': 2013, 'month_num': 0, 'key': 'Incident Count'},\n",
       "  {'value': 47, 'data_year': 2014, 'month_num': 0, 'key': 'Incident Count'},\n",
       "  {'value': 54, 'data_year': 2015, 'month_num': 0, 'key': 'Incident Count'},\n",
       "  {'value': 51, 'data_year': 2016, 'month_num': 0, 'key': 'Incident Count'},\n",
       "  {'value': 49, 'data_year': 2017, 'month_num': 0, 'key': 'Incident Count'},\n",
       "  {'value': 42, 'data_year': 2018, 'month_num': 0, 'key': 'Incident Count'},\n",
       "  {'value': 29, 'data_year': 2001, 'month_num': 0, 'key': 'Offense Count'},\n",
       "  {'value': 30, 'data_year': 2002, 'month_num': 0, 'key': 'Offense Count'},\n",
       "  {'value': 21, 'data_year': 2003, 'month_num': 0, 'key': 'Offense Count'},\n",
       "  {'value': 28, 'data_year': 2004, 'month_num': 0, 'key': 'Offense Count'},\n",
       "  {'value': 41, 'data_year': 2005, 'month_num': 0, 'key': 'Offense Count'},\n",
       "  {'value': 42, 'data_year': 2006, 'month_num': 0, 'key': 'Offense Count'},\n",
       "  {'value': 39, 'data_year': 2007, 'month_num': 0, 'key': 'Offense Count'},\n",
       "  {'value': 57, 'data_year': 2008, 'month_num': 0, 'key': 'Offense Count'},\n",
       "  {'value': 41, 'data_year': 2009, 'month_num': 0, 'key': 'Offense Count'},\n",
       "  {'value': 51, 'data_year': 2010, 'month_num': 0, 'key': 'Offense Count'},\n",
       "  {'value': 48, 'data_year': 2011, 'month_num': 0, 'key': 'Offense Count'},\n",
       "  {'value': 56, 'data_year': 2012, 'month_num': 0, 'key': 'Offense Count'},\n",
       "  {'value': 41, 'data_year': 2013, 'month_num': 0, 'key': 'Offense Count'},\n",
       "  {'value': 48, 'data_year': 2014, 'month_num': 0, 'key': 'Offense Count'},\n",
       "  {'value': 56, 'data_year': 2015, 'month_num': 0, 'key': 'Offense Count'},\n",
       "  {'value': 53, 'data_year': 2016, 'month_num': 0, 'key': 'Offense Count'},\n",
       "  {'value': 51, 'data_year': 2017, 'month_num': 0, 'key': 'Offense Count'},\n",
       "  {'value': 48, 'data_year': 2018, 'month_num': 0, 'key': 'Offense Count'}],\n",
       " 'precise_data': []}"
      ]
     },
     "execution_count": 8,
     "metadata": {},
     "output_type": "execute_result"
    }
   ],
   "source": [
    "offense"
   ]
  },
  {
   "cell_type": "code",
   "execution_count": 9,
   "metadata": {
    "scrolled": true
   },
   "outputs": [
    {
     "data": {
      "text/plain": [
       "25"
      ]
     },
     "execution_count": 9,
     "metadata": {},
     "output_type": "execute_result"
    },
    {
     "data": {
      "text/plain": [
       "2001"
      ]
     },
     "execution_count": 9,
     "metadata": {},
     "output_type": "execute_result"
    }
   ],
   "source": [
    "offense['data'][0]['value']\n",
    "offense['data'][0]['data_year']"
   ]
  },
  {
   "cell_type": "code",
   "execution_count": 10,
   "metadata": {},
   "outputs": [
    {
     "name": "stdout",
     "output_type": "stream",
     "text": [
      "aggravated-assault\n",
      "burglary\n",
      "larceny\n",
      "motor-vehicle-theft\n",
      "homicide\n",
      "rape\n",
      "robbery\n",
      "arson\n",
      "violent-crime\n",
      "property-crime\n"
     ]
    },
    {
     "data": {
      "text/plain": [
       "[{'state': 'AL',\n",
       "  'offense': 'aggravated-assault',\n",
       "  'year': 1991,\n",
       "  'count': 21909},\n",
       " {'state': 'AL',\n",
       "  'offense': 'aggravated-assault',\n",
       "  'year': 1992,\n",
       "  'count': 17637},\n",
       " {'state': 'AL', 'offense': 'aggravated-assault', 'year': 2006, 'count': 30},\n",
       " {'state': 'AL', 'offense': 'aggravated-assault', 'year': 2007, 'count': 31},\n",
       " {'state': 'AL', 'offense': 'aggravated-assault', 'year': 2008, 'count': 32}]"
      ]
     },
     "execution_count": 10,
     "metadata": {},
     "output_type": "execute_result"
    }
   ],
   "source": [
    "# loop over all lookup values and aggregate full results\n",
    "\n",
    "offense_ls = []\n",
    "\n",
    "for idx_off, row_off in offense_df.iterrows():\n",
    "    offense = row_off['offense_type']\n",
    "    print(offense)\n",
    "    \n",
    "    for idx_stt, row_stt in state_df.iterrows():\n",
    "        state = row_stt['state_abbr']\n",
    "        \n",
    "        config = {\n",
    "            '{offense}': offense,\n",
    "            '{stateAbbr}': state,\n",
    "        }\n",
    "        offense_result = ch.get_json(ch.OFFENSE_STATE, config)\n",
    "        \n",
    "        for res in offense_result['data']:\n",
    "            new_dx = {\n",
    "                'state': state,\n",
    "                'offense': offense,\n",
    "                'year': res['data_year'],\n",
    "                'count': res['value'],\n",
    "            }\n",
    "            offense_ls.append(new_dx)\n",
    "            \n",
    "offense_ls[:5]"
   ]
  },
  {
   "cell_type": "markdown",
   "metadata": {},
   "source": [
    "## Create DataFrame from API"
   ]
  },
  {
   "cell_type": "code",
   "execution_count": 29,
   "metadata": {},
   "outputs": [
    {
     "data": {
      "text/html": [
       "<div>\n",
       "<style scoped>\n",
       "    .dataframe tbody tr th:only-of-type {\n",
       "        vertical-align: middle;\n",
       "    }\n",
       "\n",
       "    .dataframe tbody tr th {\n",
       "        vertical-align: top;\n",
       "    }\n",
       "\n",
       "    .dataframe thead th {\n",
       "        text-align: right;\n",
       "    }\n",
       "</style>\n",
       "<table border=\"1\" class=\"dataframe\">\n",
       "  <thead>\n",
       "    <tr style=\"text-align: right;\">\n",
       "      <th></th>\n",
       "      <th>state</th>\n",
       "      <th>year</th>\n",
       "      <th>offense</th>\n",
       "      <th>count</th>\n",
       "    </tr>\n",
       "  </thead>\n",
       "  <tbody>\n",
       "    <tr>\n",
       "      <th>0</th>\n",
       "      <td>AL</td>\n",
       "      <td>1991</td>\n",
       "      <td>aggravated-assault</td>\n",
       "      <td>21909</td>\n",
       "    </tr>\n",
       "    <tr>\n",
       "      <th>15</th>\n",
       "      <td>AL</td>\n",
       "      <td>1991</td>\n",
       "      <td>aggravated-assault</td>\n",
       "      <td>21909</td>\n",
       "    </tr>\n",
       "    <tr>\n",
       "      <th>10238</th>\n",
       "      <td>AL</td>\n",
       "      <td>1991</td>\n",
       "      <td>arson</td>\n",
       "      <td>92</td>\n",
       "    </tr>\n",
       "    <tr>\n",
       "      <th>10252</th>\n",
       "      <td>AL</td>\n",
       "      <td>1991</td>\n",
       "      <td>arson</td>\n",
       "      <td>92</td>\n",
       "    </tr>\n",
       "    <tr>\n",
       "      <th>1474</th>\n",
       "      <td>AL</td>\n",
       "      <td>1991</td>\n",
       "      <td>burglary</td>\n",
       "      <td>47915</td>\n",
       "    </tr>\n",
       "  </tbody>\n",
       "</table>\n",
       "</div>"
      ],
      "text/plain": [
       "      state  year             offense  count\n",
       "0      AL    1991  aggravated-assault  21909\n",
       "15     AL    1991  aggravated-assault  21909\n",
       "10238  AL    1991  arson               92   \n",
       "10252  AL    1991  arson               92   \n",
       "1474   AL    1991  burglary            47915"
      ]
     },
     "execution_count": 29,
     "metadata": {},
     "output_type": "execute_result"
    },
    {
     "name": "stdout",
     "output_type": "stream",
     "text": [
      "<class 'pandas.core.frame.DataFrame'>\n",
      "Int64Index: 14646 entries, 0 to 13151\n",
      "Data columns (total 4 columns):\n",
      "state      14646 non-null object\n",
      "year       14646 non-null int64\n",
      "offense    14646 non-null object\n",
      "count      14646 non-null int64\n",
      "dtypes: int64(2), object(2)\n",
      "memory usage: 572.1+ KB\n"
     ]
    }
   ],
   "source": [
    "offense_df = pd.DataFrame(offense_ls)\n",
    "offense_df = offense_df[['state', 'year', 'offense', 'count']]\n",
    "offense_df = offense_df.sort_values(['state', 'year', 'offense'])\n",
    "offense_df.head()\n",
    "offense_df.info()"
   ]
  },
  {
   "cell_type": "code",
   "execution_count": 32,
   "metadata": {},
   "outputs": [
    {
     "data": {
      "text/html": [
       "<div>\n",
       "<style scoped>\n",
       "    .dataframe tbody tr th:only-of-type {\n",
       "        vertical-align: middle;\n",
       "    }\n",
       "\n",
       "    .dataframe tbody tr th {\n",
       "        vertical-align: top;\n",
       "    }\n",
       "\n",
       "    .dataframe thead th {\n",
       "        text-align: right;\n",
       "    }\n",
       "</style>\n",
       "<table border=\"1\" class=\"dataframe\">\n",
       "  <thead>\n",
       "    <tr style=\"text-align: right;\">\n",
       "      <th></th>\n",
       "      <th>state</th>\n",
       "      <th>year</th>\n",
       "      <th>offense</th>\n",
       "      <th>count</th>\n",
       "    </tr>\n",
       "  </thead>\n",
       "  <tbody>\n",
       "    <tr>\n",
       "      <th>0</th>\n",
       "      <td>AL</td>\n",
       "      <td>1991</td>\n",
       "      <td>aggravated-assault</td>\n",
       "      <td>21909</td>\n",
       "    </tr>\n",
       "    <tr>\n",
       "      <th>15</th>\n",
       "      <td>AL</td>\n",
       "      <td>1991</td>\n",
       "      <td>aggravated-assault</td>\n",
       "      <td>21909</td>\n",
       "    </tr>\n",
       "    <tr>\n",
       "      <th>10238</th>\n",
       "      <td>AL</td>\n",
       "      <td>1991</td>\n",
       "      <td>arson</td>\n",
       "      <td>92</td>\n",
       "    </tr>\n",
       "    <tr>\n",
       "      <th>10252</th>\n",
       "      <td>AL</td>\n",
       "      <td>1991</td>\n",
       "      <td>arson</td>\n",
       "      <td>92</td>\n",
       "    </tr>\n",
       "    <tr>\n",
       "      <th>1474</th>\n",
       "      <td>AL</td>\n",
       "      <td>1991</td>\n",
       "      <td>burglary</td>\n",
       "      <td>47915</td>\n",
       "    </tr>\n",
       "  </tbody>\n",
       "</table>\n",
       "</div>"
      ],
      "text/plain": [
       "      state  year             offense  count\n",
       "0      AL    1991  aggravated-assault  21909\n",
       "15     AL    1991  aggravated-assault  21909\n",
       "10238  AL    1991  arson               92   \n",
       "10252  AL    1991  arson               92   \n",
       "1474   AL    1991  burglary            47915"
      ]
     },
     "execution_count": 32,
     "metadata": {},
     "output_type": "execute_result"
    }
   ],
   "source": [
    "# not sure why the api returns duplicate rows\n",
    "\n",
    "doop_df = offense_df.loc[offense_df.duplicated(subset=['state', 'year', 'offense'], keep=False) == True]\n",
    "doop_df.head()"
   ]
  },
  {
   "cell_type": "code",
   "execution_count": 34,
   "metadata": {},
   "outputs": [
    {
     "data": {
      "text/html": [
       "<div>\n",
       "<style scoped>\n",
       "    .dataframe tbody tr th:only-of-type {\n",
       "        vertical-align: middle;\n",
       "    }\n",
       "\n",
       "    .dataframe tbody tr th {\n",
       "        vertical-align: top;\n",
       "    }\n",
       "\n",
       "    .dataframe thead th {\n",
       "        text-align: right;\n",
       "    }\n",
       "</style>\n",
       "<table border=\"1\" class=\"dataframe\">\n",
       "  <thead>\n",
       "    <tr style=\"text-align: right;\">\n",
       "      <th></th>\n",
       "      <th>state</th>\n",
       "      <th>year</th>\n",
       "      <th>offense</th>\n",
       "      <th>count</th>\n",
       "    </tr>\n",
       "  </thead>\n",
       "  <tbody>\n",
       "    <tr>\n",
       "      <th>0</th>\n",
       "      <td>AL</td>\n",
       "      <td>1991</td>\n",
       "      <td>aggravated-assault</td>\n",
       "      <td>21909</td>\n",
       "    </tr>\n",
       "    <tr>\n",
       "      <th>1</th>\n",
       "      <td>AL</td>\n",
       "      <td>1991</td>\n",
       "      <td>arson</td>\n",
       "      <td>92</td>\n",
       "    </tr>\n",
       "    <tr>\n",
       "      <th>2</th>\n",
       "      <td>AL</td>\n",
       "      <td>1991</td>\n",
       "      <td>burglary</td>\n",
       "      <td>47915</td>\n",
       "    </tr>\n",
       "    <tr>\n",
       "      <th>3</th>\n",
       "      <td>AL</td>\n",
       "      <td>1991</td>\n",
       "      <td>homicide</td>\n",
       "      <td>434</td>\n",
       "    </tr>\n",
       "    <tr>\n",
       "      <th>4</th>\n",
       "      <td>AL</td>\n",
       "      <td>1991</td>\n",
       "      <td>larceny</td>\n",
       "      <td>107142</td>\n",
       "    </tr>\n",
       "  </tbody>\n",
       "</table>\n",
       "</div>"
      ],
      "text/plain": [
       "  state  year             offense   count\n",
       "0  AL    1991  aggravated-assault  21909 \n",
       "1  AL    1991  arson               92    \n",
       "2  AL    1991  burglary            47915 \n",
       "3  AL    1991  homicide            434   \n",
       "4  AL    1991  larceny             107142"
      ]
     },
     "execution_count": 34,
     "metadata": {},
     "output_type": "execute_result"
    },
    {
     "name": "stdout",
     "output_type": "stream",
     "text": [
      "<class 'pandas.core.frame.DataFrame'>\n",
      "RangeIndex: 7323 entries, 0 to 7322\n",
      "Data columns (total 4 columns):\n",
      "state      7323 non-null object\n",
      "year       7323 non-null int64\n",
      "offense    7323 non-null object\n",
      "count      7323 non-null int64\n",
      "dtypes: int64(2), object(2)\n",
      "memory usage: 228.9+ KB\n"
     ]
    }
   ],
   "source": [
    "offense_df = offense_df.drop_duplicates(subset=['state', 'year', 'offense'])\n",
    "offense_df = offense_df.reset_index()\n",
    "offense_df = offense_df[['state', 'year', 'offense', 'count']]\n",
    "offense_df.head()\n",
    "offense_df.info()"
   ]
  },
  {
   "cell_type": "markdown",
   "metadata": {},
   "source": [
    "## Export to csv"
   ]
  },
  {
   "cell_type": "code",
   "execution_count": 27,
   "metadata": {},
   "outputs": [
    {
     "data": {
      "text/plain": [
       "'0.21 mb'"
      ]
     },
     "execution_count": 27,
     "metadata": {},
     "output_type": "execute_result"
    }
   ],
   "source": [
    "save_path = r'data/offense_state.csv'\n",
    "offense_df.to_csv(save_path, index=False)\n",
    "f'{round(os.path.getsize(save_path) /1e6, 2)} mb'"
   ]
  }
 ],
 "metadata": {
  "kernelspec": {
   "display_name": "Python 3",
   "language": "python",
   "name": "python3"
  },
  "language_info": {
   "codemirror_mode": {
    "name": "ipython",
    "version": 3
   },
   "file_extension": ".py",
   "mimetype": "text/x-python",
   "name": "python",
   "nbconvert_exporter": "python",
   "pygments_lexer": "ipython3",
   "version": "3.7.3"
  }
 },
 "nbformat": 4,
 "nbformat_minor": 2
}
