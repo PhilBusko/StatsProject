{
 "cells": [
  {
   "cell_type": "markdown",
   "metadata": {},
   "source": [
    "# CDE - Explore Endpoints"
   ]
  },
  {
   "cell_type": "markdown",
   "metadata": {},
   "source": [
    "source: https://crime-data-explorer.fr.cloud.gov/api <br>"
   ]
  },
  {
   "cell_type": "code",
   "execution_count": 1,
   "metadata": {},
   "outputs": [],
   "source": [
    "import os\n",
    "import pandas as pd\n",
    "\n",
    "import crime_helper as ch"
   ]
  },
  {
   "cell_type": "code",
   "execution_count": 2,
   "metadata": {},
   "outputs": [],
   "source": [
    "from IPython.core.interactiveshell import InteractiveShell\n",
    "InteractiveShell.ast_node_interactivity = \"all\"\n",
    "pd.set_option('display.max_colwidth', -1)"
   ]
  },
  {
   "cell_type": "markdown",
   "metadata": {},
   "source": [
    "## Lookup Endpoints"
   ]
  },
  {
   "cell_type": "code",
   "execution_count": 3,
   "metadata": {},
   "outputs": [
    {
     "data": {
      "text/plain": [
       "18459"
      ]
     },
     "execution_count": 3,
     "metadata": {},
     "output_type": "execute_result"
    },
    {
     "data": {
      "text/plain": [
       "{'ori': 'AK0010100',\n",
       " 'agency_name': 'Anchorage Police Department',\n",
       " 'agency_type_name': 'Municipality',\n",
       " 'state_name': 'Alaska',\n",
       " 'state_abbr': 'AK',\n",
       " 'division_name': 'Pacific',\n",
       " 'region_name': 'West',\n",
       " 'region_desc': 'Region IV',\n",
       " 'county_name': 'ANCHORAGE',\n",
       " 'nibrs': False,\n",
       " 'latitude': 61.17425,\n",
       " 'longitude': -149.284329,\n",
       " 'nibrs_start_date': None}"
      ]
     },
     "execution_count": 3,
     "metadata": {},
     "output_type": "execute_result"
    }
   ],
   "source": [
    "agency_ls = ch.get_json(ch.LOOKUP_AGENCIES_LIST)\n",
    "len(agency_ls)\n",
    "agency_ls[0]"
   ]
  },
  {
   "cell_type": "code",
   "execution_count": 4,
   "metadata": {},
   "outputs": [
    {
     "name": "stdout",
     "output_type": "stream",
     "text": [
      "{'count': 6, 'page': 0, 'pages': 1, 'per_page': 20}\n",
      "page 0: len 6\n"
     ]
    },
    {
     "data": {
      "text/plain": [
       "6"
      ]
     },
     "execution_count": 4,
     "metadata": {},
     "output_type": "execute_result"
    },
    {
     "data": {
      "text/plain": [
       "{'region_code': 0,\n",
       " 'region_name': 'U.S. Territories',\n",
       " 'region_desc': 'U.S. Territories'}"
      ]
     },
     "execution_count": 4,
     "metadata": {},
     "output_type": "execute_result"
    }
   ],
   "source": [
    "region_ls = ch.get_json(ch.LOOKUP_REGIONS)\n",
    "len(region_ls)\n",
    "region_ls[0]"
   ]
  },
  {
   "cell_type": "code",
   "execution_count": 5,
   "metadata": {},
   "outputs": [
    {
     "name": "stdout",
     "output_type": "stream",
     "text": [
      "{'count': 58, 'page': 0, 'pages': 3, 'per_page': 20}\n",
      "page 0: len 20\n",
      "page 1: len 20\n",
      "page 2: len 18\n"
     ]
    },
    {
     "data": {
      "text/plain": [
       "58"
      ]
     },
     "execution_count": 5,
     "metadata": {},
     "output_type": "execute_result"
    },
    {
     "data": {
      "text/plain": [
       "{'state_id': 1,\n",
       " 'state_name': 'Alaska',\n",
       " 'state_abbr': 'AK',\n",
       " 'region_code': 4,\n",
       " 'state_fips_code': 2}"
      ]
     },
     "execution_count": 5,
     "metadata": {},
     "output_type": "execute_result"
    }
   ],
   "source": [
    "state_ls = ch.get_json(ch.LOOKUP_STATES)\n",
    "len(state_ls)\n",
    "state_ls[0]"
   ]
  },
  {
   "cell_type": "markdown",
   "metadata": {},
   "source": [
    "## Export to csv"
   ]
  },
  {
   "cell_type": "code",
   "execution_count": 6,
   "metadata": {
    "scrolled": false
   },
   "outputs": [
    {
     "data": {
      "text/html": [
       "<div>\n",
       "<style scoped>\n",
       "    .dataframe tbody tr th:only-of-type {\n",
       "        vertical-align: middle;\n",
       "    }\n",
       "\n",
       "    .dataframe tbody tr th {\n",
       "        vertical-align: top;\n",
       "    }\n",
       "\n",
       "    .dataframe thead th {\n",
       "        text-align: right;\n",
       "    }\n",
       "</style>\n",
       "<table border=\"1\" class=\"dataframe\">\n",
       "  <thead>\n",
       "    <tr style=\"text-align: right;\">\n",
       "      <th></th>\n",
       "      <th>agency_name</th>\n",
       "      <th>agency_type_name</th>\n",
       "      <th>county_name</th>\n",
       "      <th>division_name</th>\n",
       "      <th>latitude</th>\n",
       "      <th>longitude</th>\n",
       "      <th>nibrs</th>\n",
       "      <th>nibrs_start_date</th>\n",
       "      <th>ori</th>\n",
       "      <th>region_desc</th>\n",
       "      <th>region_name</th>\n",
       "      <th>state_abbr</th>\n",
       "      <th>state_name</th>\n",
       "    </tr>\n",
       "  </thead>\n",
       "  <tbody>\n",
       "    <tr>\n",
       "      <th>0</th>\n",
       "      <td>Anchorage Police Department</td>\n",
       "      <td>Municipality</td>\n",
       "      <td>ANCHORAGE</td>\n",
       "      <td>Pacific</td>\n",
       "      <td>61.174250</td>\n",
       "      <td>-149.284329</td>\n",
       "      <td>False</td>\n",
       "      <td>None</td>\n",
       "      <td>AK0010100</td>\n",
       "      <td>Region IV</td>\n",
       "      <td>West</td>\n",
       "      <td>AK</td>\n",
       "      <td>Alaska</td>\n",
       "    </tr>\n",
       "    <tr>\n",
       "      <th>1</th>\n",
       "      <td>Fairbanks Police Department</td>\n",
       "      <td>Borough</td>\n",
       "      <td>FAIRBANKS NORTH STAR</td>\n",
       "      <td>Pacific</td>\n",
       "      <td>64.839450</td>\n",
       "      <td>-147.719420</td>\n",
       "      <td>False</td>\n",
       "      <td>None</td>\n",
       "      <td>AK0010200</td>\n",
       "      <td>Region IV</td>\n",
       "      <td>West</td>\n",
       "      <td>AK</td>\n",
       "      <td>Alaska</td>\n",
       "    </tr>\n",
       "    <tr>\n",
       "      <th>2</th>\n",
       "      <td>Juneau Police Department</td>\n",
       "      <td>City and Borough</td>\n",
       "      <td>JUNEAU</td>\n",
       "      <td>Pacific</td>\n",
       "      <td>58.356556</td>\n",
       "      <td>-134.507310</td>\n",
       "      <td>False</td>\n",
       "      <td>None</td>\n",
       "      <td>AK0010300</td>\n",
       "      <td>Region IV</td>\n",
       "      <td>West</td>\n",
       "      <td>AK</td>\n",
       "      <td>Alaska</td>\n",
       "    </tr>\n",
       "    <tr>\n",
       "      <th>3</th>\n",
       "      <td>Ketchikan Police Department</td>\n",
       "      <td>Borough</td>\n",
       "      <td>KETCHIKAN GATEWAY</td>\n",
       "      <td>Pacific</td>\n",
       "      <td>55.449938</td>\n",
       "      <td>-131.106685</td>\n",
       "      <td>False</td>\n",
       "      <td>None</td>\n",
       "      <td>AK0010400</td>\n",
       "      <td>Region IV</td>\n",
       "      <td>West</td>\n",
       "      <td>AK</td>\n",
       "      <td>Alaska</td>\n",
       "    </tr>\n",
       "    <tr>\n",
       "      <th>4</th>\n",
       "      <td>Kodiak Police Department</td>\n",
       "      <td>Borough</td>\n",
       "      <td>KODIAK ISLAND</td>\n",
       "      <td>Pacific</td>\n",
       "      <td>57.804900</td>\n",
       "      <td>-152.373320</td>\n",
       "      <td>False</td>\n",
       "      <td>None</td>\n",
       "      <td>AK0010500</td>\n",
       "      <td>Region IV</td>\n",
       "      <td>West</td>\n",
       "      <td>AK</td>\n",
       "      <td>Alaska</td>\n",
       "    </tr>\n",
       "  </tbody>\n",
       "</table>\n",
       "</div>"
      ],
      "text/plain": [
       "                   agency_name  agency_type_name           county_name  \\\n",
       "0  Anchorage Police Department  Municipality      ANCHORAGE              \n",
       "1  Fairbanks Police Department  Borough           FAIRBANKS NORTH STAR   \n",
       "2  Juneau Police Department     City and Borough  JUNEAU                 \n",
       "3  Ketchikan Police Department  Borough           KETCHIKAN GATEWAY      \n",
       "4  Kodiak Police Department     Borough           KODIAK ISLAND          \n",
       "\n",
       "  division_name   latitude   longitude  nibrs nibrs_start_date        ori  \\\n",
       "0  Pacific       61.174250 -149.284329  False  None             AK0010100   \n",
       "1  Pacific       64.839450 -147.719420  False  None             AK0010200   \n",
       "2  Pacific       58.356556 -134.507310  False  None             AK0010300   \n",
       "3  Pacific       55.449938 -131.106685  False  None             AK0010400   \n",
       "4  Pacific       57.804900 -152.373320  False  None             AK0010500   \n",
       "\n",
       "  region_desc region_name state_abbr state_name  \n",
       "0  Region IV   West        AK         Alaska     \n",
       "1  Region IV   West        AK         Alaska     \n",
       "2  Region IV   West        AK         Alaska     \n",
       "3  Region IV   West        AK         Alaska     \n",
       "4  Region IV   West        AK         Alaska     "
      ]
     },
     "execution_count": 6,
     "metadata": {},
     "output_type": "execute_result"
    },
    {
     "name": "stdout",
     "output_type": "stream",
     "text": [
      "<class 'pandas.core.frame.DataFrame'>\n",
      "RangeIndex: 18459 entries, 0 to 18458\n",
      "Data columns (total 13 columns):\n",
      "agency_name         18459 non-null object\n",
      "agency_type_name    18459 non-null object\n",
      "county_name         18459 non-null object\n",
      "division_name       18459 non-null object\n",
      "latitude            17914 non-null float64\n",
      "longitude           17914 non-null float64\n",
      "nibrs               18459 non-null bool\n",
      "nibrs_start_date    8545 non-null object\n",
      "ori                 18459 non-null object\n",
      "region_desc         18459 non-null object\n",
      "region_name         18459 non-null object\n",
      "state_abbr          18459 non-null object\n",
      "state_name          18459 non-null object\n",
      "dtypes: bool(1), float64(2), object(10)\n",
      "memory usage: 1.7+ MB\n"
     ]
    }
   ],
   "source": [
    "agency_df = pd.DataFrame(agency_ls)\n",
    "agency_df.head()\n",
    "agency_df.info()"
   ]
  },
  {
   "cell_type": "code",
   "execution_count": 7,
   "metadata": {},
   "outputs": [
    {
     "data": {
      "text/plain": [
       "'2.46 mb'"
      ]
     },
     "execution_count": 7,
     "metadata": {},
     "output_type": "execute_result"
    }
   ],
   "source": [
    "save_path = r'data/agency.csv'\n",
    "agency_df.to_csv(save_path, index=False)\n",
    "f'{round(os.path.getsize(save_path) /1e6, 2)} mb'"
   ]
  },
  {
   "cell_type": "code",
   "execution_count": 8,
   "metadata": {},
   "outputs": [
    {
     "data": {
      "text/html": [
       "<div>\n",
       "<style scoped>\n",
       "    .dataframe tbody tr th:only-of-type {\n",
       "        vertical-align: middle;\n",
       "    }\n",
       "\n",
       "    .dataframe tbody tr th {\n",
       "        vertical-align: top;\n",
       "    }\n",
       "\n",
       "    .dataframe thead th {\n",
       "        text-align: right;\n",
       "    }\n",
       "</style>\n",
       "<table border=\"1\" class=\"dataframe\">\n",
       "  <thead>\n",
       "    <tr style=\"text-align: right;\">\n",
       "      <th></th>\n",
       "      <th>region_code</th>\n",
       "      <th>region_desc</th>\n",
       "      <th>region_name</th>\n",
       "    </tr>\n",
       "  </thead>\n",
       "  <tbody>\n",
       "    <tr>\n",
       "      <th>0</th>\n",
       "      <td>0</td>\n",
       "      <td>U.S. Territories</td>\n",
       "      <td>U.S. Territories</td>\n",
       "    </tr>\n",
       "    <tr>\n",
       "      <th>1</th>\n",
       "      <td>1</td>\n",
       "      <td>Region I</td>\n",
       "      <td>Northeast</td>\n",
       "    </tr>\n",
       "    <tr>\n",
       "      <th>2</th>\n",
       "      <td>2</td>\n",
       "      <td>Region II</td>\n",
       "      <td>Midwest</td>\n",
       "    </tr>\n",
       "    <tr>\n",
       "      <th>3</th>\n",
       "      <td>3</td>\n",
       "      <td>Region III</td>\n",
       "      <td>South</td>\n",
       "    </tr>\n",
       "    <tr>\n",
       "      <th>4</th>\n",
       "      <td>4</td>\n",
       "      <td>Region IV</td>\n",
       "      <td>West</td>\n",
       "    </tr>\n",
       "  </tbody>\n",
       "</table>\n",
       "</div>"
      ],
      "text/plain": [
       "   region_code       region_desc       region_name\n",
       "0  0            U.S. Territories  U.S. Territories\n",
       "1  1            Region I          Northeast       \n",
       "2  2            Region II         Midwest         \n",
       "3  3            Region III        South           \n",
       "4  4            Region IV         West            "
      ]
     },
     "execution_count": 8,
     "metadata": {},
     "output_type": "execute_result"
    },
    {
     "name": "stdout",
     "output_type": "stream",
     "text": [
      "<class 'pandas.core.frame.DataFrame'>\n",
      "RangeIndex: 6 entries, 0 to 5\n",
      "Data columns (total 3 columns):\n",
      "region_code    6 non-null int64\n",
      "region_desc    6 non-null object\n",
      "region_name    6 non-null object\n",
      "dtypes: int64(1), object(2)\n",
      "memory usage: 224.0+ bytes\n"
     ]
    }
   ],
   "source": [
    "region_df = pd.DataFrame(region_ls)\n",
    "region_df.head()\n",
    "region_df.info()"
   ]
  },
  {
   "cell_type": "code",
   "execution_count": 9,
   "metadata": {},
   "outputs": [
    {
     "data": {
      "text/plain": [
       "'0.16 kb'"
      ]
     },
     "execution_count": 9,
     "metadata": {},
     "output_type": "execute_result"
    }
   ],
   "source": [
    "save_path = r'data/region.csv'\n",
    "region_df.to_csv(save_path, index=False)\n",
    "f'{round(os.path.getsize(save_path) /1e3, 2)} kb'"
   ]
  },
  {
   "cell_type": "code",
   "execution_count": 10,
   "metadata": {},
   "outputs": [
    {
     "data": {
      "text/html": [
       "<div>\n",
       "<style scoped>\n",
       "    .dataframe tbody tr th:only-of-type {\n",
       "        vertical-align: middle;\n",
       "    }\n",
       "\n",
       "    .dataframe tbody tr th {\n",
       "        vertical-align: top;\n",
       "    }\n",
       "\n",
       "    .dataframe thead th {\n",
       "        text-align: right;\n",
       "    }\n",
       "</style>\n",
       "<table border=\"1\" class=\"dataframe\">\n",
       "  <thead>\n",
       "    <tr style=\"text-align: right;\">\n",
       "      <th></th>\n",
       "      <th>region_code</th>\n",
       "      <th>state_abbr</th>\n",
       "      <th>state_fips_code</th>\n",
       "      <th>state_id</th>\n",
       "      <th>state_name</th>\n",
       "    </tr>\n",
       "  </thead>\n",
       "  <tbody>\n",
       "    <tr>\n",
       "      <th>0</th>\n",
       "      <td>4</td>\n",
       "      <td>AK</td>\n",
       "      <td>2.0</td>\n",
       "      <td>1</td>\n",
       "      <td>Alaska</td>\n",
       "    </tr>\n",
       "    <tr>\n",
       "      <th>1</th>\n",
       "      <td>3</td>\n",
       "      <td>AL</td>\n",
       "      <td>1.0</td>\n",
       "      <td>2</td>\n",
       "      <td>Alabama</td>\n",
       "    </tr>\n",
       "    <tr>\n",
       "      <th>2</th>\n",
       "      <td>3</td>\n",
       "      <td>AR</td>\n",
       "      <td>5.0</td>\n",
       "      <td>3</td>\n",
       "      <td>Arkansas</td>\n",
       "    </tr>\n",
       "    <tr>\n",
       "      <th>3</th>\n",
       "      <td>99</td>\n",
       "      <td>AS</td>\n",
       "      <td>60.0</td>\n",
       "      <td>4</td>\n",
       "      <td>American Samoa</td>\n",
       "    </tr>\n",
       "    <tr>\n",
       "      <th>4</th>\n",
       "      <td>4</td>\n",
       "      <td>AZ</td>\n",
       "      <td>4.0</td>\n",
       "      <td>5</td>\n",
       "      <td>Arizona</td>\n",
       "    </tr>\n",
       "  </tbody>\n",
       "</table>\n",
       "</div>"
      ],
      "text/plain": [
       "   region_code state_abbr  state_fips_code  state_id      state_name\n",
       "0  4            AK         2.0              1         Alaska        \n",
       "1  3            AL         1.0              2         Alabama       \n",
       "2  3            AR         5.0              3         Arkansas      \n",
       "3  99           AS         60.0             4         American Samoa\n",
       "4  4            AZ         4.0              5         Arizona       "
      ]
     },
     "execution_count": 10,
     "metadata": {},
     "output_type": "execute_result"
    },
    {
     "name": "stdout",
     "output_type": "stream",
     "text": [
      "<class 'pandas.core.frame.DataFrame'>\n",
      "RangeIndex: 58 entries, 0 to 57\n",
      "Data columns (total 5 columns):\n",
      "region_code        58 non-null int64\n",
      "state_abbr         58 non-null object\n",
      "state_fips_code    57 non-null float64\n",
      "state_id           58 non-null int64\n",
      "state_name         58 non-null object\n",
      "dtypes: float64(1), int64(2), object(2)\n",
      "memory usage: 2.3+ KB\n"
     ]
    }
   ],
   "source": [
    "state_df = pd.DataFrame(state_ls)\n",
    "state_df.head()\n",
    "state_df.info()"
   ]
  },
  {
   "cell_type": "code",
   "execution_count": 11,
   "metadata": {},
   "outputs": [
    {
     "data": {
      "text/plain": [
       "'1.37 kb'"
      ]
     },
     "execution_count": 11,
     "metadata": {},
     "output_type": "execute_result"
    }
   ],
   "source": [
    "save_path = r'data/state.csv'\n",
    "state_df.to_csv(save_path, index=False)\n",
    "f'{round(os.path.getsize(save_path) /1e3, 2)} kb'"
   ]
  }
 ],
 "metadata": {
  "kernelspec": {
   "display_name": "Python 3",
   "language": "python",
   "name": "python3"
  },
  "language_info": {
   "codemirror_mode": {
    "name": "ipython",
    "version": 3
   },
   "file_extension": ".py",
   "mimetype": "text/x-python",
   "name": "python",
   "nbconvert_exporter": "python",
   "pygments_lexer": "ipython3",
   "version": "3.7.3"
  }
 },
 "nbformat": 4,
 "nbformat_minor": 2
}
