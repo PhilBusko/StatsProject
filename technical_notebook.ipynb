{
 "cells": [
  {
   "cell_type": "markdown",
   "metadata": {},
   "source": [
    "# Project 3: Statistics"
   ]
  },
  {
   "cell_type": "markdown",
   "metadata": {},
   "source": [
    "This is the technical notebook for Mod3. <br>\n",
    "It summarizes and contains the highlights of the work done. <br>\n",
    "Source: https://crime-data-explorer.fr.cloud.gov/api <br>"
   ]
  },
  {
   "cell_type": "code",
   "execution_count": 1,
   "metadata": {},
   "outputs": [],
   "source": [
    "import os\n",
    "import pandas as pd\n",
    "import numpy as np\n",
    "import matplotlib.pyplot as plt\n",
    "%matplotlib inline\n",
    "import seaborn as sns\n",
    "import scipy.stats as stats\n",
    "\n",
    "import crime_helper as ch"
   ]
  },
  {
   "cell_type": "code",
   "execution_count": 2,
   "metadata": {},
   "outputs": [],
   "source": [
    "from IPython.core.interactiveshell import InteractiveShell\n",
    "InteractiveShell.ast_node_interactivity = \"all\"\n",
    "pd.set_option('display.max_colwidth', -1)"
   ]
  },
  {
   "cell_type": "markdown",
   "metadata": {},
   "source": [
    "## Data From API"
   ]
  },
  {
   "cell_type": "markdown",
   "metadata": {},
   "source": [
    "### Get Lookup Data"
   ]
  },
  {
   "cell_type": "code",
   "execution_count": 3,
   "metadata": {},
   "outputs": [
    {
     "name": "stdout",
     "output_type": "stream",
     "text": [
      "{'count': 58, 'page': 0, 'pages': 3, 'per_page': 20}\n",
      "page 0: len 20\n",
      "page 1: len 20\n",
      "page 2: len 18\n"
     ]
    },
    {
     "data": {
      "text/plain": [
       "58"
      ]
     },
     "execution_count": 3,
     "metadata": {},
     "output_type": "execute_result"
    },
    {
     "data": {
      "text/plain": [
       "{'state_id': 1,\n",
       " 'state_name': 'Alaska',\n",
       " 'state_abbr': 'AK',\n",
       " 'region_code': 4,\n",
       " 'state_fips_code': 2}"
      ]
     },
     "execution_count": 3,
     "metadata": {},
     "output_type": "execute_result"
    }
   ],
   "source": [
    "# first load the lookup tables (state, region, offenses, etc), to be used in further api calls\n",
    "\n",
    "state_ls = ch.get_json(ch.LOOKUP_STATES)\n",
    "len(state_ls)\n",
    "state_ls[0]"
   ]
  },
  {
   "cell_type": "code",
   "execution_count": 4,
   "metadata": {},
   "outputs": [
    {
     "data": {
      "text/html": [
       "<div>\n",
       "<style scoped>\n",
       "    .dataframe tbody tr th:only-of-type {\n",
       "        vertical-align: middle;\n",
       "    }\n",
       "\n",
       "    .dataframe tbody tr th {\n",
       "        vertical-align: top;\n",
       "    }\n",
       "\n",
       "    .dataframe thead th {\n",
       "        text-align: right;\n",
       "    }\n",
       "</style>\n",
       "<table border=\"1\" class=\"dataframe\">\n",
       "  <thead>\n",
       "    <tr style=\"text-align: right;\">\n",
       "      <th></th>\n",
       "      <th>region_code</th>\n",
       "      <th>state_abbr</th>\n",
       "      <th>state_fips_code</th>\n",
       "      <th>state_id</th>\n",
       "      <th>state_name</th>\n",
       "    </tr>\n",
       "  </thead>\n",
       "  <tbody>\n",
       "    <tr>\n",
       "      <th>0</th>\n",
       "      <td>4</td>\n",
       "      <td>AK</td>\n",
       "      <td>2.0</td>\n",
       "      <td>1</td>\n",
       "      <td>Alaska</td>\n",
       "    </tr>\n",
       "    <tr>\n",
       "      <th>1</th>\n",
       "      <td>3</td>\n",
       "      <td>AL</td>\n",
       "      <td>1.0</td>\n",
       "      <td>2</td>\n",
       "      <td>Alabama</td>\n",
       "    </tr>\n",
       "    <tr>\n",
       "      <th>2</th>\n",
       "      <td>3</td>\n",
       "      <td>AR</td>\n",
       "      <td>5.0</td>\n",
       "      <td>3</td>\n",
       "      <td>Arkansas</td>\n",
       "    </tr>\n",
       "    <tr>\n",
       "      <th>3</th>\n",
       "      <td>99</td>\n",
       "      <td>AS</td>\n",
       "      <td>60.0</td>\n",
       "      <td>4</td>\n",
       "      <td>American Samoa</td>\n",
       "    </tr>\n",
       "    <tr>\n",
       "      <th>4</th>\n",
       "      <td>4</td>\n",
       "      <td>AZ</td>\n",
       "      <td>4.0</td>\n",
       "      <td>5</td>\n",
       "      <td>Arizona</td>\n",
       "    </tr>\n",
       "  </tbody>\n",
       "</table>\n",
       "</div>"
      ],
      "text/plain": [
       "   region_code state_abbr  state_fips_code  state_id      state_name\n",
       "0  4            AK         2.0              1         Alaska        \n",
       "1  3            AL         1.0              2         Alabama       \n",
       "2  3            AR         5.0              3         Arkansas      \n",
       "3  99           AS         60.0             4         American Samoa\n",
       "4  4            AZ         4.0              5         Arizona       "
      ]
     },
     "execution_count": 4,
     "metadata": {},
     "output_type": "execute_result"
    },
    {
     "name": "stdout",
     "output_type": "stream",
     "text": [
      "<class 'pandas.core.frame.DataFrame'>\n",
      "RangeIndex: 58 entries, 0 to 57\n",
      "Data columns (total 5 columns):\n",
      "region_code        58 non-null int64\n",
      "state_abbr         58 non-null object\n",
      "state_fips_code    57 non-null float64\n",
      "state_id           58 non-null int64\n",
      "state_name         58 non-null object\n",
      "dtypes: float64(1), int64(2), object(2)\n",
      "memory usage: 2.3+ KB\n"
     ]
    }
   ],
   "source": [
    "# use a dataframe to inspect the results\n",
    "\n",
    "state_df = pd.DataFrame(state_ls)\n",
    "state_df.head()\n",
    "state_df.info()"
   ]
  },
  {
   "cell_type": "code",
   "execution_count": 5,
   "metadata": {},
   "outputs": [
    {
     "data": {
      "text/plain": [
       "'1.37 kb'"
      ]
     },
     "execution_count": 5,
     "metadata": {},
     "output_type": "execute_result"
    }
   ],
   "source": [
    "# export the lookup table to a file\n",
    "\n",
    "save_path = r'data/lookup_state.csv'\n",
    "state_df.to_csv(save_path, index=False)\n",
    "f'{round(os.path.getsize(save_path) /1e3, 2)} kb'"
   ]
  },
  {
   "cell_type": "code",
   "execution_count": 6,
   "metadata": {},
   "outputs": [
    {
     "data": {
      "text/html": [
       "<div>\n",
       "<style scoped>\n",
       "    .dataframe tbody tr th:only-of-type {\n",
       "        vertical-align: middle;\n",
       "    }\n",
       "\n",
       "    .dataframe tbody tr th {\n",
       "        vertical-align: top;\n",
       "    }\n",
       "\n",
       "    .dataframe thead th {\n",
       "        text-align: right;\n",
       "    }\n",
       "</style>\n",
       "<table border=\"1\" class=\"dataframe\">\n",
       "  <thead>\n",
       "    <tr style=\"text-align: right;\">\n",
       "      <th></th>\n",
       "      <th>offense_type</th>\n",
       "    </tr>\n",
       "  </thead>\n",
       "  <tbody>\n",
       "    <tr>\n",
       "      <th>0</th>\n",
       "      <td>aggravated-assault</td>\n",
       "    </tr>\n",
       "    <tr>\n",
       "      <th>1</th>\n",
       "      <td>burglary</td>\n",
       "    </tr>\n",
       "    <tr>\n",
       "      <th>2</th>\n",
       "      <td>larceny</td>\n",
       "    </tr>\n",
       "    <tr>\n",
       "      <th>3</th>\n",
       "      <td>motor-vehicle-theft</td>\n",
       "    </tr>\n",
       "    <tr>\n",
       "      <th>4</th>\n",
       "      <td>homicide</td>\n",
       "    </tr>\n",
       "  </tbody>\n",
       "</table>\n",
       "</div>"
      ],
      "text/plain": [
       "          offense_type\n",
       "0  aggravated-assault \n",
       "1  burglary           \n",
       "2  larceny            \n",
       "3  motor-vehicle-theft\n",
       "4  homicide           "
      ]
     },
     "execution_count": 6,
     "metadata": {},
     "output_type": "execute_result"
    }
   ],
   "source": [
    "# also load the offenses-short file, which was created by hand from the dropdown on the API documentation\n",
    "\n",
    "OFFENSE_SHORT = 'data/lookup_offense_short.csv'\n",
    "offense_df = pd.read_csv(OFFENSE_SHORT)\n",
    "offense_df.head()"
   ]
  },
  {
   "cell_type": "markdown",
   "metadata": {},
   "source": [
    "### Get Crime Data from Endpoints"
   ]
  },
  {
   "cell_type": "code",
   "execution_count": 7,
   "metadata": {},
   "outputs": [
    {
     "name": "stdout",
     "output_type": "stream",
     "text": [
      "aggravated-assault\n",
      "burglary\n",
      "larceny\n",
      "motor-vehicle-theft\n",
      "homicide\n",
      "rape\n",
      "robbery\n",
      "arson\n",
      "violent-crime\n",
      "property-crime\n"
     ]
    },
    {
     "data": {
      "text/plain": [
       "[{'state': 'AL',\n",
       "  'offense': 'aggravated-assault',\n",
       "  'year': 1991,\n",
       "  'count': 21909},\n",
       " {'state': 'AL',\n",
       "  'offense': 'aggravated-assault',\n",
       "  'year': 1992,\n",
       "  'count': 17637},\n",
       " {'state': 'AL', 'offense': 'aggravated-assault', 'year': 2006, 'count': 30},\n",
       " {'state': 'AL', 'offense': 'aggravated-assault', 'year': 2007, 'count': 31},\n",
       " {'state': 'AL', 'offense': 'aggravated-assault', 'year': 2008, 'count': 32}]"
      ]
     },
     "execution_count": 7,
     "metadata": {},
     "output_type": "execute_result"
    }
   ],
   "source": [
    "# loop over all lookup values for the specific endpooints and aggregate all the results\n",
    "\n",
    "offense_ls = []\n",
    "\n",
    "for idx_off, row_off in offense_df.iterrows():\n",
    "    offense = row_off['offense_type']\n",
    "    print(offense)\n",
    "    \n",
    "    for idx_stt, row_stt in state_df.iterrows():\n",
    "        state = row_stt['state_abbr']\n",
    "        \n",
    "        config = {\n",
    "            '{offense}': offense,\n",
    "            '{stateAbbr}': state,\n",
    "        }\n",
    "        offense_result = ch.get_json(ch.OFFENSE_STATE, config)\n",
    "        \n",
    "        for res in offense_result['data']:\n",
    "            new_dx = {\n",
    "                'state': state,\n",
    "                'offense': offense,\n",
    "                'year': res['data_year'],\n",
    "                'count': res['value'],\n",
    "            }\n",
    "            offense_ls.append(new_dx)\n",
    "            \n",
    "offense_ls[:5]"
   ]
  },
  {
   "cell_type": "code",
   "execution_count": 8,
   "metadata": {},
   "outputs": [
    {
     "data": {
      "text/html": [
       "<div>\n",
       "<style scoped>\n",
       "    .dataframe tbody tr th:only-of-type {\n",
       "        vertical-align: middle;\n",
       "    }\n",
       "\n",
       "    .dataframe tbody tr th {\n",
       "        vertical-align: top;\n",
       "    }\n",
       "\n",
       "    .dataframe thead th {\n",
       "        text-align: right;\n",
       "    }\n",
       "</style>\n",
       "<table border=\"1\" class=\"dataframe\">\n",
       "  <thead>\n",
       "    <tr style=\"text-align: right;\">\n",
       "      <th></th>\n",
       "      <th>state</th>\n",
       "      <th>year</th>\n",
       "      <th>offense</th>\n",
       "      <th>count</th>\n",
       "    </tr>\n",
       "  </thead>\n",
       "  <tbody>\n",
       "    <tr>\n",
       "      <th>0</th>\n",
       "      <td>AL</td>\n",
       "      <td>1991</td>\n",
       "      <td>aggravated-assault</td>\n",
       "      <td>21909</td>\n",
       "    </tr>\n",
       "    <tr>\n",
       "      <th>15</th>\n",
       "      <td>AL</td>\n",
       "      <td>1991</td>\n",
       "      <td>aggravated-assault</td>\n",
       "      <td>21909</td>\n",
       "    </tr>\n",
       "    <tr>\n",
       "      <th>10238</th>\n",
       "      <td>AL</td>\n",
       "      <td>1991</td>\n",
       "      <td>arson</td>\n",
       "      <td>92</td>\n",
       "    </tr>\n",
       "    <tr>\n",
       "      <th>10252</th>\n",
       "      <td>AL</td>\n",
       "      <td>1991</td>\n",
       "      <td>arson</td>\n",
       "      <td>92</td>\n",
       "    </tr>\n",
       "    <tr>\n",
       "      <th>1474</th>\n",
       "      <td>AL</td>\n",
       "      <td>1991</td>\n",
       "      <td>burglary</td>\n",
       "      <td>47915</td>\n",
       "    </tr>\n",
       "  </tbody>\n",
       "</table>\n",
       "</div>"
      ],
      "text/plain": [
       "      state  year             offense  count\n",
       "0      AL    1991  aggravated-assault  21909\n",
       "15     AL    1991  aggravated-assault  21909\n",
       "10238  AL    1991  arson               92   \n",
       "10252  AL    1991  arson               92   \n",
       "1474   AL    1991  burglary            47915"
      ]
     },
     "execution_count": 8,
     "metadata": {},
     "output_type": "execute_result"
    },
    {
     "name": "stdout",
     "output_type": "stream",
     "text": [
      "<class 'pandas.core.frame.DataFrame'>\n",
      "Int64Index: 14646 entries, 0 to 13151\n",
      "Data columns (total 4 columns):\n",
      "state      14646 non-null object\n",
      "year       14646 non-null int64\n",
      "offense    14646 non-null object\n",
      "count      14646 non-null int64\n",
      "dtypes: int64(2), object(2)\n",
      "memory usage: 572.1+ KB\n"
     ]
    }
   ],
   "source": [
    "# create dataframe to process the endpoint data\n",
    "\n",
    "offense_df = pd.DataFrame(offense_ls)\n",
    "offense_df = offense_df[['state', 'year', 'offense', 'count']]\n",
    "offense_df = offense_df.sort_values(['state', 'year', 'offense'])\n",
    "offense_df.head()\n",
    "offense_df.info()"
   ]
  },
  {
   "cell_type": "code",
   "execution_count": 9,
   "metadata": {},
   "outputs": [
    {
     "data": {
      "text/html": [
       "<div>\n",
       "<style scoped>\n",
       "    .dataframe tbody tr th:only-of-type {\n",
       "        vertical-align: middle;\n",
       "    }\n",
       "\n",
       "    .dataframe tbody tr th {\n",
       "        vertical-align: top;\n",
       "    }\n",
       "\n",
       "    .dataframe thead th {\n",
       "        text-align: right;\n",
       "    }\n",
       "</style>\n",
       "<table border=\"1\" class=\"dataframe\">\n",
       "  <thead>\n",
       "    <tr style=\"text-align: right;\">\n",
       "      <th></th>\n",
       "      <th>state</th>\n",
       "      <th>year</th>\n",
       "      <th>offense</th>\n",
       "      <th>count</th>\n",
       "    </tr>\n",
       "  </thead>\n",
       "  <tbody>\n",
       "    <tr>\n",
       "      <th>0</th>\n",
       "      <td>AL</td>\n",
       "      <td>1991</td>\n",
       "      <td>aggravated-assault</td>\n",
       "      <td>21909</td>\n",
       "    </tr>\n",
       "    <tr>\n",
       "      <th>15</th>\n",
       "      <td>AL</td>\n",
       "      <td>1991</td>\n",
       "      <td>aggravated-assault</td>\n",
       "      <td>21909</td>\n",
       "    </tr>\n",
       "    <tr>\n",
       "      <th>10238</th>\n",
       "      <td>AL</td>\n",
       "      <td>1991</td>\n",
       "      <td>arson</td>\n",
       "      <td>92</td>\n",
       "    </tr>\n",
       "    <tr>\n",
       "      <th>10252</th>\n",
       "      <td>AL</td>\n",
       "      <td>1991</td>\n",
       "      <td>arson</td>\n",
       "      <td>92</td>\n",
       "    </tr>\n",
       "    <tr>\n",
       "      <th>1474</th>\n",
       "      <td>AL</td>\n",
       "      <td>1991</td>\n",
       "      <td>burglary</td>\n",
       "      <td>47915</td>\n",
       "    </tr>\n",
       "  </tbody>\n",
       "</table>\n",
       "</div>"
      ],
      "text/plain": [
       "      state  year             offense  count\n",
       "0      AL    1991  aggravated-assault  21909\n",
       "15     AL    1991  aggravated-assault  21909\n",
       "10238  AL    1991  arson               92   \n",
       "10252  AL    1991  arson               92   \n",
       "1474   AL    1991  burglary            47915"
      ]
     },
     "execution_count": 9,
     "metadata": {},
     "output_type": "execute_result"
    }
   ],
   "source": [
    "# not sure why the api returns duplicate rows\n",
    "\n",
    "doop_df = offense_df.loc[offense_df.duplicated(subset=['state', 'year', 'offense'], keep=False) == True]\n",
    "doop_df.head()"
   ]
  },
  {
   "cell_type": "code",
   "execution_count": 10,
   "metadata": {},
   "outputs": [
    {
     "data": {
      "text/html": [
       "<div>\n",
       "<style scoped>\n",
       "    .dataframe tbody tr th:only-of-type {\n",
       "        vertical-align: middle;\n",
       "    }\n",
       "\n",
       "    .dataframe tbody tr th {\n",
       "        vertical-align: top;\n",
       "    }\n",
       "\n",
       "    .dataframe thead th {\n",
       "        text-align: right;\n",
       "    }\n",
       "</style>\n",
       "<table border=\"1\" class=\"dataframe\">\n",
       "  <thead>\n",
       "    <tr style=\"text-align: right;\">\n",
       "      <th></th>\n",
       "      <th>state</th>\n",
       "      <th>year</th>\n",
       "      <th>offense</th>\n",
       "      <th>count</th>\n",
       "    </tr>\n",
       "  </thead>\n",
       "  <tbody>\n",
       "    <tr>\n",
       "      <th>0</th>\n",
       "      <td>AL</td>\n",
       "      <td>1991</td>\n",
       "      <td>aggravated-assault</td>\n",
       "      <td>21909</td>\n",
       "    </tr>\n",
       "    <tr>\n",
       "      <th>1</th>\n",
       "      <td>AL</td>\n",
       "      <td>1991</td>\n",
       "      <td>arson</td>\n",
       "      <td>92</td>\n",
       "    </tr>\n",
       "    <tr>\n",
       "      <th>2</th>\n",
       "      <td>AL</td>\n",
       "      <td>1991</td>\n",
       "      <td>burglary</td>\n",
       "      <td>47915</td>\n",
       "    </tr>\n",
       "    <tr>\n",
       "      <th>3</th>\n",
       "      <td>AL</td>\n",
       "      <td>1991</td>\n",
       "      <td>homicide</td>\n",
       "      <td>434</td>\n",
       "    </tr>\n",
       "    <tr>\n",
       "      <th>4</th>\n",
       "      <td>AL</td>\n",
       "      <td>1991</td>\n",
       "      <td>larceny</td>\n",
       "      <td>107142</td>\n",
       "    </tr>\n",
       "  </tbody>\n",
       "</table>\n",
       "</div>"
      ],
      "text/plain": [
       "  state  year             offense   count\n",
       "0  AL    1991  aggravated-assault  21909 \n",
       "1  AL    1991  arson               92    \n",
       "2  AL    1991  burglary            47915 \n",
       "3  AL    1991  homicide            434   \n",
       "4  AL    1991  larceny             107142"
      ]
     },
     "execution_count": 10,
     "metadata": {},
     "output_type": "execute_result"
    },
    {
     "name": "stdout",
     "output_type": "stream",
     "text": [
      "<class 'pandas.core.frame.DataFrame'>\n",
      "RangeIndex: 7323 entries, 0 to 7322\n",
      "Data columns (total 4 columns):\n",
      "state      7323 non-null object\n",
      "year       7323 non-null int64\n",
      "offense    7323 non-null object\n",
      "count      7323 non-null int64\n",
      "dtypes: int64(2), object(2)\n",
      "memory usage: 228.9+ KB\n"
     ]
    }
   ],
   "source": [
    "offense_df = offense_df.drop_duplicates(subset=['state', 'year', 'offense'])\n",
    "offense_df = offense_df.reset_index()\n",
    "offense_df = offense_df[['state', 'year', 'offense', 'count']]\n",
    "offense_df.head()\n",
    "offense_df.info()"
   ]
  },
  {
   "cell_type": "code",
   "execution_count": 11,
   "metadata": {},
   "outputs": [
    {
     "data": {
      "text/plain": [
       "'0.18 mb'"
      ]
     },
     "execution_count": 11,
     "metadata": {},
     "output_type": "execute_result"
    }
   ],
   "source": [
    "# export endpoint results to csv \n",
    "\n",
    "save_path = r'data/offense_tkm_state.csv'\n",
    "offense_df.to_csv(save_path, index=False)\n",
    "f'{round(os.path.getsize(save_path) /1e6, 2)} mb'"
   ]
  },
  {
   "cell_type": "markdown",
   "metadata": {},
   "source": [
    "### Prepare data for all endpoints"
   ]
  },
  {
   "cell_type": "code",
   "execution_count": 12,
   "metadata": {},
   "outputs": [],
   "source": [
    "# once all endpoints are run, can load data from respective csv\n",
    "\n",
    "ARREST_FILE = 'data/arrest_tkm_state.csv'\n",
    "EMPLOYMENT_FILE = 'data/employment_state.csv'\n",
    "OFFENDER_FILE = 'data/offender_tkm_state.csv'\n",
    "OFFENSE_FILE = 'data/offense_tkm_state.csv'\n",
    "VICTIM_FILE = 'data/victim_tkm_state.csv'\n",
    "\n",
    "AGENCY_FILE = 'data/lookup_state.csv'\n",
    "STATE_FILE = 'data/lookup_state.csv'\n",
    "REGION_FILE = 'data/lookup_region.csv'\n",
    "OFFENSE_SHORT = 'data/lookup_offense_short.csv'\n",
    "OFFENSE_MEDIUM = 'data/lookup_offense_medium.csv'"
   ]
  },
  {
   "cell_type": "markdown",
   "metadata": {},
   "source": [
    "# Arrests per Population Analysis - Phillip"
   ]
  },
  {
   "cell_type": "markdown",
   "metadata": {},
   "source": [
    "## Load Region Data"
   ]
  },
  {
   "cell_type": "code",
   "execution_count": 13,
   "metadata": {
    "scrolled": true
   },
   "outputs": [
    {
     "data": {
      "text/html": [
       "<div>\n",
       "<style scoped>\n",
       "    .dataframe tbody tr th:only-of-type {\n",
       "        vertical-align: middle;\n",
       "    }\n",
       "\n",
       "    .dataframe tbody tr th {\n",
       "        vertical-align: top;\n",
       "    }\n",
       "\n",
       "    .dataframe thead th {\n",
       "        text-align: right;\n",
       "    }\n",
       "</style>\n",
       "<table border=\"1\" class=\"dataframe\">\n",
       "  <thead>\n",
       "    <tr style=\"text-align: right;\">\n",
       "      <th></th>\n",
       "      <th>region_code</th>\n",
       "      <th>region_desc</th>\n",
       "      <th>region_name</th>\n",
       "    </tr>\n",
       "  </thead>\n",
       "  <tbody>\n",
       "    <tr>\n",
       "      <th>0</th>\n",
       "      <td>0</td>\n",
       "      <td>U.S. Territories</td>\n",
       "      <td>U.S. Territories</td>\n",
       "    </tr>\n",
       "    <tr>\n",
       "      <th>1</th>\n",
       "      <td>1</td>\n",
       "      <td>Region I</td>\n",
       "      <td>Northeast</td>\n",
       "    </tr>\n",
       "    <tr>\n",
       "      <th>2</th>\n",
       "      <td>2</td>\n",
       "      <td>Region II</td>\n",
       "      <td>Midwest</td>\n",
       "    </tr>\n",
       "    <tr>\n",
       "      <th>3</th>\n",
       "      <td>3</td>\n",
       "      <td>Region III</td>\n",
       "      <td>South</td>\n",
       "    </tr>\n",
       "    <tr>\n",
       "      <th>4</th>\n",
       "      <td>4</td>\n",
       "      <td>Region IV</td>\n",
       "      <td>West</td>\n",
       "    </tr>\n",
       "    <tr>\n",
       "      <th>5</th>\n",
       "      <td>99</td>\n",
       "      <td>Other</td>\n",
       "      <td>Other</td>\n",
       "    </tr>\n",
       "  </tbody>\n",
       "</table>\n",
       "</div>"
      ],
      "text/plain": [
       "   region_code       region_desc       region_name\n",
       "0  0            U.S. Territories  U.S. Territories\n",
       "1  1            Region I          Northeast       \n",
       "2  2            Region II         Midwest         \n",
       "3  3            Region III        South           \n",
       "4  4            Region IV         West            \n",
       "5  99           Other             Other           "
      ]
     },
     "execution_count": 13,
     "metadata": {},
     "output_type": "execute_result"
    }
   ],
   "source": [
    "region_df = pd.read_csv(REGION_FILE)\n",
    "region_df"
   ]
  },
  {
   "cell_type": "code",
   "execution_count": 14,
   "metadata": {},
   "outputs": [
    {
     "data": {
      "text/html": [
       "<div>\n",
       "<style scoped>\n",
       "    .dataframe tbody tr th:only-of-type {\n",
       "        vertical-align: middle;\n",
       "    }\n",
       "\n",
       "    .dataframe tbody tr th {\n",
       "        vertical-align: top;\n",
       "    }\n",
       "\n",
       "    .dataframe thead th {\n",
       "        text-align: right;\n",
       "    }\n",
       "</style>\n",
       "<table border=\"1\" class=\"dataframe\">\n",
       "  <thead>\n",
       "    <tr style=\"text-align: right;\">\n",
       "      <th></th>\n",
       "      <th>state_abbr</th>\n",
       "      <th>state_name</th>\n",
       "      <th>region_code</th>\n",
       "      <th>region_name</th>\n",
       "    </tr>\n",
       "  </thead>\n",
       "  <tbody>\n",
       "    <tr>\n",
       "      <th>0</th>\n",
       "      <td>AK</td>\n",
       "      <td>Alaska</td>\n",
       "      <td>4</td>\n",
       "      <td>West</td>\n",
       "    </tr>\n",
       "    <tr>\n",
       "      <th>1</th>\n",
       "      <td>AL</td>\n",
       "      <td>Alabama</td>\n",
       "      <td>3</td>\n",
       "      <td>South</td>\n",
       "    </tr>\n",
       "    <tr>\n",
       "      <th>2</th>\n",
       "      <td>AR</td>\n",
       "      <td>Arkansas</td>\n",
       "      <td>3</td>\n",
       "      <td>South</td>\n",
       "    </tr>\n",
       "    <tr>\n",
       "      <th>3</th>\n",
       "      <td>AS</td>\n",
       "      <td>American Samoa</td>\n",
       "      <td>99</td>\n",
       "      <td>Other</td>\n",
       "    </tr>\n",
       "    <tr>\n",
       "      <th>4</th>\n",
       "      <td>AZ</td>\n",
       "      <td>Arizona</td>\n",
       "      <td>4</td>\n",
       "      <td>West</td>\n",
       "    </tr>\n",
       "    <tr>\n",
       "      <th>5</th>\n",
       "      <td>CA</td>\n",
       "      <td>California</td>\n",
       "      <td>4</td>\n",
       "      <td>West</td>\n",
       "    </tr>\n",
       "    <tr>\n",
       "      <th>6</th>\n",
       "      <td>CO</td>\n",
       "      <td>Colorado</td>\n",
       "      <td>4</td>\n",
       "      <td>West</td>\n",
       "    </tr>\n",
       "    <tr>\n",
       "      <th>7</th>\n",
       "      <td>CT</td>\n",
       "      <td>Connecticut</td>\n",
       "      <td>1</td>\n",
       "      <td>Northeast</td>\n",
       "    </tr>\n",
       "    <tr>\n",
       "      <th>8</th>\n",
       "      <td>CZ</td>\n",
       "      <td>Canal Zone</td>\n",
       "      <td>99</td>\n",
       "      <td>Other</td>\n",
       "    </tr>\n",
       "    <tr>\n",
       "      <th>9</th>\n",
       "      <td>DC</td>\n",
       "      <td>District of Columbia</td>\n",
       "      <td>3</td>\n",
       "      <td>South</td>\n",
       "    </tr>\n",
       "  </tbody>\n",
       "</table>\n",
       "</div>"
      ],
      "text/plain": [
       "  state_abbr            state_name  region_code region_name\n",
       "0  AK         Alaska                4            West      \n",
       "1  AL         Alabama               3            South     \n",
       "2  AR         Arkansas              3            South     \n",
       "3  AS         American Samoa        99           Other     \n",
       "4  AZ         Arizona               4            West      \n",
       "5  CA         California            4            West      \n",
       "6  CO         Colorado              4            West      \n",
       "7  CT         Connecticut           1            Northeast \n",
       "8  CZ         Canal Zone            99           Other     \n",
       "9  DC         District of Columbia  3            South     "
      ]
     },
     "execution_count": 14,
     "metadata": {},
     "output_type": "execute_result"
    },
    {
     "name": "stdout",
     "output_type": "stream",
     "text": [
      "<class 'pandas.core.frame.DataFrame'>\n",
      "RangeIndex: 58 entries, 0 to 57\n",
      "Data columns (total 4 columns):\n",
      "state_abbr     58 non-null object\n",
      "state_name     58 non-null object\n",
      "region_code    58 non-null int64\n",
      "region_name    58 non-null object\n",
      "dtypes: int64(1), object(3)\n",
      "memory usage: 1.9+ KB\n"
     ]
    }
   ],
   "source": [
    "state_full_df = pd.merge(state_df, region_df, how='inner', on='region_code')\n",
    "state_clean_df = state_full_df.sort_values('state_abbr').reset_index()\n",
    "state_clean_df = state_clean_df[['state_abbr', 'state_name', 'region_code', 'region_name']]\n",
    "state_clean_df.head(10)\n",
    "state_clean_df.info()"
   ]
  },
  {
   "cell_type": "markdown",
   "metadata": {},
   "source": [
    "## Load & Clean Arrests"
   ]
  },
  {
   "cell_type": "code",
   "execution_count": 15,
   "metadata": {
    "scrolled": false
   },
   "outputs": [
    {
     "data": {
      "text/html": [
       "<div>\n",
       "<style scoped>\n",
       "    .dataframe tbody tr th:only-of-type {\n",
       "        vertical-align: middle;\n",
       "    }\n",
       "\n",
       "    .dataframe tbody tr th {\n",
       "        vertical-align: top;\n",
       "    }\n",
       "\n",
       "    .dataframe thead th {\n",
       "        text-align: right;\n",
       "    }\n",
       "</style>\n",
       "<table border=\"1\" class=\"dataframe\">\n",
       "  <thead>\n",
       "    <tr style=\"text-align: right;\">\n",
       "      <th></th>\n",
       "      <th>state</th>\n",
       "      <th>year</th>\n",
       "      <th>gender</th>\n",
       "      <th>offense</th>\n",
       "      <th>arrests</th>\n",
       "    </tr>\n",
       "  </thead>\n",
       "  <tbody>\n",
       "    <tr>\n",
       "      <th>0</th>\n",
       "      <td>AK</td>\n",
       "      <td>2000</td>\n",
       "      <td>female</td>\n",
       "      <td>aggravated-assault</td>\n",
       "      <td>194</td>\n",
       "    </tr>\n",
       "    <tr>\n",
       "      <th>1</th>\n",
       "      <td>AK</td>\n",
       "      <td>2000</td>\n",
       "      <td>female</td>\n",
       "      <td>arson</td>\n",
       "      <td>3</td>\n",
       "    </tr>\n",
       "    <tr>\n",
       "      <th>2</th>\n",
       "      <td>AK</td>\n",
       "      <td>2000</td>\n",
       "      <td>female</td>\n",
       "      <td>burglary</td>\n",
       "      <td>49</td>\n",
       "    </tr>\n",
       "    <tr>\n",
       "      <th>3</th>\n",
       "      <td>AK</td>\n",
       "      <td>2000</td>\n",
       "      <td>female</td>\n",
       "      <td>curfew</td>\n",
       "      <td>1</td>\n",
       "    </tr>\n",
       "    <tr>\n",
       "      <th>4</th>\n",
       "      <td>AK</td>\n",
       "      <td>2000</td>\n",
       "      <td>female</td>\n",
       "      <td>disorderly-conduct</td>\n",
       "      <td>221</td>\n",
       "    </tr>\n",
       "  </tbody>\n",
       "</table>\n",
       "</div>"
      ],
      "text/plain": [
       "  state  year  gender             offense  arrests\n",
       "0  AK    2000  female  aggravated-assault  194    \n",
       "1  AK    2000  female  arson               3      \n",
       "2  AK    2000  female  burglary            49     \n",
       "3  AK    2000  female  curfew              1      \n",
       "4  AK    2000  female  disorderly-conduct  221    "
      ]
     },
     "execution_count": 15,
     "metadata": {},
     "output_type": "execute_result"
    },
    {
     "name": "stdout",
     "output_type": "stream",
     "text": [
      "<class 'pandas.core.frame.DataFrame'>\n",
      "RangeIndex: 51102 entries, 0 to 51101\n",
      "Data columns (total 5 columns):\n",
      "state      51102 non-null object\n",
      "year       51102 non-null int64\n",
      "gender     51102 non-null object\n",
      "offense    51102 non-null object\n",
      "arrests    51102 non-null int64\n",
      "dtypes: int64(2), object(3)\n",
      "memory usage: 1.9+ MB\n"
     ]
    }
   ],
   "source": [
    "arrest_df = pd.read_csv(ARREST_FILE)\n",
    "arrest_df = arrest_df.rename(columns={'count': 'arrests'})\n",
    "arrest_df.head()\n",
    "arrest_df.info()"
   ]
  },
  {
   "cell_type": "code",
   "execution_count": 16,
   "metadata": {
    "scrolled": true
   },
   "outputs": [
    {
     "data": {
      "text/html": [
       "<div>\n",
       "<style scoped>\n",
       "    .dataframe tbody tr th:only-of-type {\n",
       "        vertical-align: middle;\n",
       "    }\n",
       "\n",
       "    .dataframe tbody tr th {\n",
       "        vertical-align: top;\n",
       "    }\n",
       "\n",
       "    .dataframe thead th {\n",
       "        text-align: right;\n",
       "    }\n",
       "</style>\n",
       "<table border=\"1\" class=\"dataframe\">\n",
       "  <thead>\n",
       "    <tr style=\"text-align: right;\">\n",
       "      <th></th>\n",
       "      <th>state</th>\n",
       "      <th>year</th>\n",
       "      <th>arrests</th>\n",
       "    </tr>\n",
       "  </thead>\n",
       "  <tbody>\n",
       "    <tr>\n",
       "      <th>0</th>\n",
       "      <td>AK</td>\n",
       "      <td>2000</td>\n",
       "      <td>21354</td>\n",
       "    </tr>\n",
       "    <tr>\n",
       "      <th>1</th>\n",
       "      <td>AK</td>\n",
       "      <td>2001</td>\n",
       "      <td>20267</td>\n",
       "    </tr>\n",
       "    <tr>\n",
       "      <th>2</th>\n",
       "      <td>AK</td>\n",
       "      <td>2002</td>\n",
       "      <td>19818</td>\n",
       "    </tr>\n",
       "    <tr>\n",
       "      <th>3</th>\n",
       "      <td>AK</td>\n",
       "      <td>2003</td>\n",
       "      <td>22746</td>\n",
       "    </tr>\n",
       "    <tr>\n",
       "      <th>4</th>\n",
       "      <td>AK</td>\n",
       "      <td>2004</td>\n",
       "      <td>21027</td>\n",
       "    </tr>\n",
       "  </tbody>\n",
       "</table>\n",
       "</div>"
      ],
      "text/plain": [
       "  state  year  arrests\n",
       "0  AK    2000  21354  \n",
       "1  AK    2001  20267  \n",
       "2  AK    2002  19818  \n",
       "3  AK    2003  22746  \n",
       "4  AK    2004  21027  "
      ]
     },
     "execution_count": 16,
     "metadata": {},
     "output_type": "execute_result"
    },
    {
     "name": "stdout",
     "output_type": "stream",
     "text": [
      "<class 'pandas.core.frame.DataFrame'>\n",
      "RangeIndex: 952 entries, 0 to 951\n",
      "Data columns (total 3 columns):\n",
      "state      952 non-null object\n",
      "year       952 non-null int64\n",
      "arrests    952 non-null int64\n",
      "dtypes: int64(2), object(1)\n",
      "memory usage: 22.4+ KB\n"
     ]
    }
   ],
   "source": [
    "# group the data to get rid of gender and offense column \n",
    "\n",
    "arrest_total_df = arrest_df.groupby(['state', 'year']).sum().sort_values(['state', 'year'])\n",
    "arrest_total_df = arrest_total_df.reset_index()\n",
    "arrest_total_df.head()\n",
    "arrest_total_df.info()"
   ]
  },
  {
   "cell_type": "code",
   "execution_count": 17,
   "metadata": {},
   "outputs": [
    {
     "data": {
      "text/plain": [
       "<matplotlib.axes._subplots.AxesSubplot at 0x1a21330f98>"
      ]
     },
     "execution_count": 17,
     "metadata": {},
     "output_type": "execute_result"
    },
    {
     "data": {
      "image/png": "[encoded data removed]",
      "text/plain": [
       "<Figure size 432x288 with 1 Axes>"
      ]
     },
     "metadata": {
      "needs_background": "light"
     },
     "output_type": "display_data"
    }
   ],
   "source": [
    "# examine the arrest data\n",
    "\n",
    "arrest_total_df.boxplot(column=['arrests'])"
   ]
  },
  {
   "cell_type": "markdown",
   "metadata": {},
   "source": [
    "## Load Employment for Population"
   ]
  },
  {
   "cell_type": "code",
   "execution_count": 18,
   "metadata": {},
   "outputs": [
    {
     "data": {
      "text/html": [
       "<div>\n",
       "<style scoped>\n",
       "    .dataframe tbody tr th:only-of-type {\n",
       "        vertical-align: middle;\n",
       "    }\n",
       "\n",
       "    .dataframe tbody tr th {\n",
       "        vertical-align: top;\n",
       "    }\n",
       "\n",
       "    .dataframe thead th {\n",
       "        text-align: right;\n",
       "    }\n",
       "</style>\n",
       "<table border=\"1\" class=\"dataframe\">\n",
       "  <thead>\n",
       "    <tr style=\"text-align: right;\">\n",
       "      <th></th>\n",
       "      <th>agency_ct</th>\n",
       "      <th>civilian_ct</th>\n",
       "      <th>year</th>\n",
       "      <th>female_civilian_ct</th>\n",
       "      <th>female_officer_ct</th>\n",
       "      <th>female_total_ct</th>\n",
       "      <th>male_civilian_ct</th>\n",
       "      <th>male_officer_ct</th>\n",
       "      <th>male_total_ct</th>\n",
       "      <th>pe_ct_per_1000</th>\n",
       "      <th>population</th>\n",
       "      <th>state_abbr</th>\n",
       "      <th>state_name</th>\n",
       "      <th>total_pe_ct</th>\n",
       "    </tr>\n",
       "  </thead>\n",
       "  <tbody>\n",
       "    <tr>\n",
       "      <th>0</th>\n",
       "      <td>32</td>\n",
       "      <td>675.0</td>\n",
       "      <td>2000</td>\n",
       "      <td>475.0</td>\n",
       "      <td>103.0</td>\n",
       "      <td>578.0</td>\n",
       "      <td>200.0</td>\n",
       "      <td>1055.0</td>\n",
       "      <td>1255.0</td>\n",
       "      <td>2.92</td>\n",
       "      <td>626932</td>\n",
       "      <td>AK</td>\n",
       "      <td>Alaska</td>\n",
       "      <td>1833.0</td>\n",
       "    </tr>\n",
       "    <tr>\n",
       "      <th>1</th>\n",
       "      <td>33</td>\n",
       "      <td>661.0</td>\n",
       "      <td>2001</td>\n",
       "      <td>463.0</td>\n",
       "      <td>107.0</td>\n",
       "      <td>570.0</td>\n",
       "      <td>198.0</td>\n",
       "      <td>1097.0</td>\n",
       "      <td>1295.0</td>\n",
       "      <td>2.94</td>\n",
       "      <td>634892</td>\n",
       "      <td>AK</td>\n",
       "      <td>Alaska</td>\n",
       "      <td>1865.0</td>\n",
       "    </tr>\n",
       "    <tr>\n",
       "      <th>2</th>\n",
       "      <td>33</td>\n",
       "      <td>701.0</td>\n",
       "      <td>2002</td>\n",
       "      <td>482.0</td>\n",
       "      <td>112.0</td>\n",
       "      <td>594.0</td>\n",
       "      <td>219.0</td>\n",
       "      <td>1091.0</td>\n",
       "      <td>1310.0</td>\n",
       "      <td>2.96</td>\n",
       "      <td>643893</td>\n",
       "      <td>AK</td>\n",
       "      <td>Alaska</td>\n",
       "      <td>1904.0</td>\n",
       "    </tr>\n",
       "    <tr>\n",
       "      <th>3</th>\n",
       "      <td>33</td>\n",
       "      <td>682.0</td>\n",
       "      <td>2003</td>\n",
       "      <td>470.0</td>\n",
       "      <td>111.0</td>\n",
       "      <td>581.0</td>\n",
       "      <td>212.0</td>\n",
       "      <td>1063.0</td>\n",
       "      <td>1275.0</td>\n",
       "      <td>2.86</td>\n",
       "      <td>648921</td>\n",
       "      <td>AK</td>\n",
       "      <td>Alaska</td>\n",
       "      <td>1856.0</td>\n",
       "    </tr>\n",
       "    <tr>\n",
       "      <th>4</th>\n",
       "      <td>34</td>\n",
       "      <td>688.0</td>\n",
       "      <td>2004</td>\n",
       "      <td>470.0</td>\n",
       "      <td>127.0</td>\n",
       "      <td>597.0</td>\n",
       "      <td>218.0</td>\n",
       "      <td>1125.0</td>\n",
       "      <td>1343.0</td>\n",
       "      <td>2.96</td>\n",
       "      <td>655932</td>\n",
       "      <td>AK</td>\n",
       "      <td>Alaska</td>\n",
       "      <td>1940.0</td>\n",
       "    </tr>\n",
       "  </tbody>\n",
       "</table>\n",
       "</div>"
      ],
      "text/plain": [
       "   agency_ct  civilian_ct  year  female_civilian_ct  female_officer_ct  \\\n",
       "0  32         675.0        2000  475.0               103.0               \n",
       "1  33         661.0        2001  463.0               107.0               \n",
       "2  33         701.0        2002  482.0               112.0               \n",
       "3  33         682.0        2003  470.0               111.0               \n",
       "4  34         688.0        2004  470.0               127.0               \n",
       "\n",
       "   female_total_ct  male_civilian_ct  male_officer_ct  male_total_ct  \\\n",
       "0  578.0            200.0             1055.0           1255.0          \n",
       "1  570.0            198.0             1097.0           1295.0          \n",
       "2  594.0            219.0             1091.0           1310.0          \n",
       "3  581.0            212.0             1063.0           1275.0          \n",
       "4  597.0            218.0             1125.0           1343.0          \n",
       "\n",
       "   pe_ct_per_1000  population state_abbr state_name  total_pe_ct  \n",
       "0  2.92            626932      AK         Alaska     1833.0       \n",
       "1  2.94            634892      AK         Alaska     1865.0       \n",
       "2  2.96            643893      AK         Alaska     1904.0       \n",
       "3  2.86            648921      AK         Alaska     1856.0       \n",
       "4  2.96            655932      AK         Alaska     1940.0       "
      ]
     },
     "execution_count": 18,
     "metadata": {},
     "output_type": "execute_result"
    },
    {
     "name": "stdout",
     "output_type": "stream",
     "text": [
      "<class 'pandas.core.frame.DataFrame'>\n",
      "RangeIndex: 969 entries, 0 to 968\n",
      "Data columns (total 14 columns):\n",
      "agency_ct             969 non-null int64\n",
      "civilian_ct           969 non-null float64\n",
      "year                  969 non-null int64\n",
      "female_civilian_ct    969 non-null float64\n",
      "female_officer_ct     969 non-null float64\n",
      "female_total_ct       969 non-null float64\n",
      "male_civilian_ct      969 non-null float64\n",
      "male_officer_ct       969 non-null float64\n",
      "male_total_ct         969 non-null float64\n",
      "pe_ct_per_1000        969 non-null float64\n",
      "population            969 non-null int64\n",
      "state_abbr            969 non-null object\n",
      "state_name            969 non-null object\n",
      "total_pe_ct           969 non-null float64\n",
      "dtypes: float64(9), int64(3), object(2)\n",
      "memory usage: 106.1+ KB\n"
     ]
    }
   ],
   "source": [
    "employment_df = pd.read_csv(EMPLOYMENT_FILE)\n",
    "employment_df.head()\n",
    "employment_df.info()"
   ]
  },
  {
   "cell_type": "code",
   "execution_count": 19,
   "metadata": {},
   "outputs": [
    {
     "data": {
      "text/html": [
       "<div>\n",
       "<style scoped>\n",
       "    .dataframe tbody tr th:only-of-type {\n",
       "        vertical-align: middle;\n",
       "    }\n",
       "\n",
       "    .dataframe tbody tr th {\n",
       "        vertical-align: top;\n",
       "    }\n",
       "\n",
       "    .dataframe thead th {\n",
       "        text-align: right;\n",
       "    }\n",
       "</style>\n",
       "<table border=\"1\" class=\"dataframe\">\n",
       "  <thead>\n",
       "    <tr style=\"text-align: right;\">\n",
       "      <th></th>\n",
       "      <th>state_abbr</th>\n",
       "      <th>year</th>\n",
       "      <th>population</th>\n",
       "    </tr>\n",
       "  </thead>\n",
       "  <tbody>\n",
       "    <tr>\n",
       "      <th>0</th>\n",
       "      <td>AK</td>\n",
       "      <td>2000</td>\n",
       "      <td>626932</td>\n",
       "    </tr>\n",
       "    <tr>\n",
       "      <th>1</th>\n",
       "      <td>AK</td>\n",
       "      <td>2001</td>\n",
       "      <td>634892</td>\n",
       "    </tr>\n",
       "    <tr>\n",
       "      <th>2</th>\n",
       "      <td>AK</td>\n",
       "      <td>2002</td>\n",
       "      <td>643893</td>\n",
       "    </tr>\n",
       "    <tr>\n",
       "      <th>3</th>\n",
       "      <td>AK</td>\n",
       "      <td>2003</td>\n",
       "      <td>648921</td>\n",
       "    </tr>\n",
       "    <tr>\n",
       "      <th>4</th>\n",
       "      <td>AK</td>\n",
       "      <td>2004</td>\n",
       "      <td>655932</td>\n",
       "    </tr>\n",
       "  </tbody>\n",
       "</table>\n",
       "</div>"
      ],
      "text/plain": [
       "  state_abbr  year  population\n",
       "0  AK         2000  626932    \n",
       "1  AK         2001  634892    \n",
       "2  AK         2002  643893    \n",
       "3  AK         2003  648921    \n",
       "4  AK         2004  655932    "
      ]
     },
     "execution_count": 19,
     "metadata": {},
     "output_type": "execute_result"
    }
   ],
   "source": [
    "# keep only the necessary columns\n",
    "\n",
    "population_df = employment_df[['state_abbr', 'year', 'population']]\n",
    "population_df.head()"
   ]
  },
  {
   "cell_type": "code",
   "execution_count": 20,
   "metadata": {},
   "outputs": [
    {
     "data": {
      "text/html": [
       "<div>\n",
       "<style scoped>\n",
       "    .dataframe tbody tr th:only-of-type {\n",
       "        vertical-align: middle;\n",
       "    }\n",
       "\n",
       "    .dataframe tbody tr th {\n",
       "        vertical-align: top;\n",
       "    }\n",
       "\n",
       "    .dataframe thead th {\n",
       "        text-align: right;\n",
       "    }\n",
       "</style>\n",
       "<table border=\"1\" class=\"dataframe\">\n",
       "  <thead>\n",
       "    <tr style=\"text-align: right;\">\n",
       "      <th></th>\n",
       "      <th>state_abbr</th>\n",
       "      <th>population</th>\n",
       "    </tr>\n",
       "    <tr>\n",
       "      <th>year</th>\n",
       "      <th></th>\n",
       "      <th></th>\n",
       "    </tr>\n",
       "  </thead>\n",
       "  <tbody>\n",
       "    <tr>\n",
       "      <th>2000</th>\n",
       "      <td>51</td>\n",
       "      <td>51</td>\n",
       "    </tr>\n",
       "    <tr>\n",
       "      <th>2001</th>\n",
       "      <td>51</td>\n",
       "      <td>51</td>\n",
       "    </tr>\n",
       "    <tr>\n",
       "      <th>2002</th>\n",
       "      <td>51</td>\n",
       "      <td>51</td>\n",
       "    </tr>\n",
       "    <tr>\n",
       "      <th>2003</th>\n",
       "      <td>51</td>\n",
       "      <td>51</td>\n",
       "    </tr>\n",
       "    <tr>\n",
       "      <th>2004</th>\n",
       "      <td>51</td>\n",
       "      <td>51</td>\n",
       "    </tr>\n",
       "    <tr>\n",
       "      <th>2005</th>\n",
       "      <td>51</td>\n",
       "      <td>51</td>\n",
       "    </tr>\n",
       "    <tr>\n",
       "      <th>2006</th>\n",
       "      <td>51</td>\n",
       "      <td>51</td>\n",
       "    </tr>\n",
       "    <tr>\n",
       "      <th>2007</th>\n",
       "      <td>51</td>\n",
       "      <td>51</td>\n",
       "    </tr>\n",
       "    <tr>\n",
       "      <th>2008</th>\n",
       "      <td>51</td>\n",
       "      <td>51</td>\n",
       "    </tr>\n",
       "    <tr>\n",
       "      <th>2009</th>\n",
       "      <td>51</td>\n",
       "      <td>51</td>\n",
       "    </tr>\n",
       "    <tr>\n",
       "      <th>2010</th>\n",
       "      <td>51</td>\n",
       "      <td>51</td>\n",
       "    </tr>\n",
       "    <tr>\n",
       "      <th>2011</th>\n",
       "      <td>51</td>\n",
       "      <td>51</td>\n",
       "    </tr>\n",
       "    <tr>\n",
       "      <th>2012</th>\n",
       "      <td>51</td>\n",
       "      <td>51</td>\n",
       "    </tr>\n",
       "    <tr>\n",
       "      <th>2013</th>\n",
       "      <td>51</td>\n",
       "      <td>51</td>\n",
       "    </tr>\n",
       "    <tr>\n",
       "      <th>2014</th>\n",
       "      <td>51</td>\n",
       "      <td>51</td>\n",
       "    </tr>\n",
       "    <tr>\n",
       "      <th>2015</th>\n",
       "      <td>51</td>\n",
       "      <td>51</td>\n",
       "    </tr>\n",
       "    <tr>\n",
       "      <th>2016</th>\n",
       "      <td>51</td>\n",
       "      <td>51</td>\n",
       "    </tr>\n",
       "    <tr>\n",
       "      <th>2017</th>\n",
       "      <td>51</td>\n",
       "      <td>51</td>\n",
       "    </tr>\n",
       "    <tr>\n",
       "      <th>2018</th>\n",
       "      <td>51</td>\n",
       "      <td>51</td>\n",
       "    </tr>\n",
       "  </tbody>\n",
       "</table>\n",
       "</div>"
      ],
      "text/plain": [
       "      state_abbr  population\n",
       "year                        \n",
       "2000  51          51        \n",
       "2001  51          51        \n",
       "2002  51          51        \n",
       "2003  51          51        \n",
       "2004  51          51        \n",
       "2005  51          51        \n",
       "2006  51          51        \n",
       "2007  51          51        \n",
       "2008  51          51        \n",
       "2009  51          51        \n",
       "2010  51          51        \n",
       "2011  51          51        \n",
       "2012  51          51        \n",
       "2013  51          51        \n",
       "2014  51          51        \n",
       "2015  51          51        \n",
       "2016  51          51        \n",
       "2017  51          51        \n",
       "2018  51          51        "
      ]
     },
     "execution_count": 20,
     "metadata": {},
     "output_type": "execute_result"
    }
   ],
   "source": [
    "# confirm that there are the expected number of states per year\n",
    "\n",
    "population_df.groupby('year').count()"
   ]
  },
  {
   "cell_type": "code",
   "execution_count": 21,
   "metadata": {},
   "outputs": [
    {
     "data": {
      "text/plain": [
       "<matplotlib.axes._subplots.AxesSubplot at 0x1a23161400>"
      ]
     },
     "execution_count": 21,
     "metadata": {},
     "output_type": "execute_result"
    },
    {
     "data": {
      "image/png": "[encoded data removed]",
      "text/plain": [
       "<Figure size 432x288 with 1 Axes>"
      ]
     },
     "metadata": {
      "needs_background": "light"
     },
     "output_type": "display_data"
    }
   ],
   "source": [
    "# visualize the data\n",
    "\n",
    "population_df.boxplot(column='population')"
   ]
  },
  {
   "cell_type": "markdown",
   "metadata": {},
   "source": [
    "## Merge Arrests and Population Data"
   ]
  },
  {
   "cell_type": "code",
   "execution_count": 22,
   "metadata": {
    "scrolled": true
   },
   "outputs": [
    {
     "data": {
      "text/html": [
       "<div>\n",
       "<style scoped>\n",
       "    .dataframe tbody tr th:only-of-type {\n",
       "        vertical-align: middle;\n",
       "    }\n",
       "\n",
       "    .dataframe tbody tr th {\n",
       "        vertical-align: top;\n",
       "    }\n",
       "\n",
       "    .dataframe thead th {\n",
       "        text-align: right;\n",
       "    }\n",
       "</style>\n",
       "<table border=\"1\" class=\"dataframe\">\n",
       "  <thead>\n",
       "    <tr style=\"text-align: right;\">\n",
       "      <th></th>\n",
       "      <th>state</th>\n",
       "      <th>year</th>\n",
       "      <th>arrests</th>\n",
       "      <th>state_abbr</th>\n",
       "      <th>population</th>\n",
       "    </tr>\n",
       "  </thead>\n",
       "  <tbody>\n",
       "    <tr>\n",
       "      <th>0</th>\n",
       "      <td>AK</td>\n",
       "      <td>2000</td>\n",
       "      <td>21354</td>\n",
       "      <td>AK</td>\n",
       "      <td>626932</td>\n",
       "    </tr>\n",
       "    <tr>\n",
       "      <th>1</th>\n",
       "      <td>AK</td>\n",
       "      <td>2001</td>\n",
       "      <td>20267</td>\n",
       "      <td>AK</td>\n",
       "      <td>634892</td>\n",
       "    </tr>\n",
       "    <tr>\n",
       "      <th>2</th>\n",
       "      <td>AK</td>\n",
       "      <td>2002</td>\n",
       "      <td>19818</td>\n",
       "      <td>AK</td>\n",
       "      <td>643893</td>\n",
       "    </tr>\n",
       "    <tr>\n",
       "      <th>3</th>\n",
       "      <td>AK</td>\n",
       "      <td>2003</td>\n",
       "      <td>22746</td>\n",
       "      <td>AK</td>\n",
       "      <td>648921</td>\n",
       "    </tr>\n",
       "    <tr>\n",
       "      <th>4</th>\n",
       "      <td>AK</td>\n",
       "      <td>2004</td>\n",
       "      <td>21027</td>\n",
       "      <td>AK</td>\n",
       "      <td>655932</td>\n",
       "    </tr>\n",
       "  </tbody>\n",
       "</table>\n",
       "</div>"
      ],
      "text/plain": [
       "  state  year  arrests state_abbr  population\n",
       "0  AK    2000  21354    AK         626932    \n",
       "1  AK    2001  20267    AK         634892    \n",
       "2  AK    2002  19818    AK         643893    \n",
       "3  AK    2003  22746    AK         648921    \n",
       "4  AK    2004  21027    AK         655932    "
      ]
     },
     "execution_count": 22,
     "metadata": {},
     "output_type": "execute_result"
    },
    {
     "data": {
      "text/plain": [
       "(949, 5)"
      ]
     },
     "execution_count": 22,
     "metadata": {},
     "output_type": "execute_result"
    }
   ],
   "source": [
    "# merge arrests and employment data\n",
    "\n",
    "merge_1_df = pd.merge(arrest_total_df, population_df, how='inner', \n",
    "                      left_on=['state', 'year'], right_on=['state_abbr', 'year'])\n",
    "merge_1_df.head()\n",
    "merge_1_df.shape"
   ]
  },
  {
   "cell_type": "code",
   "execution_count": 23,
   "metadata": {
    "scrolled": true
   },
   "outputs": [
    {
     "data": {
      "text/html": [
       "<div>\n",
       "<style scoped>\n",
       "    .dataframe tbody tr th:only-of-type {\n",
       "        vertical-align: middle;\n",
       "    }\n",
       "\n",
       "    .dataframe tbody tr th {\n",
       "        vertical-align: top;\n",
       "    }\n",
       "\n",
       "    .dataframe thead th {\n",
       "        text-align: right;\n",
       "    }\n",
       "</style>\n",
       "<table border=\"1\" class=\"dataframe\">\n",
       "  <thead>\n",
       "    <tr style=\"text-align: right;\">\n",
       "      <th></th>\n",
       "      <th>state</th>\n",
       "      <th>year</th>\n",
       "      <th>arrests</th>\n",
       "      <th>state_abbr_x</th>\n",
       "      <th>population</th>\n",
       "      <th>state_abbr_y</th>\n",
       "      <th>state_name</th>\n",
       "      <th>region_code</th>\n",
       "      <th>region_name</th>\n",
       "    </tr>\n",
       "  </thead>\n",
       "  <tbody>\n",
       "    <tr>\n",
       "      <th>0</th>\n",
       "      <td>AK</td>\n",
       "      <td>2000</td>\n",
       "      <td>21354</td>\n",
       "      <td>AK</td>\n",
       "      <td>626932</td>\n",
       "      <td>AK</td>\n",
       "      <td>Alaska</td>\n",
       "      <td>4</td>\n",
       "      <td>West</td>\n",
       "    </tr>\n",
       "    <tr>\n",
       "      <th>1</th>\n",
       "      <td>AK</td>\n",
       "      <td>2001</td>\n",
       "      <td>20267</td>\n",
       "      <td>AK</td>\n",
       "      <td>634892</td>\n",
       "      <td>AK</td>\n",
       "      <td>Alaska</td>\n",
       "      <td>4</td>\n",
       "      <td>West</td>\n",
       "    </tr>\n",
       "    <tr>\n",
       "      <th>2</th>\n",
       "      <td>AK</td>\n",
       "      <td>2002</td>\n",
       "      <td>19818</td>\n",
       "      <td>AK</td>\n",
       "      <td>643893</td>\n",
       "      <td>AK</td>\n",
       "      <td>Alaska</td>\n",
       "      <td>4</td>\n",
       "      <td>West</td>\n",
       "    </tr>\n",
       "    <tr>\n",
       "      <th>3</th>\n",
       "      <td>AK</td>\n",
       "      <td>2003</td>\n",
       "      <td>22746</td>\n",
       "      <td>AK</td>\n",
       "      <td>648921</td>\n",
       "      <td>AK</td>\n",
       "      <td>Alaska</td>\n",
       "      <td>4</td>\n",
       "      <td>West</td>\n",
       "    </tr>\n",
       "    <tr>\n",
       "      <th>4</th>\n",
       "      <td>AK</td>\n",
       "      <td>2004</td>\n",
       "      <td>21027</td>\n",
       "      <td>AK</td>\n",
       "      <td>655932</td>\n",
       "      <td>AK</td>\n",
       "      <td>Alaska</td>\n",
       "      <td>4</td>\n",
       "      <td>West</td>\n",
       "    </tr>\n",
       "  </tbody>\n",
       "</table>\n",
       "</div>"
      ],
      "text/plain": [
       "  state  year  arrests state_abbr_x  population state_abbr_y state_name  \\\n",
       "0  AK    2000  21354    AK           626932      AK           Alaska      \n",
       "1  AK    2001  20267    AK           634892      AK           Alaska      \n",
       "2  AK    2002  19818    AK           643893      AK           Alaska      \n",
       "3  AK    2003  22746    AK           648921      AK           Alaska      \n",
       "4  AK    2004  21027    AK           655932      AK           Alaska      \n",
       "\n",
       "   region_code region_name  \n",
       "0  4            West        \n",
       "1  4            West        \n",
       "2  4            West        \n",
       "3  4            West        \n",
       "4  4            West        "
      ]
     },
     "execution_count": 23,
     "metadata": {},
     "output_type": "execute_result"
    }
   ],
   "source": [
    "# merge the region information to group by regions later\n",
    "\n",
    "merge_2_df = pd.merge(merge_1_df, state_clean_df, how='inner', left_on=['state'], right_on=['state_abbr'])\n",
    "merge_2_df.head()"
   ]
  },
  {
   "cell_type": "code",
   "execution_count": 24,
   "metadata": {},
   "outputs": [
    {
     "data": {
      "text/html": [
       "<div>\n",
       "<style scoped>\n",
       "    .dataframe tbody tr th:only-of-type {\n",
       "        vertical-align: middle;\n",
       "    }\n",
       "\n",
       "    .dataframe tbody tr th {\n",
       "        vertical-align: top;\n",
       "    }\n",
       "\n",
       "    .dataframe thead th {\n",
       "        text-align: right;\n",
       "    }\n",
       "</style>\n",
       "<table border=\"1\" class=\"dataframe\">\n",
       "  <thead>\n",
       "    <tr style=\"text-align: right;\">\n",
       "      <th></th>\n",
       "      <th>region_name</th>\n",
       "      <th>state</th>\n",
       "      <th>year</th>\n",
       "      <th>arrests</th>\n",
       "      <th>population</th>\n",
       "    </tr>\n",
       "  </thead>\n",
       "  <tbody>\n",
       "    <tr>\n",
       "      <th>0</th>\n",
       "      <td>West</td>\n",
       "      <td>AK</td>\n",
       "      <td>2000</td>\n",
       "      <td>21354</td>\n",
       "      <td>626932</td>\n",
       "    </tr>\n",
       "    <tr>\n",
       "      <th>1</th>\n",
       "      <td>West</td>\n",
       "      <td>AK</td>\n",
       "      <td>2001</td>\n",
       "      <td>20267</td>\n",
       "      <td>634892</td>\n",
       "    </tr>\n",
       "    <tr>\n",
       "      <th>2</th>\n",
       "      <td>West</td>\n",
       "      <td>AK</td>\n",
       "      <td>2002</td>\n",
       "      <td>19818</td>\n",
       "      <td>643893</td>\n",
       "    </tr>\n",
       "    <tr>\n",
       "      <th>3</th>\n",
       "      <td>West</td>\n",
       "      <td>AK</td>\n",
       "      <td>2003</td>\n",
       "      <td>22746</td>\n",
       "      <td>648921</td>\n",
       "    </tr>\n",
       "    <tr>\n",
       "      <th>4</th>\n",
       "      <td>West</td>\n",
       "      <td>AK</td>\n",
       "      <td>2004</td>\n",
       "      <td>21027</td>\n",
       "      <td>655932</td>\n",
       "    </tr>\n",
       "  </tbody>\n",
       "</table>\n",
       "</div>"
      ],
      "text/plain": [
       "  region_name state  year  arrests  population\n",
       "0  West        AK    2000  21354    626932    \n",
       "1  West        AK    2001  20267    634892    \n",
       "2  West        AK    2002  19818    643893    \n",
       "3  West        AK    2003  22746    648921    \n",
       "4  West        AK    2004  21027    655932    "
      ]
     },
     "execution_count": 24,
     "metadata": {},
     "output_type": "execute_result"
    },
    {
     "data": {
      "text/plain": [
       "(949, 5)"
      ]
     },
     "execution_count": 24,
     "metadata": {},
     "output_type": "execute_result"
    }
   ],
   "source": [
    "# keep only columns that will be used\n",
    "\n",
    "merge_df = merge_2_df[['region_name', 'state', 'year', 'arrests', 'population']]\n",
    "merge_df.head()\n",
    "merge_df.shape"
   ]
  },
  {
   "cell_type": "markdown",
   "metadata": {},
   "source": [
    "## Analyze & Clean the Merged Data"
   ]
  },
  {
   "cell_type": "code",
   "execution_count": 25,
   "metadata": {},
   "outputs": [
    {
     "name": "stderr",
     "output_type": "stream",
     "text": [
      "/Users/philbert/anaconda3/lib/python3.7/site-packages/ipykernel_launcher.py:1: SettingWithCopyWarning: \n",
      "A value is trying to be set on a copy of a slice from a DataFrame.\n",
      "Try using .loc[row_indexer,col_indexer] = value instead\n",
      "\n",
      "See the caveats in the documentation: http://pandas.pydata.org/pandas-docs/stable/indexing.html#indexing-view-versus-copy\n",
      "  \"\"\"Entry point for launching an IPython kernel.\n"
     ]
    },
    {
     "data": {
      "text/html": [
       "<div>\n",
       "<style scoped>\n",
       "    .dataframe tbody tr th:only-of-type {\n",
       "        vertical-align: middle;\n",
       "    }\n",
       "\n",
       "    .dataframe tbody tr th {\n",
       "        vertical-align: top;\n",
       "    }\n",
       "\n",
       "    .dataframe thead th {\n",
       "        text-align: right;\n",
       "    }\n",
       "</style>\n",
       "<table border=\"1\" class=\"dataframe\">\n",
       "  <thead>\n",
       "    <tr style=\"text-align: right;\">\n",
       "      <th></th>\n",
       "      <th>region_name</th>\n",
       "      <th>state</th>\n",
       "      <th>year</th>\n",
       "      <th>arrests</th>\n",
       "      <th>population</th>\n",
       "      <th>arrest_popu</th>\n",
       "    </tr>\n",
       "  </thead>\n",
       "  <tbody>\n",
       "    <tr>\n",
       "      <th>0</th>\n",
       "      <td>West</td>\n",
       "      <td>AK</td>\n",
       "      <td>2000</td>\n",
       "      <td>21354</td>\n",
       "      <td>626932</td>\n",
       "      <td>0.034061</td>\n",
       "    </tr>\n",
       "    <tr>\n",
       "      <th>1</th>\n",
       "      <td>West</td>\n",
       "      <td>AK</td>\n",
       "      <td>2001</td>\n",
       "      <td>20267</td>\n",
       "      <td>634892</td>\n",
       "      <td>0.031922</td>\n",
       "    </tr>\n",
       "    <tr>\n",
       "      <th>2</th>\n",
       "      <td>West</td>\n",
       "      <td>AK</td>\n",
       "      <td>2002</td>\n",
       "      <td>19818</td>\n",
       "      <td>643893</td>\n",
       "      <td>0.030778</td>\n",
       "    </tr>\n",
       "    <tr>\n",
       "      <th>3</th>\n",
       "      <td>West</td>\n",
       "      <td>AK</td>\n",
       "      <td>2003</td>\n",
       "      <td>22746</td>\n",
       "      <td>648921</td>\n",
       "      <td>0.035052</td>\n",
       "    </tr>\n",
       "    <tr>\n",
       "      <th>4</th>\n",
       "      <td>West</td>\n",
       "      <td>AK</td>\n",
       "      <td>2004</td>\n",
       "      <td>21027</td>\n",
       "      <td>655932</td>\n",
       "      <td>0.032057</td>\n",
       "    </tr>\n",
       "  </tbody>\n",
       "</table>\n",
       "</div>"
      ],
      "text/plain": [
       "  region_name state  year  arrests  population  arrest_popu\n",
       "0  West        AK    2000  21354    626932      0.034061   \n",
       "1  West        AK    2001  20267    634892      0.031922   \n",
       "2  West        AK    2002  19818    643893      0.030778   \n",
       "3  West        AK    2003  22746    648921      0.035052   \n",
       "4  West        AK    2004  21027    655932      0.032057   "
      ]
     },
     "execution_count": 25,
     "metadata": {},
     "output_type": "execute_result"
    },
    {
     "name": "stdout",
     "output_type": "stream",
     "text": [
      "<class 'pandas.core.frame.DataFrame'>\n",
      "Int64Index: 949 entries, 0 to 948\n",
      "Data columns (total 6 columns):\n",
      "region_name    949 non-null object\n",
      "state          949 non-null object\n",
      "year           949 non-null int64\n",
      "arrests        949 non-null int64\n",
      "population     949 non-null int64\n",
      "arrest_popu    949 non-null float64\n",
      "dtypes: float64(1), int64(3), object(2)\n",
      "memory usage: 51.9+ KB\n"
     ]
    }
   ],
   "source": [
    "merge_df['arrest_popu'] = round(merge_df['arrests'] / merge_df['population'], 6)\n",
    "merge_df.head()\n",
    "merge_df.info()"
   ]
  },
  {
   "cell_type": "code",
   "execution_count": 26,
   "metadata": {
    "scrolled": true
   },
   "outputs": [
    {
     "data": {
      "text/plain": [
       "<matplotlib.axes._subplots.AxesSubplot at 0x1a231f0748>"
      ]
     },
     "execution_count": 26,
     "metadata": {},
     "output_type": "execute_result"
    },
    {
     "data": {
      "image/png": "[encoded data removed]",
      "text/plain": [
       "<Figure size 432x288 with 1 Axes>"
      ]
     },
     "metadata": {
      "needs_background": "light"
     },
     "output_type": "display_data"
    }
   ],
   "source": [
    "merge_df.boxplot(column=['arrest_popu'])"
   ]
  },
  {
   "cell_type": "code",
   "execution_count": 27,
   "metadata": {},
   "outputs": [
    {
     "data": {
      "text/plain": [
       "(923, 6)"
      ]
     },
     "execution_count": 27,
     "metadata": {},
     "output_type": "execute_result"
    },
    {
     "data": {
      "text/plain": [
       "<matplotlib.axes._subplots.AxesSubplot at 0x1a21c5c278>"
      ]
     },
     "execution_count": 27,
     "metadata": {},
     "output_type": "execute_result"
    },
    {
     "data": {
      "image/png": "[encoded data removed]",
      "text/plain": [
       "<Figure size 432x288 with 1 Axes>"
      ]
     },
     "metadata": {
      "needs_background": "light"
     },
     "output_type": "display_data"
    }
   ],
   "source": [
    "# throw out anomalous data\n",
    "\n",
    "merge_filter_df = merge_df.loc[merge_df['arrest_popu'].between(0.004, 0.05)]\n",
    "merge_filter_df.shape\n",
    "merge_filter_df.boxplot(column=['arrest_popu'])"
   ]
  },
  {
   "cell_type": "code",
   "execution_count": 28,
   "metadata": {},
   "outputs": [
    {
     "data": {
      "text/html": [
       "<div>\n",
       "<style scoped>\n",
       "    .dataframe tbody tr th:only-of-type {\n",
       "        vertical-align: middle;\n",
       "    }\n",
       "\n",
       "    .dataframe tbody tr th {\n",
       "        vertical-align: top;\n",
       "    }\n",
       "\n",
       "    .dataframe thead th {\n",
       "        text-align: right;\n",
       "    }\n",
       "</style>\n",
       "<table border=\"1\" class=\"dataframe\">\n",
       "  <thead>\n",
       "    <tr style=\"text-align: right;\">\n",
       "      <th></th>\n",
       "      <th>state</th>\n",
       "    </tr>\n",
       "    <tr>\n",
       "      <th>year</th>\n",
       "      <th></th>\n",
       "    </tr>\n",
       "  </thead>\n",
       "  <tbody>\n",
       "    <tr>\n",
       "      <th>2000</th>\n",
       "      <td>47</td>\n",
       "    </tr>\n",
       "    <tr>\n",
       "      <th>2001</th>\n",
       "      <td>49</td>\n",
       "    </tr>\n",
       "    <tr>\n",
       "      <th>2002</th>\n",
       "      <td>48</td>\n",
       "    </tr>\n",
       "    <tr>\n",
       "      <th>2003</th>\n",
       "      <td>49</td>\n",
       "    </tr>\n",
       "    <tr>\n",
       "      <th>2004</th>\n",
       "      <td>49</td>\n",
       "    </tr>\n",
       "    <tr>\n",
       "      <th>2005</th>\n",
       "      <td>49</td>\n",
       "    </tr>\n",
       "    <tr>\n",
       "      <th>2006</th>\n",
       "      <td>49</td>\n",
       "    </tr>\n",
       "    <tr>\n",
       "      <th>2007</th>\n",
       "      <td>48</td>\n",
       "    </tr>\n",
       "    <tr>\n",
       "      <th>2008</th>\n",
       "      <td>48</td>\n",
       "    </tr>\n",
       "    <tr>\n",
       "      <th>2009</th>\n",
       "      <td>50</td>\n",
       "    </tr>\n",
       "    <tr>\n",
       "      <th>2010</th>\n",
       "      <td>50</td>\n",
       "    </tr>\n",
       "    <tr>\n",
       "      <th>2011</th>\n",
       "      <td>49</td>\n",
       "    </tr>\n",
       "    <tr>\n",
       "      <th>2012</th>\n",
       "      <td>48</td>\n",
       "    </tr>\n",
       "    <tr>\n",
       "      <th>2013</th>\n",
       "      <td>47</td>\n",
       "    </tr>\n",
       "    <tr>\n",
       "      <th>2014</th>\n",
       "      <td>48</td>\n",
       "    </tr>\n",
       "    <tr>\n",
       "      <th>2015</th>\n",
       "      <td>49</td>\n",
       "    </tr>\n",
       "    <tr>\n",
       "      <th>2016</th>\n",
       "      <td>49</td>\n",
       "    </tr>\n",
       "    <tr>\n",
       "      <th>2017</th>\n",
       "      <td>48</td>\n",
       "    </tr>\n",
       "    <tr>\n",
       "      <th>2018</th>\n",
       "      <td>49</td>\n",
       "    </tr>\n",
       "  </tbody>\n",
       "</table>\n",
       "</div>"
      ],
      "text/plain": [
       "      state\n",
       "year       \n",
       "2000  47   \n",
       "2001  49   \n",
       "2002  48   \n",
       "2003  49   \n",
       "2004  49   \n",
       "2005  49   \n",
       "2006  49   \n",
       "2007  48   \n",
       "2008  48   \n",
       "2009  50   \n",
       "2010  50   \n",
       "2011  49   \n",
       "2012  48   \n",
       "2013  47   \n",
       "2014  48   \n",
       "2015  49   \n",
       "2016  49   \n",
       "2017  48   \n",
       "2018  49   "
      ]
     },
     "execution_count": 28,
     "metadata": {},
     "output_type": "execute_result"
    }
   ],
   "source": [
    "# not much data was cut out \n",
    "\n",
    "merge_filter_df.groupby(['year']).count()[['state']]"
   ]
  },
  {
   "cell_type": "markdown",
   "metadata": {},
   "source": [
    "## Create Region Series"
   ]
  },
  {
   "cell_type": "code",
   "execution_count": 29,
   "metadata": {},
   "outputs": [
    {
     "data": {
      "text/plain": [
       "(220,)"
      ]
     },
     "execution_count": 29,
     "metadata": {},
     "output_type": "execute_result"
    }
   ],
   "source": [
    "# midwest\n",
    "\n",
    "region_MW_df = merge_filter_df.loc[merge_filter_df['region_name']=='Midwest']\n",
    "region_MW_sr = region_MW_df['arrest_popu']\n",
    "region_MW_sr.shape"
   ]
  },
  {
   "cell_type": "code",
   "execution_count": 30,
   "metadata": {},
   "outputs": [
    {
     "data": {
      "text/plain": [
       "(171,)"
      ]
     },
     "execution_count": 30,
     "metadata": {},
     "output_type": "execute_result"
    }
   ],
   "source": [
    "# northeast\n",
    "\n",
    "region_NE_df = merge_filter_df.loc[merge_filter_df['region_name']=='Northeast']\n",
    "region_NE_sr = region_NE_df['arrest_popu']\n",
    "region_NE_sr.shape"
   ]
  },
  {
   "cell_type": "code",
   "execution_count": 31,
   "metadata": {},
   "outputs": [
    {
     "data": {
      "text/plain": [
       "(244,)"
      ]
     },
     "execution_count": 31,
     "metadata": {},
     "output_type": "execute_result"
    }
   ],
   "source": [
    "# west\n",
    "\n",
    "region_WT_df = merge_filter_df.loc[merge_filter_df['region_name']=='West']\n",
    "region_WT_sr = region_WT_df['arrest_popu']\n",
    "region_WT_sr.shape"
   ]
  },
  {
   "cell_type": "code",
   "execution_count": 32,
   "metadata": {},
   "outputs": [
    {
     "data": {
      "text/plain": [
       "(288,)"
      ]
     },
     "execution_count": 32,
     "metadata": {},
     "output_type": "execute_result"
    }
   ],
   "source": [
    "# south \n",
    "\n",
    "region_ST_df = merge_filter_df.loc[merge_filter_df['region_name']=='South']\n",
    "region_ST_sr = region_ST_df['arrest_popu']\n",
    "region_ST_sr.shape"
   ]
  },
  {
   "cell_type": "markdown",
   "metadata": {},
   "source": [
    "## Check the Region Distributions"
   ]
  },
  {
   "cell_type": "code",
   "execution_count": 33,
   "metadata": {},
   "outputs": [
    {
     "name": "stdout",
     "output_type": "stream",
     "text": [
      "midwest: 0.001\n",
      "northeast: 0.0001\n",
      "west: 0.4885\n",
      "south: 0.0352\n"
     ]
    }
   ],
   "source": [
    "# test for normal distribution of the samples\n",
    "# extras / sampling distributions .ipynb\n",
    "\n",
    "k, p = stats.normaltest(region_MW_sr)\n",
    "p_MW = round(p, 4)\n",
    "\n",
    "k, p = stats.normaltest(region_NE_sr)\n",
    "p_NE = round(p, 4)\n",
    "\n",
    "k, p = stats.normaltest(region_WT_sr)\n",
    "p_WT = round(p, 4)\n",
    "\n",
    "k, p = stats.normaltest(region_ST_sr)\n",
    "p_ST = round(p, 4)\n",
    "\n",
    "print(f'midwest: {p_MW}')\n",
    "print(f'northeast: {p_NE}')\n",
    "print(f'west: {p_WT}')\n",
    "print(f'south: {p_ST}')"
   ]
  },
  {
   "cell_type": "code",
   "execution_count": 34,
   "metadata": {},
   "outputs": [
    {
     "data": {
      "text/plain": [
       "<matplotlib.axes._subplots.AxesSubplot at 0x1a21ce1f60>"
      ]
     },
     "execution_count": 34,
     "metadata": {},
     "output_type": "execute_result"
    },
    {
     "data": {
      "text/plain": [
       "[Text(0, 0.5, 'Frequency'),\n",
       " Text(0.5, 0, 'Arrests/Population'),\n",
       " Text(0.5, 1.0, 'Midwest')]"
      ]
     },
     "execution_count": 34,
     "metadata": {},
     "output_type": "execute_result"
    },
    {
     "data": {
      "text/plain": [
       "<matplotlib.axes._subplots.AxesSubplot at 0x1a21d1b8d0>"
      ]
     },
     "execution_count": 34,
     "metadata": {},
     "output_type": "execute_result"
    },
    {
     "data": {
      "text/plain": [
       "[Text(0, 0.5, 'Frequency'),\n",
       " Text(0.5, 0, 'Arrests/Population'),\n",
       " Text(0.5, 1.0, 'Northeast')]"
      ]
     },
     "execution_count": 34,
     "metadata": {},
     "output_type": "execute_result"
    },
    {
     "data": {
      "text/plain": [
       "<matplotlib.axes._subplots.AxesSubplot at 0x1a21db8b70>"
      ]
     },
     "execution_count": 34,
     "metadata": {},
     "output_type": "execute_result"
    },
    {
     "data": {
      "text/plain": [
       "[Text(0, 0.5, 'Frequency'),\n",
       " Text(0.5, 0, 'Arrests/Population'),\n",
       " Text(0.5, 1.0, 'West')]"
      ]
     },
     "execution_count": 34,
     "metadata": {},
     "output_type": "execute_result"
    },
    {
     "data": {
      "text/plain": [
       "<matplotlib.axes._subplots.AxesSubplot at 0x1a21debe10>"
      ]
     },
     "execution_count": 34,
     "metadata": {},
     "output_type": "execute_result"
    },
    {
     "data": {
      "text/plain": [
       "[Text(0, 0.5, 'Frequency'),\n",
       " Text(0.5, 0, 'Arrests/Population'),\n",
       " Text(0.5, 1.0, 'South')]"
      ]
     },
     "execution_count": 34,
     "metadata": {},
     "output_type": "execute_result"
    },
    {
     "data": {
      "image/png": "[encoded data removed]",
      "text/plain": [
       "<Figure size 1080x720 with 4 Axes>"
      ]
     },
     "metadata": {
      "needs_background": "light"
     },
     "output_type": "display_data"
    }
   ],
   "source": [
    "# plot the distributions\n",
    "\n",
    "fig, axs = plt.subplots(2,2, figsize=(15, 10), sharey=True, sharex=True)\n",
    "\n",
    "sns.distplot(region_MW_sr, ax=axs[0][0])\n",
    "axs[0][0].set(xlabel='Arrests/Population', ylabel='Frequency', title='Midwest')\n",
    "#ax1.set_xticklabels(labels=df_genre_cnt_plot.index, rotation=90)\n",
    "\n",
    "sns.distplot(region_NE_sr, ax=axs[0][1])\n",
    "axs[0][1].set(xlabel='Arrests/Population', ylabel='Frequency', title='Northeast')\n",
    "\n",
    "sns.distplot(region_WT_sr, ax=axs[1][0])\n",
    "axs[1][0].set(xlabel='Arrests/Population', ylabel='Frequency', title='West')\n",
    "\n",
    "sns.distplot(region_ST_sr, ax=axs[1][1])\n",
    "axs[1][1].set(xlabel='Arrests/Population', ylabel='Frequency', title='South')\n",
    "\n",
    "plt.show()"
   ]
  },
  {
   "cell_type": "code",
   "execution_count": 35,
   "metadata": {},
   "outputs": [
    {
     "data": {
      "image/png": "[encoded data removed]",
      "text/plain": [
       "<Figure size 1080x720 with 4 Axes>"
      ]
     },
     "metadata": {
      "needs_background": "light"
     },
     "output_type": "display_data"
    }
   ],
   "source": [
    "# examine the qqplots for regions\n",
    "\n",
    "def seaborn_qqplot(data_ls, axis, title):\n",
    "    \n",
    "    # create theoretical uantile dataframe and plot it\n",
    "    \n",
    "    normal_ls = np.random.normal(data_ls.mean(), data_ls.std(), data_ls.shape[0])\n",
    "    percs = np.linspace(0, 100, data_ls.shape[0])\n",
    "    \n",
    "    quantile_normal = np.percentile(normal_ls, percs)\n",
    "    quantile_data = np.percentile(data_ls, percs)\n",
    "    plot_df = pd.DataFrame({'y': quantile_normal, 'x': quantile_data})\n",
    "    \n",
    "    sns.scatterplot(y='y', x='x', data=plot_df, ax=axis, color='blue')\n",
    "    \n",
    "    # plot fit line\n",
    "    \n",
    "    line_ls = np.linspace(np.min((quantile_normal.min(),quantile_data.min())), \n",
    "                          np.max((quantile_normal.max(),quantile_data.max())))\n",
    "    line_df = pd.DataFrame({'y': line_ls, 'x': line_ls})\n",
    "    \n",
    "    sns.lineplot(y='y', x='x', data=line_df, ax=axis, color='crimson', dashes=True)\n",
    "    \n",
    "    #sns.distplot(normal_ls, color='red', ax=axis)\n",
    "    #sns.distplot(data_ls, color='blue', ax=axis)\n",
    "    \n",
    "    axis.set(ylabel='Sample Quantiles', xlabel='Theoretical Quantiles', title=title)\n",
    "    \n",
    "    \n",
    "fig, axs = plt.subplots(2, 2, figsize=(15, 10))\n",
    "\n",
    "seaborn_qqplot(region_MW_sr, axs[0][0], 'Midwest')\n",
    "seaborn_qqplot(region_NE_sr, axs[0][1], 'Northeast')\n",
    "seaborn_qqplot(region_WT_sr, axs[1][0], 'West')\n",
    "seaborn_qqplot(region_ST_sr, axs[1][1], 'South')"
   ]
  },
  {
   "cell_type": "markdown",
   "metadata": {},
   "source": [
    "## Run Analysis"
   ]
  },
  {
   "cell_type": "code",
   "execution_count": 36,
   "metadata": {},
   "outputs": [
    {
     "data": {
      "text/plain": [
       "F_onewayResult(statistic=27.00258123927213, pvalue=9.669407599272442e-17)"
      ]
     },
     "execution_count": 36,
     "metadata": {},
     "output_type": "execute_result"
    }
   ],
   "source": [
    "# run anova test\n",
    "\n",
    "stats.f_oneway(region_MW_sr, region_NE_sr, region_WT_sr, region_ST_sr)"
   ]
  },
  {
   "cell_type": "code",
   "execution_count": 37,
   "metadata": {},
   "outputs": [
    {
     "name": "stdout",
     "output_type": "stream",
     "text": [
      "midwest, northeast: 0.00012819\n",
      "midwest, west: 7.75e-06\n",
      "midwest, south: 0.0057939\n",
      "northeast, west: 0.0\n",
      "northeast, south: 0.0\n",
      "west, south: 0.03622847\n"
     ]
    }
   ],
   "source": [
    "# run welch's test to differentiate regions\n",
    "\n",
    "k, p = stats.ttest_ind(region_MW_sr, region_NE_sr)\n",
    "p_MW_NE = round(p, 8)\n",
    "\n",
    "k, p = stats.ttest_ind(region_MW_sr, region_WT_sr)\n",
    "p_MW_WT = round(p, 8)\n",
    "\n",
    "k, p = stats.ttest_ind(region_MW_sr, region_ST_sr)\n",
    "p_MW_ST = round(p, 8)\n",
    "\n",
    "k, p = stats.ttest_ind(region_NE_sr, region_WT_sr)\n",
    "p_NE_WT = round(p, 8)\n",
    "\n",
    "k, p = stats.ttest_ind(region_NE_sr, region_ST_sr)\n",
    "p_NE_ST = round(p, 8)\n",
    "\n",
    "k, p = stats.ttest_ind(region_WT_sr, region_ST_sr)\n",
    "p_WT_ST = round(p, 8)\n",
    "\n",
    "print(f'midwest, northeast: {p_MW_NE}')\n",
    "print(f'midwest, west: {p_MW_WT}')\n",
    "print(f'midwest, south: {p_MW_ST}')\n",
    "print(f'northeast, west: {p_NE_WT}')\n",
    "print(f'northeast, south: {p_NE_ST}')\n",
    "print(f'west, south: {p_WT_ST}')"
   ]
  },
  {
   "cell_type": "markdown",
   "metadata": {},
   "source": [
    "# Hypothesis testing on demographical features"
   ]
  },
  {
   "cell_type": "code",
   "execution_count": 2,
   "metadata": {},
   "outputs": [],
   "source": [
    "import numpy as np\n",
    "import pandas as pd\n",
    "import matplotlib.pyplot as plt\n",
    "import seaborn as sns\n",
    "import scipy.stats as stats\n"
   ]
  },
  {
   "cell_type": "markdown",
   "metadata": {},
   "source": [
    "Importing the specifically created files for cleaning and merging"
   ]
  },
  {
   "cell_type": "code",
   "execution_count": 3,
   "metadata": {},
   "outputs": [],
   "source": [
    "import datamerge"
   ]
  },
  {
   "cell_type": "markdown",
   "metadata": {},
   "source": [
    "### Retrieving data for the project"
   ]
  },
  {
   "cell_type": "code",
   "execution_count": 4,
   "metadata": {},
   "outputs": [],
   "source": [
    "#creating dataframe from csv files\n",
    "offender_df = pd.read_csv('data/offender_race_state.csv')\n",
    "employment_df = pd.read_csv('data/employment_state.csv')\n",
    "victim_df = pd.read_csv('data/victim_tkm_state.csv')\n",
    "race_ratio_df = pd.read_excel('data/Population_byrace_bystate.xlsx')"
   ]
  },
  {
   "cell_type": "markdown",
   "metadata": {},
   "source": [
    "The source of the ethnicity data: 2017 1-year American Community Survey estimates, U.S. Census Bureau, retrieved from: https://www.governing.com/gov-data/census/state-minority-population-data-estimates.html"
   ]
  },
  {
   "cell_type": "code",
   "execution_count": 11,
   "metadata": {},
   "outputs": [],
   "source": [
    "#creating a population table\n",
    "population_df = datamerge.create_population_df(employment_df, race_ratio_df)"
   ]
  },
  {
   "cell_type": "code",
   "execution_count": 6,
   "metadata": {},
   "outputs": [
    {
     "data": {
      "text/html": [
       "<div>\n",
       "<style scoped>\n",
       "    .dataframe tbody tr th:only-of-type {\n",
       "        vertical-align: middle;\n",
       "    }\n",
       "\n",
       "    .dataframe tbody tr th {\n",
       "        vertical-align: top;\n",
       "    }\n",
       "\n",
       "    .dataframe thead th {\n",
       "        text-align: right;\n",
       "    }\n",
       "</style>\n",
       "<table border=\"1\" class=\"dataframe\">\n",
       "  <thead>\n",
       "    <tr style=\"text-align: right;\">\n",
       "      <th></th>\n",
       "      <th>state</th>\n",
       "      <th>year</th>\n",
       "      <th>race</th>\n",
       "      <th>offense</th>\n",
       "      <th>offenders</th>\n",
       "    </tr>\n",
       "  </thead>\n",
       "  <tbody>\n",
       "    <tr>\n",
       "      <th>0</th>\n",
       "      <td>AL</td>\n",
       "      <td>2010</td>\n",
       "      <td>Asian</td>\n",
       "      <td>aggravated-assault</td>\n",
       "      <td>0</td>\n",
       "    </tr>\n",
       "    <tr>\n",
       "      <th>1</th>\n",
       "      <td>AL</td>\n",
       "      <td>2011</td>\n",
       "      <td>Asian</td>\n",
       "      <td>aggravated-assault</td>\n",
       "      <td>0</td>\n",
       "    </tr>\n",
       "  </tbody>\n",
       "</table>\n",
       "</div>"
      ],
      "text/plain": [
       "  state  year   race             offense  offenders\n",
       "0    AL  2010  Asian  aggravated-assault          0\n",
       "1    AL  2011  Asian  aggravated-assault          0"
      ]
     },
     "execution_count": 6,
     "metadata": {},
     "output_type": "execute_result"
    }
   ],
   "source": [
    "population_df.head(2)\n",
    "offender_df.head(2)"
   ]
  },
  {
   "cell_type": "code",
   "execution_count": 7,
   "metadata": {},
   "outputs": [
    {
     "data": {
      "text/html": [
       "<div>\n",
       "<style scoped>\n",
       "    .dataframe tbody tr th:only-of-type {\n",
       "        vertical-align: middle;\n",
       "    }\n",
       "\n",
       "    .dataframe tbody tr th {\n",
       "        vertical-align: top;\n",
       "    }\n",
       "\n",
       "    .dataframe thead th {\n",
       "        text-align: right;\n",
       "    }\n",
       "</style>\n",
       "<table border=\"1\" class=\"dataframe\">\n",
       "  <thead>\n",
       "    <tr style=\"text-align: right;\">\n",
       "      <th></th>\n",
       "      <th>race</th>\n",
       "      <th>offenders</th>\n",
       "    </tr>\n",
       "  </thead>\n",
       "  <tbody>\n",
       "    <tr>\n",
       "      <th>0</th>\n",
       "      <td>American Indian or Alaska Native</td>\n",
       "      <td>44984</td>\n",
       "    </tr>\n",
       "    <tr>\n",
       "      <th>1</th>\n",
       "      <td>Asian</td>\n",
       "      <td>31612</td>\n",
       "    </tr>\n",
       "    <tr>\n",
       "      <th>2</th>\n",
       "      <td>Black or African American</td>\n",
       "      <td>1162774</td>\n",
       "    </tr>\n",
       "    <tr>\n",
       "      <th>3</th>\n",
       "      <td>Native Hawaiian</td>\n",
       "      <td>0</td>\n",
       "    </tr>\n",
       "    <tr>\n",
       "      <th>4</th>\n",
       "      <td>Unknown</td>\n",
       "      <td>1168656</td>\n",
       "    </tr>\n",
       "    <tr>\n",
       "      <th>5</th>\n",
       "      <td>White</td>\n",
       "      <td>2013720</td>\n",
       "    </tr>\n",
       "  </tbody>\n",
       "</table>\n",
       "</div>"
      ],
      "text/plain": [
       "                               race  offenders\n",
       "0  American Indian or Alaska Native      44984\n",
       "1                             Asian      31612\n",
       "2         Black or African American    1162774\n",
       "3                   Native Hawaiian          0\n",
       "4                           Unknown    1168656\n",
       "5                             White    2013720"
      ]
     },
     "execution_count": 7,
     "metadata": {},
     "output_type": "execute_result"
    }
   ],
   "source": [
    "#table for visualisation\n",
    "table = offender_df.loc[offender_df.year == 2018].groupby('race').offenders.sum().reset_index()\n",
    "table"
   ]
  },
  {
   "cell_type": "code",
   "execution_count": 10,
   "metadata": {},
   "outputs": [
    {
     "ename": "KeyError",
     "evalue": "'race'",
     "output_type": "error",
     "traceback": [
      "\u001b[0;31m---------------------------------------------------------------------------\u001b[0m",
      "\u001b[0;31mKeyError\u001b[0m                                  Traceback (most recent call last)",
      "\u001b[0;32m<ipython-input-10-a6c81231e4a9>\u001b[0m in \u001b[0;36m<module>\u001b[0;34m\u001b[0m\n\u001b[0;32m----> 1\u001b[0;31m \u001b[0moffender_df\u001b[0m \u001b[0;34m=\u001b[0m \u001b[0mdatamerge\u001b[0m\u001b[0;34m.\u001b[0m\u001b[0mcreate_offender_df\u001b[0m\u001b[0;34m(\u001b[0m\u001b[0moffender_df\u001b[0m\u001b[0;34m,\u001b[0m \u001b[0mpopulation_df\u001b[0m\u001b[0;34m)\u001b[0m\u001b[0;34m\u001b[0m\u001b[0;34m\u001b[0m\u001b[0m\n\u001b[0m",
      "\u001b[0;32m~/fis/Projects/mod3project/stats_project2/datamerge.py\u001b[0m in \u001b[0;36mcreate_offender_df\u001b[0;34m(offender_df, population_df)\u001b[0m\n\u001b[1;32m     14\u001b[0m     normalized form for black and white races.'''\n\u001b[1;32m     15\u001b[0m \u001b[0;34m\u001b[0m\u001b[0m\n\u001b[0;32m---> 16\u001b[0;31m     \u001b[0mdf\u001b[0m \u001b[0;34m=\u001b[0m \u001b[0moffender_df\u001b[0m\u001b[0;34m.\u001b[0m\u001b[0mgroupby\u001b[0m\u001b[0;34m(\u001b[0m\u001b[0;34m[\u001b[0m\u001b[0;34m'state'\u001b[0m\u001b[0;34m,\u001b[0m \u001b[0;34m'year'\u001b[0m\u001b[0;34m,\u001b[0m \u001b[0;34m'race'\u001b[0m\u001b[0;34m]\u001b[0m\u001b[0;34m)\u001b[0m\u001b[0;34m.\u001b[0m\u001b[0moffenders\u001b[0m\u001b[0;34m.\u001b[0m\u001b[0msum\u001b[0m\u001b[0;34m(\u001b[0m\u001b[0;34m)\u001b[0m\u001b[0;34m.\u001b[0m\u001b[0mreset_index\u001b[0m\u001b[0;34m(\u001b[0m\u001b[0;34m)\u001b[0m\u001b[0;34m\u001b[0m\u001b[0;34m\u001b[0m\u001b[0m\n\u001b[0m\u001b[1;32m     17\u001b[0m     \u001b[0mdf2\u001b[0m \u001b[0;34m=\u001b[0m \u001b[0mpd\u001b[0m\u001b[0;34m.\u001b[0m\u001b[0mmerge\u001b[0m\u001b[0;34m(\u001b[0m\u001b[0mdf\u001b[0m\u001b[0;34m,\u001b[0m \u001b[0mpopulation_df\u001b[0m\u001b[0;34m,\u001b[0m \u001b[0mon\u001b[0m\u001b[0;34m=\u001b[0m\u001b[0;34m[\u001b[0m\u001b[0;34m'state'\u001b[0m\u001b[0;34m,\u001b[0m \u001b[0;34m'year'\u001b[0m\u001b[0;34m]\u001b[0m\u001b[0;34m)\u001b[0m\u001b[0;34m\u001b[0m\u001b[0;34m\u001b[0m\u001b[0m\n\u001b[1;32m     18\u001b[0m     \u001b[0mdf_black\u001b[0m \u001b[0;34m=\u001b[0m \u001b[0mdf2\u001b[0m\u001b[0;34m.\u001b[0m\u001b[0mloc\u001b[0m\u001b[0;34m[\u001b[0m\u001b[0mdf2\u001b[0m\u001b[0;34m.\u001b[0m\u001b[0mrace\u001b[0m\u001b[0;34m==\u001b[0m\u001b[0;34m'Black or African American'\u001b[0m\u001b[0;34m]\u001b[0m\u001b[0;34m\u001b[0m\u001b[0;34m\u001b[0m\u001b[0m\n",
      "\u001b[0;32m//anaconda3/lib/python3.7/site-packages/pandas/core/generic.py\u001b[0m in \u001b[0;36mgroupby\u001b[0;34m(self, by, axis, level, as_index, sort, group_keys, squeeze, observed, **kwargs)\u001b[0m\n\u001b[1;32m   7630\u001b[0m         return groupby(self, by=by, axis=axis, level=level, as_index=as_index,\n\u001b[1;32m   7631\u001b[0m                        \u001b[0msort\u001b[0m\u001b[0;34m=\u001b[0m\u001b[0msort\u001b[0m\u001b[0;34m,\u001b[0m \u001b[0mgroup_keys\u001b[0m\u001b[0;34m=\u001b[0m\u001b[0mgroup_keys\u001b[0m\u001b[0;34m,\u001b[0m \u001b[0msqueeze\u001b[0m\u001b[0;34m=\u001b[0m\u001b[0msqueeze\u001b[0m\u001b[0;34m,\u001b[0m\u001b[0;34m\u001b[0m\u001b[0;34m\u001b[0m\u001b[0m\n\u001b[0;32m-> 7632\u001b[0;31m                        observed=observed, **kwargs)\n\u001b[0m\u001b[1;32m   7633\u001b[0m \u001b[0;34m\u001b[0m\u001b[0m\n\u001b[1;32m   7634\u001b[0m     def asfreq(self, freq, method=None, how=None, normalize=False,\n",
      "\u001b[0;32m//anaconda3/lib/python3.7/site-packages/pandas/core/groupby/groupby.py\u001b[0m in \u001b[0;36mgroupby\u001b[0;34m(obj, by, **kwds)\u001b[0m\n\u001b[1;32m   2108\u001b[0m         \u001b[0;32mraise\u001b[0m \u001b[0mTypeError\u001b[0m\u001b[0;34m(\u001b[0m\u001b[0;34m'invalid type: {}'\u001b[0m\u001b[0;34m.\u001b[0m\u001b[0mformat\u001b[0m\u001b[0;34m(\u001b[0m\u001b[0mobj\u001b[0m\u001b[0;34m)\u001b[0m\u001b[0;34m)\u001b[0m\u001b[0;34m\u001b[0m\u001b[0;34m\u001b[0m\u001b[0m\n\u001b[1;32m   2109\u001b[0m \u001b[0;34m\u001b[0m\u001b[0m\n\u001b[0;32m-> 2110\u001b[0;31m     \u001b[0;32mreturn\u001b[0m \u001b[0mklass\u001b[0m\u001b[0;34m(\u001b[0m\u001b[0mobj\u001b[0m\u001b[0;34m,\u001b[0m \u001b[0mby\u001b[0m\u001b[0;34m,\u001b[0m \u001b[0;34m**\u001b[0m\u001b[0mkwds\u001b[0m\u001b[0;34m)\u001b[0m\u001b[0;34m\u001b[0m\u001b[0;34m\u001b[0m\u001b[0m\n\u001b[0m",
      "\u001b[0;32m//anaconda3/lib/python3.7/site-packages/pandas/core/groupby/groupby.py\u001b[0m in \u001b[0;36m__init__\u001b[0;34m(self, obj, keys, axis, level, grouper, exclusions, selection, as_index, sort, group_keys, squeeze, observed, **kwargs)\u001b[0m\n\u001b[1;32m    358\u001b[0m                                                     \u001b[0msort\u001b[0m\u001b[0;34m=\u001b[0m\u001b[0msort\u001b[0m\u001b[0;34m,\u001b[0m\u001b[0;34m\u001b[0m\u001b[0;34m\u001b[0m\u001b[0m\n\u001b[1;32m    359\u001b[0m                                                     \u001b[0mobserved\u001b[0m\u001b[0;34m=\u001b[0m\u001b[0mobserved\u001b[0m\u001b[0;34m,\u001b[0m\u001b[0;34m\u001b[0m\u001b[0;34m\u001b[0m\u001b[0m\n\u001b[0;32m--> 360\u001b[0;31m                                                     mutated=self.mutated)\n\u001b[0m\u001b[1;32m    361\u001b[0m \u001b[0;34m\u001b[0m\u001b[0m\n\u001b[1;32m    362\u001b[0m         \u001b[0mself\u001b[0m\u001b[0;34m.\u001b[0m\u001b[0mobj\u001b[0m \u001b[0;34m=\u001b[0m \u001b[0mobj\u001b[0m\u001b[0;34m\u001b[0m\u001b[0;34m\u001b[0m\u001b[0m\n",
      "\u001b[0;32m//anaconda3/lib/python3.7/site-packages/pandas/core/groupby/grouper.py\u001b[0m in \u001b[0;36m_get_grouper\u001b[0;34m(obj, key, axis, level, sort, observed, mutated, validate)\u001b[0m\n\u001b[1;32m    576\u001b[0m                 \u001b[0min_axis\u001b[0m\u001b[0;34m,\u001b[0m \u001b[0mname\u001b[0m\u001b[0;34m,\u001b[0m \u001b[0mlevel\u001b[0m\u001b[0;34m,\u001b[0m \u001b[0mgpr\u001b[0m \u001b[0;34m=\u001b[0m \u001b[0;32mFalse\u001b[0m\u001b[0;34m,\u001b[0m \u001b[0;32mNone\u001b[0m\u001b[0;34m,\u001b[0m \u001b[0mgpr\u001b[0m\u001b[0;34m,\u001b[0m \u001b[0;32mNone\u001b[0m\u001b[0;34m\u001b[0m\u001b[0;34m\u001b[0m\u001b[0m\n\u001b[1;32m    577\u001b[0m             \u001b[0;32melse\u001b[0m\u001b[0;34m:\u001b[0m\u001b[0;34m\u001b[0m\u001b[0;34m\u001b[0m\u001b[0m\n\u001b[0;32m--> 578\u001b[0;31m                 \u001b[0;32mraise\u001b[0m \u001b[0mKeyError\u001b[0m\u001b[0;34m(\u001b[0m\u001b[0mgpr\u001b[0m\u001b[0;34m)\u001b[0m\u001b[0;34m\u001b[0m\u001b[0;34m\u001b[0m\u001b[0m\n\u001b[0m\u001b[1;32m    579\u001b[0m         \u001b[0;32melif\u001b[0m \u001b[0misinstance\u001b[0m\u001b[0;34m(\u001b[0m\u001b[0mgpr\u001b[0m\u001b[0;34m,\u001b[0m \u001b[0mGrouper\u001b[0m\u001b[0;34m)\u001b[0m \u001b[0;32mand\u001b[0m \u001b[0mgpr\u001b[0m\u001b[0;34m.\u001b[0m\u001b[0mkey\u001b[0m \u001b[0;32mis\u001b[0m \u001b[0;32mnot\u001b[0m \u001b[0;32mNone\u001b[0m\u001b[0;34m:\u001b[0m\u001b[0;34m\u001b[0m\u001b[0;34m\u001b[0m\u001b[0m\n\u001b[1;32m    580\u001b[0m             \u001b[0;31m# Add key to exclusions\u001b[0m\u001b[0;34m\u001b[0m\u001b[0;34m\u001b[0m\u001b[0;34m\u001b[0m\u001b[0m\n",
      "\u001b[0;31mKeyError\u001b[0m: 'race'"
     ]
    }
   ],
   "source": [
    "offender_df = datamerge.create_offender_df(offender_df, population_df)"
   ]
  },
  {
   "cell_type": "code",
   "execution_count": null,
   "metadata": {},
   "outputs": [],
   "source": []
  },
  {
   "cell_type": "code",
   "execution_count": null,
   "metadata": {},
   "outputs": [],
   "source": []
  },
  {
   "cell_type": "code",
   "execution_count": null,
   "metadata": {},
   "outputs": [],
   "source": []
  },
  {
   "cell_type": "code",
   "execution_count": null,
   "metadata": {},
   "outputs": [],
   "source": []
  }
 ],
 "metadata": {
  "kernelspec": {
   "display_name": "Python 3",
   "language": "python",
   "name": "python3"
  },
  "language_info": {
   "codemirror_mode": {
    "name": "ipython",
    "version": 3
   },
   "file_extension": ".py",
   "mimetype": "text/x-python",
   "name": "python",
   "nbconvert_exporter": "python",
   "pygments_lexer": "ipython3",
   "version": "3.7.3"
  }
 },
 "nbformat": 4,
 "nbformat_minor": 2
}
