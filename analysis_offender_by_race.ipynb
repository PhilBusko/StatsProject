{
 "cells": [
  {
   "cell_type": "markdown",
   "metadata": {},
   "source": [
    "# Hypothesis testing on demographical features"
   ]
  },
  {
   "cell_type": "code",
   "execution_count": 2,
   "metadata": {},
   "outputs": [],
   "source": [
    "import numpy as np\n",
    "import pandas as pd\n",
    "import matplotlib.pyplot as plt\n",
    "import seaborn as sns\n",
    "import scipy.stats as stats\n"
   ]
  },
  {
   "cell_type": "markdown",
   "metadata": {},
   "source": [
    "Importing the specifically created files for cleaning and merging"
   ]
  },
  {
   "cell_type": "code",
   "execution_count": 3,
   "metadata": {},
   "outputs": [],
   "source": [
    "import datamerge\n"
   ]
  },
  {
   "cell_type": "markdown",
   "metadata": {},
   "source": [
    "\n",
    "### Retrieving data for the project\n"
   ]
  },
  {
   "cell_type": "code",
   "execution_count": 4,
   "metadata": {},
   "outputs": [],
   "source": [
    "#creating dataframe from csv files\n",
    "offender_df = pd.read_csv('data/offender_race_state.csv')\n",
    "employment_df = pd.read_csv('data/employment_state.csv')\n",
    "victim_df = pd.read_csv('data/victim_tkm_state.csv')\n",
    "race_ratio_df = pd.read_excel('data/Population_byrace_bystate.xlsx')"
   ]
  },
  {
   "cell_type": "markdown",
   "metadata": {},
   "source": [
    "The source of the ethnicity data: 2017 1-year American Community Survey estimates, U.S. Census Bureau, retrieved from: https://www.governing.com/gov-data/census/state-minority-population-data-estimates.html"
   ]
  },
  {
   "cell_type": "code",
   "execution_count": 5,
   "metadata": {},
   "outputs": [],
   "source": [
    "#creating a population table\n",
    "population_df = datamerge.create_population_df(employment_df, race_ratio_df)"
   ]
  },
  {
   "cell_type": "code",
   "execution_count": 6,
   "metadata": {},
   "outputs": [
    {
     "data": {
      "text/html": [
       "<div>\n",
       "<style scoped>\n",
       "    .dataframe tbody tr th:only-of-type {\n",
       "        vertical-align: middle;\n",
       "    }\n",
       "\n",
       "    .dataframe tbody tr th {\n",
       "        vertical-align: top;\n",
       "    }\n",
       "\n",
       "    .dataframe thead th {\n",
       "        text-align: right;\n",
       "    }\n",
       "</style>\n",
       "<table border=\"1\" class=\"dataframe\">\n",
       "  <thead>\n",
       "    <tr style=\"text-align: right;\">\n",
       "      <th></th>\n",
       "      <th>state</th>\n",
       "      <th>year</th>\n",
       "      <th>race</th>\n",
       "      <th>offense</th>\n",
       "      <th>offenders</th>\n",
       "    </tr>\n",
       "  </thead>\n",
       "  <tbody>\n",
       "    <tr>\n",
       "      <th>0</th>\n",
       "      <td>AL</td>\n",
       "      <td>2010</td>\n",
       "      <td>Asian</td>\n",
       "      <td>aggravated-assault</td>\n",
       "      <td>0</td>\n",
       "    </tr>\n",
       "    <tr>\n",
       "      <th>1</th>\n",
       "      <td>AL</td>\n",
       "      <td>2011</td>\n",
       "      <td>Asian</td>\n",
       "      <td>aggravated-assault</td>\n",
       "      <td>0</td>\n",
       "    </tr>\n",
       "  </tbody>\n",
       "</table>\n",
       "</div>"
      ],
      "text/plain": [
       "  state  year   race             offense  offenders\n",
       "0    AL  2010  Asian  aggravated-assault          0\n",
       "1    AL  2011  Asian  aggravated-assault          0"
      ]
     },
     "execution_count": 6,
     "metadata": {},
     "output_type": "execute_result"
    }
   ],
   "source": [
    "population_df.head(2)\n",
    "offender_df.head(2)"
   ]
  },
  {
   "cell_type": "code",
   "execution_count": 7,
   "metadata": {},
   "outputs": [
    {
     "data": {
      "text/html": [
       "<div>\n",
       "<style scoped>\n",
       "    .dataframe tbody tr th:only-of-type {\n",
       "        vertical-align: middle;\n",
       "    }\n",
       "\n",
       "    .dataframe tbody tr th {\n",
       "        vertical-align: top;\n",
       "    }\n",
       "\n",
       "    .dataframe thead th {\n",
       "        text-align: right;\n",
       "    }\n",
       "</style>\n",
       "<table border=\"1\" class=\"dataframe\">\n",
       "  <thead>\n",
       "    <tr style=\"text-align: right;\">\n",
       "      <th></th>\n",
       "      <th>race</th>\n",
       "      <th>offenders</th>\n",
       "    </tr>\n",
       "  </thead>\n",
       "  <tbody>\n",
       "    <tr>\n",
       "      <th>0</th>\n",
       "      <td>American Indian or Alaska Native</td>\n",
       "      <td>44984</td>\n",
       "    </tr>\n",
       "    <tr>\n",
       "      <th>1</th>\n",
       "      <td>Asian</td>\n",
       "      <td>31612</td>\n",
       "    </tr>\n",
       "    <tr>\n",
       "      <th>2</th>\n",
       "      <td>Black or African American</td>\n",
       "      <td>1162774</td>\n",
       "    </tr>\n",
       "    <tr>\n",
       "      <th>3</th>\n",
       "      <td>Native Hawaiian</td>\n",
       "      <td>0</td>\n",
       "    </tr>\n",
       "    <tr>\n",
       "      <th>4</th>\n",
       "      <td>Unknown</td>\n",
       "      <td>1168656</td>\n",
       "    </tr>\n",
       "    <tr>\n",
       "      <th>5</th>\n",
       "      <td>White</td>\n",
       "      <td>2013720</td>\n",
       "    </tr>\n",
       "  </tbody>\n",
       "</table>\n",
       "</div>"
      ],
      "text/plain": [
       "                               race  offenders\n",
       "0  American Indian or Alaska Native      44984\n",
       "1                             Asian      31612\n",
       "2         Black or African American    1162774\n",
       "3                   Native Hawaiian          0\n",
       "4                           Unknown    1168656\n",
       "5                             White    2013720"
      ]
     },
     "execution_count": 7,
     "metadata": {},
     "output_type": "execute_result"
    }
   ],
   "source": [
    "#table for visualisation\n",
    "table = offender_df.loc[offender_df.year == 2018].groupby('race').offenders.sum().reset_index()\n",
    "table"
   ]
  },
  {
   "cell_type": "code",
   "execution_count": 8,
   "metadata": {},
   "outputs": [
    {
     "name": "stderr",
     "output_type": "stream",
     "text": [
      "/Users/flatironschool/fis/Projects/mod3project/stats_project2/datamerge.py:24: SettingWithCopyWarning: \n",
      "A value is trying to be set on a copy of a slice from a DataFrame.\n",
      "Try using .loc[row_indexer,col_indexer] = value instead\n",
      "\n",
      "See the caveats in the documentation: http://pandas.pydata.org/pandas-docs/stable/indexing.html#indexing-view-versus-copy\n",
      "  df_black['black_pop'] = df_black['black'] * df_black['population']\n",
      "/Users/flatironschool/fis/Projects/mod3project/stats_project2/datamerge.py:25: SettingWithCopyWarning: \n",
      "A value is trying to be set on a copy of a slice from a DataFrame.\n",
      "Try using .loc[row_indexer,col_indexer] = value instead\n",
      "\n",
      "See the caveats in the documentation: http://pandas.pydata.org/pandas-docs/stable/indexing.html#indexing-view-versus-copy\n",
      "  df_black['black_norm'] = df_black.offenders / df_black.black_pop * 1000\n",
      "/Users/flatironschool/fis/Projects/mod3project/stats_project2/datamerge.py:28: SettingWithCopyWarning: \n",
      "A value is trying to be set on a copy of a slice from a DataFrame.\n",
      "Try using .loc[row_indexer,col_indexer] = value instead\n",
      "\n",
      "See the caveats in the documentation: http://pandas.pydata.org/pandas-docs/stable/indexing.html#indexing-view-versus-copy\n",
      "  df_white['white_pop'] = df_white['white'] * df_white['population']\n",
      "/Users/flatironschool/fis/Projects/mod3project/stats_project2/datamerge.py:29: SettingWithCopyWarning: \n",
      "A value is trying to be set on a copy of a slice from a DataFrame.\n",
      "Try using .loc[row_indexer,col_indexer] = value instead\n",
      "\n",
      "See the caveats in the documentation: http://pandas.pydata.org/pandas-docs/stable/indexing.html#indexing-view-versus-copy\n",
      "  df_white['white_norm'] = df_white.offenders / df_white.white_pop * 1000\n"
     ]
    }
   ],
   "source": [
    "offender_df = datamerge.create_offender_df(offender_df, population_df)"
   ]
  },
  {
   "cell_type": "code",
   "execution_count": 9,
   "metadata": {},
   "outputs": [
    {
     "data": {
      "text/html": [
       "<div>\n",
       "<style scoped>\n",
       "    .dataframe tbody tr th:only-of-type {\n",
       "        vertical-align: middle;\n",
       "    }\n",
       "\n",
       "    .dataframe tbody tr th {\n",
       "        vertical-align: top;\n",
       "    }\n",
       "\n",
       "    .dataframe thead th {\n",
       "        text-align: right;\n",
       "    }\n",
       "</style>\n",
       "<table border=\"1\" class=\"dataframe\">\n",
       "  <thead>\n",
       "    <tr style=\"text-align: right;\">\n",
       "      <th></th>\n",
       "      <th>state</th>\n",
       "      <th>year</th>\n",
       "      <th>white_norm</th>\n",
       "      <th>black_norm</th>\n",
       "    </tr>\n",
       "  </thead>\n",
       "  <tbody>\n",
       "    <tr>\n",
       "      <th>0</th>\n",
       "      <td>AL</td>\n",
       "      <td>2010</td>\n",
       "      <td>0.416670</td>\n",
       "      <td>1.158145</td>\n",
       "    </tr>\n",
       "    <tr>\n",
       "      <th>1</th>\n",
       "      <td>AL</td>\n",
       "      <td>2011</td>\n",
       "      <td>0.441337</td>\n",
       "      <td>1.014235</td>\n",
       "    </tr>\n",
       "    <tr>\n",
       "      <th>2</th>\n",
       "      <td>AL</td>\n",
       "      <td>2012</td>\n",
       "      <td>0.498975</td>\n",
       "      <td>1.193089</td>\n",
       "    </tr>\n",
       "    <tr>\n",
       "      <th>3</th>\n",
       "      <td>AL</td>\n",
       "      <td>2013</td>\n",
       "      <td>0.470682</td>\n",
       "      <td>1.341704</td>\n",
       "    </tr>\n",
       "    <tr>\n",
       "      <th>4</th>\n",
       "      <td>AL</td>\n",
       "      <td>2014</td>\n",
       "      <td>0.520664</td>\n",
       "      <td>1.308098</td>\n",
       "    </tr>\n",
       "    <tr>\n",
       "      <th>5</th>\n",
       "      <td>AL</td>\n",
       "      <td>2015</td>\n",
       "      <td>0.586534</td>\n",
       "      <td>1.188836</td>\n",
       "    </tr>\n",
       "  </tbody>\n",
       "</table>\n",
       "</div>"
      ],
      "text/plain": [
       "  state  year  white_norm  black_norm\n",
       "0    AL  2010    0.416670    1.158145\n",
       "1    AL  2011    0.441337    1.014235\n",
       "2    AL  2012    0.498975    1.193089\n",
       "3    AL  2013    0.470682    1.341704\n",
       "4    AL  2014    0.520664    1.308098\n",
       "5    AL  2015    0.586534    1.188836"
      ]
     },
     "execution_count": 9,
     "metadata": {},
     "output_type": "execute_result"
    }
   ],
   "source": [
    "offender_df.head(6)"
   ]
  },
  {
   "cell_type": "markdown",
   "metadata": {},
   "source": [
    "# I. Testing offender ratio by races\n",
    "\n",
    "\n",
    "\n",
    "\n",
    "Offender ratio for a race means the normalized ratio according its own population \n",
    "\n",
    "      calculation: number of offenders / (population number * race ratio) * 1000\n",
    "\n",
    "\n",
    "and so the calculated number shows that among its own population how many offender was identified from 1000 people.\n",
    "\n",
    "\n",
    "## Visualization"
   ]
  },
  {
   "cell_type": "code",
   "execution_count": 10,
   "metadata": {},
   "outputs": [
    {
     "data": {
      "image/png": "[encoded data removed]",
      "text/plain": [
       "<Figure size 720x360 with 1 Axes>"
      ]
     },
     "metadata": {
      "needs_background": "light"
     },
     "output_type": "display_data"
    }
   ],
   "source": [
    "plt.figure(figsize = (10,5))\n",
    "sns.distplot(offender_df.white_norm, label = 'African american')\n",
    "sns.distplot(offender_df.black_norm, label = 'White')\n",
    "plt.xlabel('Offender ratio within its own population', fontsize=16)\n",
    "plt.title('Distribution of offender ratio for balck and white races', fontsize=16)\n",
    "plt.legend();"
   ]
  },
  {
   "cell_type": "code",
   "execution_count": 11,
   "metadata": {},
   "outputs": [
    {
     "data": {
      "image/png": "[encoded data removed]",
      "text/plain": [
       "<Figure size 720x360 with 2 Axes>"
      ]
     },
     "metadata": {
      "needs_background": "light"
     },
     "output_type": "display_data"
    }
   ],
   "source": [
    "fig, (ax1, ax2) = plt.subplots(1, 2, figsize = (10,5), sharey=True)\n",
    "\n",
    "fig.suptitle('Violinplot: distribution of offender ratios', fontsize=16)\n",
    "sns.violinplot(y=offender_df.white_norm, ax=ax1)\n",
    "ax1.set_xlabel('White', fontsize=16)\n",
    "ax1.set_ylabel('ratio within own population', fontsize=12)\n",
    "sns.violinplot(y=offender_df.black_norm, ax=ax2)\n",
    "ax2.set_xlabel('African american', fontsize = 16)\n",
    "ax2.set_ylabel('');"
   ]
  },
  {
   "cell_type": "code",
   "execution_count": 12,
   "metadata": {},
   "outputs": [
    {
     "data": {
      "image/png": "[encoded data removed]",
      "text/plain": [
       "<Figure size 720x360 with 1 Axes>"
      ]
     },
     "metadata": {
      "needs_background": "light"
     },
     "output_type": "display_data"
    }
   ],
   "source": [
    "plt.figure(figsize=(10,5))\n",
    "\n",
    "offender_2012 = offender_df.loc[offender_df.year == 2012]\n",
    "\n",
    "offender_2012.boxplot(column = ['black_norm', 'white_norm'])\n",
    "plt.title('Boxplot: distribution of offender ratio of white and african americans in 2012', fontsize=12);"
   ]
  },
  {
   "cell_type": "code",
   "execution_count": 13,
   "metadata": {},
   "outputs": [
    {
     "name": "stdout",
     "output_type": "stream",
     "text": [
      "The average ratio among african americans is 67.48, and among white people is 16.20.\n"
     ]
    }
   ],
   "source": [
    "print(f'''The average ratio among african americans is {offender_df.black_norm.mean():.2f}, and among white people is {offender_df.white_norm.mean():.2f}.''')"
   ]
  },
  {
   "cell_type": "markdown",
   "metadata": {},
   "source": [
    "### Paired sample T-test"
   ]
  },
  {
   "cell_type": "markdown",
   "metadata": {},
   "source": [
    "According to the visualization we can detect remarkable differences in ratios. We will compare differences of black and white offenders by every state and year. We would like to know, whether the difference we can see on visualizasion is really significant.\n",
    "\n",
    "Null hypothesis: there is no difference of mean of offender ratios between these races\n",
    "\n",
    "       H_null: B_mean - W_mean = 0\n",
    "\n",
    "Alternative hypothesis: the ratio of offenders are higher among African american people\n",
    "\n",
    "       H_alternative: B_mean - W_mean > 0\n",
    "\n",
    "==> Right tailed test\n",
    "\n",
    "Significance level: 5%"
   ]
  },
  {
   "cell_type": "code",
   "execution_count": 14,
   "metadata": {},
   "outputs": [],
   "source": [
    "offender_df['difference'] = offender_df.black_norm - offender_df.white_norm"
   ]
  },
  {
   "cell_type": "code",
   "execution_count": 15,
   "metadata": {},
   "outputs": [
    {
     "data": {
      "text/html": [
       "<div>\n",
       "<style scoped>\n",
       "    .dataframe tbody tr th:only-of-type {\n",
       "        vertical-align: middle;\n",
       "    }\n",
       "\n",
       "    .dataframe tbody tr th {\n",
       "        vertical-align: top;\n",
       "    }\n",
       "\n",
       "    .dataframe thead th {\n",
       "        text-align: right;\n",
       "    }\n",
       "</style>\n",
       "<table border=\"1\" class=\"dataframe\">\n",
       "  <thead>\n",
       "    <tr style=\"text-align: right;\">\n",
       "      <th></th>\n",
       "      <th>state</th>\n",
       "      <th>year</th>\n",
       "      <th>white_norm</th>\n",
       "      <th>black_norm</th>\n",
       "      <th>difference</th>\n",
       "    </tr>\n",
       "  </thead>\n",
       "  <tbody>\n",
       "    <tr>\n",
       "      <th>0</th>\n",
       "      <td>AL</td>\n",
       "      <td>2010</td>\n",
       "      <td>0.416670</td>\n",
       "      <td>1.158145</td>\n",
       "      <td>0.741475</td>\n",
       "    </tr>\n",
       "    <tr>\n",
       "      <th>1</th>\n",
       "      <td>AL</td>\n",
       "      <td>2011</td>\n",
       "      <td>0.441337</td>\n",
       "      <td>1.014235</td>\n",
       "      <td>0.572898</td>\n",
       "    </tr>\n",
       "    <tr>\n",
       "      <th>2</th>\n",
       "      <td>AL</td>\n",
       "      <td>2012</td>\n",
       "      <td>0.498975</td>\n",
       "      <td>1.193089</td>\n",
       "      <td>0.694114</td>\n",
       "    </tr>\n",
       "  </tbody>\n",
       "</table>\n",
       "</div>"
      ],
      "text/plain": [
       "  state  year  white_norm  black_norm  difference\n",
       "0    AL  2010    0.416670    1.158145    0.741475\n",
       "1    AL  2011    0.441337    1.014235    0.572898\n",
       "2    AL  2012    0.498975    1.193089    0.694114"
      ]
     },
     "execution_count": 15,
     "metadata": {},
     "output_type": "execute_result"
    }
   ],
   "source": [
    "offender_df.head(3)"
   ]
  },
  {
   "cell_type": "code",
   "execution_count": 16,
   "metadata": {},
   "outputs": [
    {
     "data": {
      "image/png": "[encoded data removed]",
      "text/plain": [
       "<Figure size 432x288 with 1 Axes>"
      ]
     },
     "metadata": {
      "needs_background": "light"
     },
     "output_type": "display_data"
    }
   ],
   "source": [
    "sns.distplot(offender_df.difference)\n",
    "plt.title('Distribution of differences');"
   ]
  },
  {
   "cell_type": "code",
   "execution_count": 17,
   "metadata": {},
   "outputs": [],
   "source": [
    "stat, p_value = stats.normaltest(offender_df.difference)"
   ]
  },
  {
   "cell_type": "code",
   "execution_count": 18,
   "metadata": {},
   "outputs": [
    {
     "name": "stdout",
     "output_type": "stream",
     "text": [
      "Normaltest statistic: 21.662, p_value: 0.000.\n"
     ]
    }
   ],
   "source": [
    "print(f'Normaltest statistic: {stat:.3f}, p_value: {p_value:.3f}.')"
   ]
  },
  {
   "cell_type": "markdown",
   "metadata": {},
   "source": [
    "According to the normaltest the differences are not normally distributed at 5% significance level, this violates the assumption of the paired sample T-test."
   ]
  },
  {
   "cell_type": "markdown",
   "metadata": {},
   "source": [
    "### Calculation of the test statistic"
   ]
  },
  {
   "cell_type": "code",
   "execution_count": 19,
   "metadata": {},
   "outputs": [],
   "source": [
    "mean = offender_df['difference'].mean()\n",
    "n = len(offender_df)\n",
    "std = np.array(offender_df['difference']).std(ddof=1)\n",
    "\n",
    "t = mean/(std/n**0.5)\n",
    "p_value = stats.t.sf(t, df=n-1)"
   ]
  },
  {
   "cell_type": "code",
   "execution_count": 20,
   "metadata": {},
   "outputs": [
    {
     "name": "stdout",
     "output_type": "stream",
     "text": [
      "T-statistic: 22.097, p_value: 0.000\n"
     ]
    }
   ],
   "source": [
    "print(f'T-statistic: {t:.3f}, p_value: {p_value:.3f}')"
   ]
  },
  {
   "cell_type": "markdown",
   "metadata": {},
   "source": [
    "### Conclusion"
   ]
  },
  {
   "cell_type": "markdown",
   "metadata": {},
   "source": [
    "Given the evidences, at 5% significance level we can reject the null hypothesis, the difference of offender ratios between white and africane americans are significant."
   ]
  },
  {
   "cell_type": "markdown",
   "metadata": {},
   "source": [
    "# II. Genders in crimes"
   ]
  },
  {
   "cell_type": "markdown",
   "metadata": {},
   "source": [
    "### Retrieving data"
   ]
  },
  {
   "cell_type": "code",
   "execution_count": 21,
   "metadata": {},
   "outputs": [
    {
     "name": "stderr",
     "output_type": "stream",
     "text": [
      "/Users/flatironschool/fis/Projects/mod3project/stats_project2/datamerge.py:67: SettingWithCopyWarning: \n",
      "A value is trying to be set on a copy of a slice from a DataFrame.\n",
      "Try using .loc[row_indexer,col_indexer] = value instead\n",
      "\n",
      "See the caveats in the documentation: http://pandas.pydata.org/pandas-docs/stable/indexing.html#indexing-view-versus-copy\n",
      "  df4['male_proportion'] = df4.count_male / (df4.count_male + df4.count_female)\n"
     ]
    }
   ],
   "source": [
    "victims_df = datamerge.create_victim_df(victim_df, population_df)"
   ]
  },
  {
   "cell_type": "code",
   "execution_count": 22,
   "metadata": {},
   "outputs": [
    {
     "data": {
      "text/html": [
       "<div>\n",
       "<style scoped>\n",
       "    .dataframe tbody tr th:only-of-type {\n",
       "        vertical-align: middle;\n",
       "    }\n",
       "\n",
       "    .dataframe tbody tr th {\n",
       "        vertical-align: top;\n",
       "    }\n",
       "\n",
       "    .dataframe thead th {\n",
       "        text-align: right;\n",
       "    }\n",
       "</style>\n",
       "<table border=\"1\" class=\"dataframe\">\n",
       "  <thead>\n",
       "    <tr style=\"text-align: right;\">\n",
       "      <th></th>\n",
       "      <th>state</th>\n",
       "      <th>year</th>\n",
       "      <th>count_male</th>\n",
       "      <th>count_female</th>\n",
       "      <th>population</th>\n",
       "      <th>male_proportion</th>\n",
       "    </tr>\n",
       "  </thead>\n",
       "  <tbody>\n",
       "    <tr>\n",
       "      <th>0</th>\n",
       "      <td>AL</td>\n",
       "      <td>2010</td>\n",
       "      <td>1510</td>\n",
       "      <td>1482</td>\n",
       "      <td>4792630</td>\n",
       "      <td>0.504679</td>\n",
       "    </tr>\n",
       "    <tr>\n",
       "      <th>1</th>\n",
       "      <td>AL</td>\n",
       "      <td>2011</td>\n",
       "      <td>1556</td>\n",
       "      <td>1498</td>\n",
       "      <td>4815348</td>\n",
       "      <td>0.509496</td>\n",
       "    </tr>\n",
       "    <tr>\n",
       "      <th>2</th>\n",
       "      <td>AL</td>\n",
       "      <td>2012</td>\n",
       "      <td>1582</td>\n",
       "      <td>1598</td>\n",
       "      <td>4834334</td>\n",
       "      <td>0.497484</td>\n",
       "    </tr>\n",
       "    <tr>\n",
       "      <th>3</th>\n",
       "      <td>AL</td>\n",
       "      <td>2013</td>\n",
       "      <td>1716</td>\n",
       "      <td>1610</td>\n",
       "      <td>4845981</td>\n",
       "      <td>0.515935</td>\n",
       "    </tr>\n",
       "    <tr>\n",
       "      <th>4</th>\n",
       "      <td>AL</td>\n",
       "      <td>2014</td>\n",
       "      <td>1544</td>\n",
       "      <td>1240</td>\n",
       "      <td>4861676</td>\n",
       "      <td>0.554598</td>\n",
       "    </tr>\n",
       "  </tbody>\n",
       "</table>\n",
       "</div>"
      ],
      "text/plain": [
       "  state  year  count_male  count_female  population  male_proportion\n",
       "0    AL  2010        1510          1482     4792630         0.504679\n",
       "1    AL  2011        1556          1498     4815348         0.509496\n",
       "2    AL  2012        1582          1598     4834334         0.497484\n",
       "3    AL  2013        1716          1610     4845981         0.515935\n",
       "4    AL  2014        1544          1240     4861676         0.554598"
      ]
     },
     "execution_count": 22,
     "metadata": {},
     "output_type": "execute_result"
    }
   ],
   "source": [
    "victims_df.head()"
   ]
  },
  {
   "cell_type": "markdown",
   "metadata": {},
   "source": [
    "### Visualization"
   ]
  },
  {
   "cell_type": "code",
   "execution_count": 23,
   "metadata": {},
   "outputs": [
    {
     "data": {
      "image/png": "[encoded data removed]",
      "text/plain": [
       "<Figure size 432x288 with 1 Axes>"
      ]
     },
     "metadata": {
      "needs_background": "light"
     },
     "output_type": "display_data"
    }
   ],
   "source": [
    "sns.distplot(victims_df.male_proportion, bins = 17, norm_hist = True)\n",
    "plt.title('Distribution of male proportion within victims', fontsize=12)\n",
    "plt.xlabel('');"
   ]
  },
  {
   "cell_type": "code",
   "execution_count": 24,
   "metadata": {},
   "outputs": [
    {
     "data": {
      "image/png": "[encoded data removed]",
      "text/plain": [
       "<Figure size 432x288 with 1 Axes>"
      ]
     },
     "metadata": {
      "needs_background": "light"
     },
     "output_type": "display_data"
    }
   ],
   "source": [
    "sns.boxplot(y = victims_df.loc[victims_df.male_proportion>0.4].male_proportion)\n",
    "plt.title('Male proportion of victims', fontsize = 14)\n",
    "plt.ylabel('');\n"
   ]
  },
  {
   "cell_type": "code",
   "execution_count": 25,
   "metadata": {},
   "outputs": [
    {
     "name": "stdout",
     "output_type": "stream",
     "text": [
      "The average proportion of male victims is 0.53.\n"
     ]
    }
   ],
   "source": [
    "print(f'The average proportion of male victims is {victims_df.male_proportion.mean():.2f}.')"
   ]
  },
  {
   "cell_type": "markdown",
   "metadata": {},
   "source": [
    "### Large sample test for proportion: Z-test "
   ]
  },
  {
   "cell_type": "markdown",
   "metadata": {},
   "source": [
    "According to the visualization we can see that the proportion of the male victims are over 50%. We will test whether this proportion is significantly higher than 50%.\n",
    "\n",
    "Null hypothesis: the proportion of male victims is 50%.\n",
    "\n",
    "        H_null: p = 0.5\n",
    "        \n",
    "      \n",
    "Alternative hypothesis: the proportion of male victims is higher than 50%.\n",
    "\n",
    "        H_alternative: p > 0.5\n",
    "\n",
    "\n",
    "Where p denotes the population proportion.\n",
    "\n",
    "\n",
    "==> Right-tailed test\n",
    "\n",
    "Significance level: 5%\n"
   ]
  },
  {
   "cell_type": "markdown",
   "metadata": {},
   "source": [
    "### Calculation of test statistic"
   ]
  },
  {
   "cell_type": "code",
   "execution_count": 26,
   "metadata": {},
   "outputs": [],
   "source": [
    "n = len(victims_df)\n",
    "p_mean = victims_df.male_proportion.mean()\n",
    "\n",
    "z_statistic = (p_mean - 0.5) / (0.5 * 0.5 / n )**0.5\n",
    "p_value = stats.norm.sf(z_statistic)"
   ]
  },
  {
   "cell_type": "code",
   "execution_count": 32,
   "metadata": {},
   "outputs": [
    {
     "name": "stdout",
     "output_type": "stream",
     "text": [
      "Number of observations: 346\n",
      "Standard error: 0.027\n",
      "Z-statistic: 1.233, p_value: 0.109\n"
     ]
    }
   ],
   "source": [
    "print(f'Number of observations: {n}')\n",
    "print(f'Standard error: {(0.5 * 0.5 / n )**0.5:.3f}')\n",
    "print(f'Z-statistic: {z_statistic:.3f}, p_value: {p_value:.3f}')"
   ]
  },
  {
   "cell_type": "markdown",
   "metadata": {},
   "source": [
    "Checking the assumption of the large sample size:\n",
    "\n",
    "1.) the calculated values should lie within the range of 0 and 1."
   ]
  },
  {
   "cell_type": "code",
   "execution_count": 28,
   "metadata": {},
   "outputs": [
    {
     "data": {
      "text/plain": [
       "0.45267960677383534"
      ]
     },
     "execution_count": 28,
     "metadata": {},
     "output_type": "execute_result"
    }
   ],
   "source": [
    "p_mean - 3 * (p_mean*(1-p_mean)/n)**0.5"
   ]
  },
  {
   "cell_type": "code",
   "execution_count": 29,
   "metadata": {},
   "outputs": [
    {
     "data": {
      "text/plain": [
       "0.6136059002105826"
      ]
     },
     "execution_count": 29,
     "metadata": {},
     "output_type": "execute_result"
    }
   ],
   "source": [
    "p_mean + 3 * (p_mean*(1-p_mean)/n)**0.5"
   ]
  },
  {
   "cell_type": "markdown",
   "metadata": {},
   "source": [
    "2.) The data are an SRS from the population of interest.\n",
    "\n",
    "3.) The population is at least 10 times as large as the sample\n",
    "\n",
    "4.) For a test of H_null, n*p > 10 and n*(1-p) > 10"
   ]
  },
  {
   "cell_type": "markdown",
   "metadata": {},
   "source": [
    "### Conclusion"
   ]
  },
  {
   "cell_type": "markdown",
   "metadata": {},
   "source": [
    "There is not enough evidences at 5% significance level to reject the null hypothesis, the male proportion of the victimes are not significantly higher than 50%."
   ]
  }
 ],
 "metadata": {
  "kernelspec": {
   "display_name": "Python 3",
   "language": "python",
   "name": "python3"
  },
  "language_info": {
   "codemirror_mode": {
    "name": "ipython",
    "version": 3
   },
   "file_extension": ".py",
   "mimetype": "text/x-python",
   "name": "python",
   "nbconvert_exporter": "python",
   "pygments_lexer": "ipython3",
   "version": "3.7.3"
  }
 },
 "nbformat": 4,
 "nbformat_minor": 2
}
