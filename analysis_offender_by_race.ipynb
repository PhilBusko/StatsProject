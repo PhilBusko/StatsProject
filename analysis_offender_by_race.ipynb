{
 "cells": [
  {
   "cell_type": "markdown",
   "metadata": {},
   "source": [
    "# Hypothesis testing on demographical features"
   ]
  },
  {
   "cell_type": "code",
   "execution_count": 27,
   "metadata": {},
   "outputs": [],
   "source": [
    "import numpy as np\n",
    "import pandas as pd\n",
    "import matplotlib.pyplot as plt\n",
    "import seaborn as sns\n",
    "import scipy.stats as stats\n"
   ]
  },
  {
   "cell_type": "markdown",
   "metadata": {},
   "source": [
    "Importing the specifically created files for cleaning and merging"
   ]
  },
  {
   "cell_type": "code",
   "execution_count": 28,
   "metadata": {},
   "outputs": [],
   "source": [
    "import datamerge\n"
   ]
  },
  {
   "cell_type": "markdown",
   "metadata": {},
   "source": [
    "\n",
    "### Retrieving data for the project\n"
   ]
  },
  {
   "cell_type": "code",
   "execution_count": 29,
   "metadata": {},
   "outputs": [],
   "source": [
    "#creating dataframe from csv files\n",
    "offender_df = pd.read_csv('data/offender_race_state.csv')\n",
    "employment_df = pd.read_csv('data/employment_state.csv')\n",
    "victim_df = pd.read_csv('data/victim_tkm_state.csv')\n",
    "race_ratio_df = pd.read_excel('data/Population_byrace_bystate.xlsx')"
   ]
  },
  {
   "cell_type": "markdown",
   "metadata": {},
   "source": [
    "The source of the ethnicity data: 2017 1-year American Community Survey estimates, U.S. Census Bureau, retrieved from: https://www.governing.com/gov-data/census/state-minority-population-data-estimates.html"
   ]
  },
  {
   "cell_type": "code",
   "execution_count": 30,
   "metadata": {},
   "outputs": [],
   "source": [
    "#creating a population table\n",
    "population_df = datamerge.create_population_df(employment_df, race_ratio_df)"
   ]
  },
  {
   "cell_type": "code",
   "execution_count": 31,
   "metadata": {},
   "outputs": [
    {
     "data": {
      "text/html": [
       "<div>\n",
       "<style scoped>\n",
       "    .dataframe tbody tr th:only-of-type {\n",
       "        vertical-align: middle;\n",
       "    }\n",
       "\n",
       "    .dataframe tbody tr th {\n",
       "        vertical-align: top;\n",
       "    }\n",
       "\n",
       "    .dataframe thead th {\n",
       "        text-align: right;\n",
       "    }\n",
       "</style>\n",
       "<table border=\"1\" class=\"dataframe\">\n",
       "  <thead>\n",
       "    <tr style=\"text-align: right;\">\n",
       "      <th></th>\n",
       "      <th>state</th>\n",
       "      <th>year</th>\n",
       "      <th>race</th>\n",
       "      <th>offense</th>\n",
       "      <th>offenders</th>\n",
       "    </tr>\n",
       "  </thead>\n",
       "  <tbody>\n",
       "    <tr>\n",
       "      <th>0</th>\n",
       "      <td>AL</td>\n",
       "      <td>2010</td>\n",
       "      <td>Asian</td>\n",
       "      <td>aggravated-assault</td>\n",
       "      <td>0</td>\n",
       "    </tr>\n",
       "    <tr>\n",
       "      <th>1</th>\n",
       "      <td>AL</td>\n",
       "      <td>2011</td>\n",
       "      <td>Asian</td>\n",
       "      <td>aggravated-assault</td>\n",
       "      <td>0</td>\n",
       "    </tr>\n",
       "  </tbody>\n",
       "</table>\n",
       "</div>"
      ],
      "text/plain": [
       "  state  year   race             offense  offenders\n",
       "0    AL  2010  Asian  aggravated-assault          0\n",
       "1    AL  2011  Asian  aggravated-assault          0"
      ]
     },
     "execution_count": 31,
     "metadata": {},
     "output_type": "execute_result"
    }
   ],
   "source": [
    "population_df.head(2)\n",
    "offender_df.head(2)"
   ]
  },
  {
   "cell_type": "code",
   "execution_count": 32,
   "metadata": {},
   "outputs": [
    {
     "data": {
      "text/html": [
       "<div>\n",
       "<style scoped>\n",
       "    .dataframe tbody tr th:only-of-type {\n",
       "        vertical-align: middle;\n",
       "    }\n",
       "\n",
       "    .dataframe tbody tr th {\n",
       "        vertical-align: top;\n",
       "    }\n",
       "\n",
       "    .dataframe thead th {\n",
       "        text-align: right;\n",
       "    }\n",
       "</style>\n",
       "<table border=\"1\" class=\"dataframe\">\n",
       "  <thead>\n",
       "    <tr style=\"text-align: right;\">\n",
       "      <th></th>\n",
       "      <th>race</th>\n",
       "      <th>offenders</th>\n",
       "    </tr>\n",
       "  </thead>\n",
       "  <tbody>\n",
       "    <tr>\n",
       "      <th>0</th>\n",
       "      <td>American Indian or Alaska Native</td>\n",
       "      <td>44984</td>\n",
       "    </tr>\n",
       "    <tr>\n",
       "      <th>1</th>\n",
       "      <td>Asian</td>\n",
       "      <td>31612</td>\n",
       "    </tr>\n",
       "    <tr>\n",
       "      <th>2</th>\n",
       "      <td>Black or African American</td>\n",
       "      <td>1162774</td>\n",
       "    </tr>\n",
       "    <tr>\n",
       "      <th>3</th>\n",
       "      <td>Native Hawaiian</td>\n",
       "      <td>0</td>\n",
       "    </tr>\n",
       "    <tr>\n",
       "      <th>4</th>\n",
       "      <td>Unknown</td>\n",
       "      <td>1168656</td>\n",
       "    </tr>\n",
       "    <tr>\n",
       "      <th>5</th>\n",
       "      <td>White</td>\n",
       "      <td>2013720</td>\n",
       "    </tr>\n",
       "  </tbody>\n",
       "</table>\n",
       "</div>"
      ],
      "text/plain": [
       "                               race  offenders\n",
       "0  American Indian or Alaska Native      44984\n",
       "1                             Asian      31612\n",
       "2         Black or African American    1162774\n",
       "3                   Native Hawaiian          0\n",
       "4                           Unknown    1168656\n",
       "5                             White    2013720"
      ]
     },
     "execution_count": 32,
     "metadata": {},
     "output_type": "execute_result"
    }
   ],
   "source": [
    "#table for visualisation\n",
    "table = offender_df.loc[offender_df.year == 2018].groupby('race').offenders.sum().reset_index()\n",
    "table"
   ]
  },
  {
   "cell_type": "code",
   "execution_count": 33,
   "metadata": {},
   "outputs": [],
   "source": [
    "offender_df = datamerge.create_offender_df(offender_df, population_df)"
   ]
  },
  {
   "cell_type": "code",
   "execution_count": 34,
   "metadata": {},
   "outputs": [
    {
     "data": {
      "text/html": [
       "<div>\n",
       "<style scoped>\n",
       "    .dataframe tbody tr th:only-of-type {\n",
       "        vertical-align: middle;\n",
       "    }\n",
       "\n",
       "    .dataframe tbody tr th {\n",
       "        vertical-align: top;\n",
       "    }\n",
       "\n",
       "    .dataframe thead th {\n",
       "        text-align: right;\n",
       "    }\n",
       "</style>\n",
       "<table border=\"1\" class=\"dataframe\">\n",
       "  <thead>\n",
       "    <tr style=\"text-align: right;\">\n",
       "      <th></th>\n",
       "      <th>state</th>\n",
       "      <th>year</th>\n",
       "      <th>white_norm</th>\n",
       "      <th>black_norm</th>\n",
       "    </tr>\n",
       "  </thead>\n",
       "  <tbody>\n",
       "    <tr>\n",
       "      <th>0</th>\n",
       "      <td>AL</td>\n",
       "      <td>2010</td>\n",
       "      <td>0.416670</td>\n",
       "      <td>1.158145</td>\n",
       "    </tr>\n",
       "    <tr>\n",
       "      <th>1</th>\n",
       "      <td>AL</td>\n",
       "      <td>2011</td>\n",
       "      <td>0.441337</td>\n",
       "      <td>1.014235</td>\n",
       "    </tr>\n",
       "    <tr>\n",
       "      <th>2</th>\n",
       "      <td>AL</td>\n",
       "      <td>2012</td>\n",
       "      <td>0.498975</td>\n",
       "      <td>1.193089</td>\n",
       "    </tr>\n",
       "    <tr>\n",
       "      <th>3</th>\n",
       "      <td>AL</td>\n",
       "      <td>2013</td>\n",
       "      <td>0.470682</td>\n",
       "      <td>1.341704</td>\n",
       "    </tr>\n",
       "    <tr>\n",
       "      <th>4</th>\n",
       "      <td>AL</td>\n",
       "      <td>2014</td>\n",
       "      <td>0.520664</td>\n",
       "      <td>1.308098</td>\n",
       "    </tr>\n",
       "    <tr>\n",
       "      <th>5</th>\n",
       "      <td>AL</td>\n",
       "      <td>2015</td>\n",
       "      <td>0.586534</td>\n",
       "      <td>1.188836</td>\n",
       "    </tr>\n",
       "  </tbody>\n",
       "</table>\n",
       "</div>"
      ],
      "text/plain": [
       "  state  year  white_norm  black_norm\n",
       "0    AL  2010    0.416670    1.158145\n",
       "1    AL  2011    0.441337    1.014235\n",
       "2    AL  2012    0.498975    1.193089\n",
       "3    AL  2013    0.470682    1.341704\n",
       "4    AL  2014    0.520664    1.308098\n",
       "5    AL  2015    0.586534    1.188836"
      ]
     },
     "execution_count": 34,
     "metadata": {},
     "output_type": "execute_result"
    }
   ],
   "source": [
    "offender_df.head(6)"
   ]
  },
  {
   "cell_type": "markdown",
   "metadata": {},
   "source": [
    "# I. Testing offender ratio by races\n",
    "\n",
    "\n",
    "\n",
    "\n",
    "Offender ratio for a race means the normalized ratio according its own population \n",
    "\n",
    "      calculation: number of offenders / (population number * race ratio) * 1000\n",
    "\n",
    "\n",
    "and so the calculated number shows that among its own population how many offender was identified from 1000 people.\n",
    "\n",
    "\n",
    "## Visualization"
   ]
  },
  {
   "cell_type": "code",
   "execution_count": 35,
   "metadata": {},
   "outputs": [
    {
     "data": {
      "image/png": "[encoded data removed]",
      "text/plain": [
       "<Figure size 720x360 with 1 Axes>"
      ]
     },
     "metadata": {
      "needs_background": "light"
     },
     "output_type": "display_data"
    }
   ],
   "source": [
    "fig1 = plt.figure(figsize = (10,5))\n",
    "sns.distplot(offender_df.white_norm, label = 'African American')\n",
    "sns.distplot(offender_df.black_norm, label = 'White')\n",
    "plt.xlabel('Offender ratio within its own population of 1000', fontsize=12)\n",
    "plt.title('Distribution of offender ratio for \\n African American and White population', fontsize=16)\n",
    "plt.legend()\n",
    "fig1.savefig('assets/fig_1_racedistr.jpg');"
   ]
  },
  {
   "cell_type": "code",
   "execution_count": 36,
   "metadata": {},
   "outputs": [
    {
     "data": {
      "image/png": "[encoded data removed]",
      "text/plain": [
       "<Figure size 720x576 with 2 Axes>"
      ]
     },
     "metadata": {
      "needs_background": "light"
     },
     "output_type": "display_data"
    }
   ],
   "source": [
    "fig2, (ax1, ax2) = plt.subplots(1, 2, figsize = (10,8), sharey=True)\n",
    "\n",
    "fig2.suptitle('Violinplot: distribution of offender ratios', fontsize=20)\n",
    "sns.violinplot(y=offender_df.white_norm, ax=ax1)\n",
    "ax1.set_xlabel('White', fontsize=16)\n",
    "ax1.set_ylabel('ratio within own population', fontsize=12)\n",
    "sns.violinplot(y=offender_df.black_norm, ax=ax2)\n",
    "ax2.set_xlabel('African American', fontsize = 16)\n",
    "ax2.set_ylabel('')\n",
    "\n",
    "fig2.savefig('assets/fig_2_violinplot.jpg');"
   ]
  },
  {
   "cell_type": "code",
   "execution_count": 37,
   "metadata": {},
   "outputs": [
    {
     "data": {
      "image/png": "[encoded data removed]",
      "text/plain": [
       "<Figure size 720x360 with 1 Axes>"
      ]
     },
     "metadata": {
      "needs_background": "light"
     },
     "output_type": "display_data"
    }
   ],
   "source": [
    "plt.figure(figsize=(10,5))\n",
    "\n",
    "offender_2012 = offender_df.loc[offender_df.year == 2012]\n",
    "\n",
    "offender_2012.boxplot(column = ['black_norm', 'white_norm'])\n",
    "plt.title('Boxplot: distribution of offender ratio of White and African Americans in 2012', fontsize=12);"
   ]
  },
  {
   "cell_type": "code",
   "execution_count": 38,
   "metadata": {},
   "outputs": [
    {
     "name": "stdout",
     "output_type": "stream",
     "text": [
      "The average ratio among African Americans is 67.48, and among white people is 16.20.\n"
     ]
    }
   ],
   "source": [
    "print(f'''The average ratio among African Americans is {offender_df.black_norm.mean():.2f}, and among white people is {offender_df.white_norm.mean():.2f}.''')"
   ]
  },
  {
   "cell_type": "markdown",
   "metadata": {},
   "source": []
  },
  {
   "cell_type": "markdown",
   "metadata": {},
   "source": [
    "### Paired sample T-test\n",
    "According to the visualization we can detect remarkable differences in ratios. We will compare differences of black and white offenders by every state and year. We would like to know, whether the difference we can see on visualizasion is really significant.\n",
    "\n",
    "Null hypothesis: there is no difference of mean of offender ratios between these races\n",
    "\n",
    "       H_null: B_mean - W_mean = 0\n",
    "\n",
    "Alternative hypothesis: the ratio of offenders are higher among African american people\n",
    "\n",
    "       H_alternative: B_mean - W_mean > 0\n",
    "\n",
    "==> Right tailed test\n",
    "\n",
    "Significance level: 5%"
   ]
  },
  {
   "cell_type": "code",
   "execution_count": 39,
   "metadata": {},
   "outputs": [],
   "source": [
    "offender_df['difference'] = offender_df.black_norm - offender_df.white_norm"
   ]
  },
  {
   "cell_type": "code",
   "execution_count": 40,
   "metadata": {},
   "outputs": [
    {
     "data": {
      "text/html": [
       "<div>\n",
       "<style scoped>\n",
       "    .dataframe tbody tr th:only-of-type {\n",
       "        vertical-align: middle;\n",
       "    }\n",
       "\n",
       "    .dataframe tbody tr th {\n",
       "        vertical-align: top;\n",
       "    }\n",
       "\n",
       "    .dataframe thead th {\n",
       "        text-align: right;\n",
       "    }\n",
       "</style>\n",
       "<table border=\"1\" class=\"dataframe\">\n",
       "  <thead>\n",
       "    <tr style=\"text-align: right;\">\n",
       "      <th></th>\n",
       "      <th>state</th>\n",
       "      <th>year</th>\n",
       "      <th>white_norm</th>\n",
       "      <th>black_norm</th>\n",
       "      <th>difference</th>\n",
       "    </tr>\n",
       "  </thead>\n",
       "  <tbody>\n",
       "    <tr>\n",
       "      <th>0</th>\n",
       "      <td>AL</td>\n",
       "      <td>2010</td>\n",
       "      <td>0.416670</td>\n",
       "      <td>1.158145</td>\n",
       "      <td>0.741475</td>\n",
       "    </tr>\n",
       "    <tr>\n",
       "      <th>1</th>\n",
       "      <td>AL</td>\n",
       "      <td>2011</td>\n",
       "      <td>0.441337</td>\n",
       "      <td>1.014235</td>\n",
       "      <td>0.572898</td>\n",
       "    </tr>\n",
       "    <tr>\n",
       "      <th>2</th>\n",
       "      <td>AL</td>\n",
       "      <td>2012</td>\n",
       "      <td>0.498975</td>\n",
       "      <td>1.193089</td>\n",
       "      <td>0.694114</td>\n",
       "    </tr>\n",
       "  </tbody>\n",
       "</table>\n",
       "</div>"
      ],
      "text/plain": [
       "  state  year  white_norm  black_norm  difference\n",
       "0    AL  2010    0.416670    1.158145    0.741475\n",
       "1    AL  2011    0.441337    1.014235    0.572898\n",
       "2    AL  2012    0.498975    1.193089    0.694114"
      ]
     },
     "execution_count": 40,
     "metadata": {},
     "output_type": "execute_result"
    }
   ],
   "source": [
    "offender_df.head(3)"
   ]
  },
  {
   "cell_type": "code",
   "execution_count": 41,
   "metadata": {},
   "outputs": [
    {
     "data": {
      "image/png": "[encoded data removed]",
      "text/plain": [
       "<Figure size 576x288 with 1 Axes>"
      ]
     },
     "metadata": {
      "needs_background": "light"
     },
     "output_type": "display_data"
    }
   ],
   "source": [
    "fig3 = plt.figure(figsize = (8,4))\n",
    "sns.distplot(offender_df.difference)\n",
    "plt.title('Distribution of differences', fontsize = 14);"
   ]
  },
  {
   "cell_type": "code",
   "execution_count": 42,
   "metadata": {},
   "outputs": [],
   "source": [
    "stat, p_value = stats.normaltest(offender_df.difference)"
   ]
  },
  {
   "cell_type": "code",
   "execution_count": 43,
   "metadata": {},
   "outputs": [
    {
     "name": "stdout",
     "output_type": "stream",
     "text": [
      "Normaltest statistic: 21.662, p_value: 0.000.\n"
     ]
    }
   ],
   "source": [
    "print(f'Normaltest statistic: {stat:.3f}, p_value: {p_value:.3f}.')"
   ]
  },
  {
   "cell_type": "markdown",
   "metadata": {},
   "source": [
    "According to the normaltest the differences are not normally distributed at 5% significance level, this violates the assumption of the paired sample T-test."
   ]
  },
  {
   "cell_type": "markdown",
   "metadata": {},
   "source": [
    "### Calculation of the test statistic"
   ]
  },
  {
   "cell_type": "code",
   "execution_count": 44,
   "metadata": {},
   "outputs": [],
   "source": [
    "mean = offender_df['difference'].mean()\n",
    "n = len(offender_df)\n",
    "std = np.array(offender_df['difference']).std(ddof=1)\n",
    "\n",
    "t = mean/(std/n**0.5)\n",
    "p_value = stats.t.sf(t, df=n-1)"
   ]
  },
  {
   "cell_type": "code",
   "execution_count": 47,
   "metadata": {},
   "outputs": [
    {
     "name": "stdout",
     "output_type": "stream",
     "text": [
      "T-statistic: 22.097, p_value: 0.0000\n"
     ]
    }
   ],
   "source": [
    "print(f'T-statistic: {t:.3f}, p_value: {p_value:.4f}')"
   ]
  },
  {
   "cell_type": "markdown",
   "metadata": {},
   "source": [
    "### Conclusion"
   ]
  },
  {
   "cell_type": "markdown",
   "metadata": {},
   "source": [
    "Given the evidences, at 5% significance level we can reject the null hypothesis, the difference of offender ratios between White and Africane Americans are significant."
   ]
  },
  {
   "cell_type": "markdown",
   "metadata": {},
   "source": [
    "# II. Genders in crimes"
   ]
  },
  {
   "cell_type": "markdown",
   "metadata": {},
   "source": [
    "### Retrieving data"
   ]
  },
  {
   "cell_type": "code",
   "execution_count": 48,
   "metadata": {},
   "outputs": [
    {
     "name": "stderr",
     "output_type": "stream",
     "text": [
      "//anaconda3/lib/python3.7/site-packages/pandas/core/indexing.py:362: SettingWithCopyWarning: \n",
      "A value is trying to be set on a copy of a slice from a DataFrame.\n",
      "Try using .loc[row_indexer,col_indexer] = value instead\n",
      "\n",
      "See the caveats in the documentation: http://pandas.pydata.org/pandas-docs/stable/indexing.html#indexing-view-versus-copy\n",
      "  self.obj[key] = _infer_fill_value(value)\n",
      "//anaconda3/lib/python3.7/site-packages/pandas/core/indexing.py:543: SettingWithCopyWarning: \n",
      "A value is trying to be set on a copy of a slice from a DataFrame.\n",
      "Try using .loc[row_indexer,col_indexer] = value instead\n",
      "\n",
      "See the caveats in the documentation: http://pandas.pydata.org/pandas-docs/stable/indexing.html#indexing-view-versus-copy\n",
      "  self.obj[item] = s\n"
     ]
    }
   ],
   "source": [
    "victims_df = datamerge.create_victim_df(victim_df, population_df)"
   ]
  },
  {
   "cell_type": "code",
   "execution_count": 49,
   "metadata": {},
   "outputs": [
    {
     "data": {
      "text/html": [
       "<div>\n",
       "<style scoped>\n",
       "    .dataframe tbody tr th:only-of-type {\n",
       "        vertical-align: middle;\n",
       "    }\n",
       "\n",
       "    .dataframe tbody tr th {\n",
       "        vertical-align: top;\n",
       "    }\n",
       "\n",
       "    .dataframe thead th {\n",
       "        text-align: right;\n",
       "    }\n",
       "</style>\n",
       "<table border=\"1\" class=\"dataframe\">\n",
       "  <thead>\n",
       "    <tr style=\"text-align: right;\">\n",
       "      <th></th>\n",
       "      <th>state</th>\n",
       "      <th>year</th>\n",
       "      <th>count_male</th>\n",
       "      <th>count_female</th>\n",
       "      <th>population</th>\n",
       "      <th>male_proportion</th>\n",
       "    </tr>\n",
       "  </thead>\n",
       "  <tbody>\n",
       "    <tr>\n",
       "      <th>0</th>\n",
       "      <td>AL</td>\n",
       "      <td>2010</td>\n",
       "      <td>1510</td>\n",
       "      <td>1482</td>\n",
       "      <td>4792630</td>\n",
       "      <td>0.504679</td>\n",
       "    </tr>\n",
       "    <tr>\n",
       "      <th>1</th>\n",
       "      <td>AL</td>\n",
       "      <td>2011</td>\n",
       "      <td>1556</td>\n",
       "      <td>1498</td>\n",
       "      <td>4815348</td>\n",
       "      <td>0.509496</td>\n",
       "    </tr>\n",
       "    <tr>\n",
       "      <th>2</th>\n",
       "      <td>AL</td>\n",
       "      <td>2012</td>\n",
       "      <td>1582</td>\n",
       "      <td>1598</td>\n",
       "      <td>4834334</td>\n",
       "      <td>0.497484</td>\n",
       "    </tr>\n",
       "    <tr>\n",
       "      <th>3</th>\n",
       "      <td>AL</td>\n",
       "      <td>2013</td>\n",
       "      <td>1716</td>\n",
       "      <td>1610</td>\n",
       "      <td>4845981</td>\n",
       "      <td>0.515935</td>\n",
       "    </tr>\n",
       "    <tr>\n",
       "      <th>4</th>\n",
       "      <td>AL</td>\n",
       "      <td>2014</td>\n",
       "      <td>1544</td>\n",
       "      <td>1240</td>\n",
       "      <td>4861676</td>\n",
       "      <td>0.554598</td>\n",
       "    </tr>\n",
       "  </tbody>\n",
       "</table>\n",
       "</div>"
      ],
      "text/plain": [
       "  state  year  count_male  count_female  population  male_proportion\n",
       "0    AL  2010        1510          1482     4792630         0.504679\n",
       "1    AL  2011        1556          1498     4815348         0.509496\n",
       "2    AL  2012        1582          1598     4834334         0.497484\n",
       "3    AL  2013        1716          1610     4845981         0.515935\n",
       "4    AL  2014        1544          1240     4861676         0.554598"
      ]
     },
     "execution_count": 49,
     "metadata": {},
     "output_type": "execute_result"
    }
   ],
   "source": [
    "victims_df.head()"
   ]
  },
  {
   "cell_type": "code",
   "execution_count": 50,
   "metadata": {},
   "outputs": [],
   "source": [
    "victims_df.loc[:,'total_count'] = victims_df.count_male + victims_df.count_female"
   ]
  },
  {
   "cell_type": "code",
   "execution_count": 51,
   "metadata": {},
   "outputs": [],
   "source": [
    "df_2016 = victims_df.loc[victims_df['year']==2016]"
   ]
  },
  {
   "cell_type": "code",
   "execution_count": 52,
   "metadata": {},
   "outputs": [
    {
     "data": {
      "text/plain": [
       "0.5315584317156942"
      ]
     },
     "execution_count": 52,
     "metadata": {},
     "output_type": "execute_result"
    }
   ],
   "source": [
    "df_2016.count_male.sum() / df_2016.total_count.sum()"
   ]
  },
  {
   "cell_type": "code",
   "execution_count": 53,
   "metadata": {},
   "outputs": [
    {
     "data": {
      "text/plain": [
       "4644464"
      ]
     },
     "execution_count": 53,
     "metadata": {},
     "output_type": "execute_result"
    }
   ],
   "source": [
    "df_2016.total_count.sum()"
   ]
  },
  {
   "cell_type": "markdown",
   "metadata": {},
   "source": [
    "### Visualization"
   ]
  },
  {
   "cell_type": "code",
   "execution_count": 51,
   "metadata": {},
   "outputs": [
    {
     "data": {
      "image/png": "[encoded data removed]",
      "text/plain": [
       "<Figure size 720x432 with 1 Axes>"
      ]
     },
     "metadata": {
      "needs_background": "light"
     },
     "output_type": "display_data"
    }
   ],
   "source": [
    "fig3 = plt.figure(figsize=(10,6))\n",
    "sns.distplot(victims_df.male_proportion, bins = 17, norm_hist = True)\n",
    "plt.title('Distribution of male proportion within victims', fontsize=16)\n",
    "plt.xlabel('')\n",
    "fig3.savefig('assets/fig_3_distrgenderproportion.jpg');"
   ]
  },
  {
   "cell_type": "code",
   "execution_count": 52,
   "metadata": {},
   "outputs": [
    {
     "data": {
      "image/png": "[encoded data removed]",
      "text/plain": [
       "<Figure size 432x576 with 1 Axes>"
      ]
     },
     "metadata": {
      "needs_background": "light"
     },
     "output_type": "display_data"
    }
   ],
   "source": [
    "fig4 = plt.figure(figsize=(6,8))\n",
    "sns.boxplot(y = victims_df.loc[victims_df.male_proportion>0.4].male_proportion)\n",
    "plt.title('Male proportion of victims', fontsize = 16)\n",
    "plt.ylabel('')\n",
    "fig4.savefig('assets/fig_4_boxplot.jpg');\n"
   ]
  },
  {
   "cell_type": "code",
   "execution_count": 122,
   "metadata": {},
   "outputs": [
    {
     "name": "stdout",
     "output_type": "stream",
     "text": [
      "The average proportion of male victims is 0.53.\n",
      "The standard deviation of proportion of male victims is 0.04.\n"
     ]
    }
   ],
   "source": [
    "print(f'The average proportion of male victims is {victims_df.male_proportion.mean():.2f}.')\n",
    "print(f'The standard deviation of proportion of male victims is {victims_df.male_proportion.std(ddof=1):.2f}.')"
   ]
  },
  {
   "cell_type": "markdown",
   "metadata": {},
   "source": [
    "### Large sample test for proportion: Z-test "
   ]
  },
  {
   "cell_type": "markdown",
   "metadata": {},
   "source": [
    "According to the visualization we can see that the proportion of the male victims are over 50%. We will test whether this proportion is significantly higher than 50%. For the test I will use data from 2016.\n",
    "\n",
    "Null hypothesis: the proportion of male victims is 50%.\n",
    "\n",
    "        H_null: p = 0.5\n",
    "        \n",
    "      \n",
    "Alternative hypothesis: the proportion of male victims is higher than 50%.\n",
    "\n",
    "        H_alternative: p > 0.5\n",
    "\n",
    "\n",
    "Where p denotes the population proportion.\n",
    "\n",
    "\n",
    "==> Right-tailed test\n",
    "\n",
    "Significance level: 5%\n"
   ]
  },
  {
   "cell_type": "markdown",
   "metadata": {},
   "source": [
    "### Calculation of test statistic"
   ]
  },
  {
   "cell_type": "code",
   "execution_count": 54,
   "metadata": {},
   "outputs": [
    {
     "name": "stdout",
     "output_type": "stream",
     "text": [
      "Observerd proportion: 0.532\n"
     ]
    }
   ],
   "source": [
    "#observation number:\n",
    "n = df_2016.total_count.sum()\n",
    "#observed proportion:\n",
    "proportion = df_2016.count_male.sum() / df_2016.total_count.sum()\n",
    "print(f'Observerd proportion: {proportion:.3f}')\n",
    "z_statistic = (proportion - 0.5) / (0.5 * 0.5 / n )**0.5\n",
    "p_value = stats.norm.sf(z_statistic)"
   ]
  },
  {
   "cell_type": "code",
   "execution_count": 55,
   "metadata": {},
   "outputs": [
    {
     "name": "stdout",
     "output_type": "stream",
     "text": [
      "Number of observations: 4644464\n",
      "Standard error: 0.000\n",
      "Z-statistic: 136.023, p_value: 0.0\n"
     ]
    }
   ],
   "source": [
    "print(f'Number of observations: {n}')\n",
    "print(f'Standard error: {(0.5 * 0.5 / n )**0.5:.3f}')\n",
    "print(f'Z-statistic: {z_statistic:.3f}, p_value: {p_value}')"
   ]
  },
  {
   "cell_type": "markdown",
   "metadata": {},
   "source": [
    "Checking the assumptions of the test:\n",
    "\n",
    "1.) the sample should be large, for this the calculated values should lie within the range of 0 and 1."
   ]
  },
  {
   "cell_type": "code",
   "execution_count": 161,
   "metadata": {},
   "outputs": [
    {
     "data": {
      "text/plain": [
       "0.5324482614693028"
      ]
     },
     "execution_count": 161,
     "metadata": {},
     "output_type": "execute_result"
    }
   ],
   "source": [
    "p_mean - 3 * (p_mean*(1-p_mean)/n)**0.5"
   ]
  },
  {
   "cell_type": "code",
   "execution_count": 162,
   "metadata": {},
   "outputs": [
    {
     "data": {
      "text/plain": [
       "0.5338372455151151"
      ]
     },
     "execution_count": 162,
     "metadata": {},
     "output_type": "execute_result"
    }
   ],
   "source": [
    "p_mean + 3 * (p_mean*(1-p_mean)/n)**0.5"
   ]
  },
  {
   "cell_type": "markdown",
   "metadata": {},
   "source": [
    "2.) Are the data randomly sampled from the population of interest?\n",
    "\n",
    "3.) Is the population at least 10 times as large as the sample?\n",
    "\n",
    "4.) For a test of H_null, n*p > 10 and n*(1-p) > 10. This requirements are met."
   ]
  },
  {
   "cell_type": "markdown",
   "metadata": {},
   "source": [
    "### Conclusion"
   ]
  },
  {
   "cell_type": "markdown",
   "metadata": {},
   "source": [
    "There is enough evidences at 5% significance level to reject the null hypothesis, the male proportion of the victimes are significantly higher than 50%."
   ]
  },
  {
   "cell_type": "code",
   "execution_count": null,
   "metadata": {},
   "outputs": [],
   "source": []
  }
 ],
 "metadata": {
  "kernelspec": {
   "display_name": "Python 3",
   "language": "python",
   "name": "python3"
  },
  "language_info": {
   "codemirror_mode": {
    "name": "ipython",
    "version": 3
   },
   "file_extension": ".py",
   "mimetype": "text/x-python",
   "name": "python",
   "nbconvert_exporter": "python",
   "pygments_lexer": "ipython3",
   "version": "3.7.3"
  }
 },
 "nbformat": 4,
 "nbformat_minor": 2
}
