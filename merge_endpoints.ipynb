{
 "cells": [
  {
   "cell_type": "markdown",
   "metadata": {},
   "source": [
    "# Merge Endpoints"
   ]
  },
  {
   "cell_type": "markdown",
   "metadata": {},
   "source": [
    "Workflow: 2 <br>\n",
    "Goal: Merge the csv's output fromt he endpoint_ notebooks. <br>"
   ]
  },
  {
   "cell_type": "code",
   "execution_count": 1,
   "metadata": {},
   "outputs": [],
   "source": [
    "import os\n",
    "import pandas as pd\n",
    "\n",
    "import crime_helper as ch"
   ]
  },
  {
   "cell_type": "code",
   "execution_count": 2,
   "metadata": {},
   "outputs": [],
   "source": [
    "from IPython.core.interactiveshell import InteractiveShell\n",
    "InteractiveShell.ast_node_interactivity = \"all\"\n",
    "pd.set_option('display.max_colwidth', -1)"
   ]
  },
  {
   "cell_type": "markdown",
   "metadata": {},
   "source": [
    "## Lookup Endpoints"
   ]
  },
  {
   "cell_type": "code",
   "execution_count": 2,
   "metadata": {},
   "outputs": [],
   "source": [
    "ARREST_FILE = 'data/arrest_tkm_state.csv'\n",
    "EMPLOYMENT_FILE = 'data/employment_state.csv'\n",
    "OFFENDER_FILE = 'data/offender_state.csv'\n",
    "OFFENSE_FILE = 'data/offense_state.csv'\n",
    "VICTIM_FILE = 'data/victim_tkm_state.csv'"
   ]
  },
  {
   "cell_type": "code",
   "execution_count": null,
   "metadata": {},
   "outputs": [],
   "source": [
    "arrest_df = pd.read_csv(ARREST_FILE)\n",
    "arrest_df.head()\n",
    "arrest_df.info()"
   ]
  },
  {
   "cell_type": "code",
   "execution_count": null,
   "metadata": {},
   "outputs": [],
   "source": [
    "employment_df = pd.read_csv(EMPLOYMENT_FILE)\n",
    "employment_df.head()\n",
    "employment_df.info()"
   ]
  },
  {
   "cell_type": "code",
   "execution_count": null,
   "metadata": {},
   "outputs": [],
   "source": [
    "offender_df = pd.read_csv(OFFENDER_FILE)\n",
    "offender_df.head()\n",
    "offender_df.info()"
   ]
  },
  {
   "cell_type": "code",
   "execution_count": null,
   "metadata": {},
   "outputs": [],
   "source": [
    "offense_df = pd.read_csv(OFFENSE_FILE)\n",
    "offense_df.head()\n",
    "offense_df.info()"
   ]
  },
  {
   "cell_type": "code",
   "execution_count": 3,
   "metadata": {},
   "outputs": [
    {
     "data": {
      "text/plain": [
       "18459"
      ]
     },
     "execution_count": 3,
     "metadata": {},
     "output_type": "execute_result"
    },
    {
     "data": {
      "text/plain": [
       "{'ori': 'AK0010100',\n",
       " 'agency_name': 'Anchorage Police Department',\n",
       " 'agency_type_name': 'Municipality',\n",
       " 'state_name': 'Alaska',\n",
       " 'state_abbr': 'AK',\n",
       " 'division_name': 'Pacific',\n",
       " 'region_name': 'West',\n",
       " 'region_desc': 'Region IV',\n",
       " 'county_name': 'ANCHORAGE',\n",
       " 'nibrs': False,\n",
       " 'latitude': 61.17425,\n",
       " 'longitude': -149.284329,\n",
       " 'nibrs_start_date': None}"
      ]
     },
     "execution_count": 3,
     "metadata": {},
     "output_type": "execute_result"
    }
   ],
   "source": [
    "victim_df = pd.read_csv(VICTIM_FILE)\n",
    "victim_df.head()\n",
    "victim_df.info()"
   ]
  },
  {
   "cell_type": "code",
   "execution_count": 4,
   "metadata": {},
   "outputs": [
    {
     "name": "stdout",
     "output_type": "stream",
     "text": [
      "{'count': 6, 'page': 0, 'pages': 1, 'per_page': 20}\n",
      "page 0: len 6\n"
     ]
    },
    {
     "data": {
      "text/plain": [
       "6"
      ]
     },
     "execution_count": 4,
     "metadata": {},
     "output_type": "execute_result"
    },
    {
     "data": {
      "text/plain": [
       "{'region_code': 0,\n",
       " 'region_name': 'U.S. Territories',\n",
       " 'region_desc': 'U.S. Territories'}"
      ]
     },
     "execution_count": 4,
     "metadata": {},
     "output_type": "execute_result"
    }
   ],
   "source": [
    "arrest_df = pd.read_csv(ARREST_FILE)\n",
    "arrest_df.head()\n",
    "arrest_df.info()"
   ]
  },
  {
   "cell_type": "code",
   "execution_count": 7,
   "metadata": {},
   "outputs": [
    {
     "data": {
      "text/plain": [
       "'2.46 mb'"
      ]
     },
     "execution_count": 7,
     "metadata": {},
     "output_type": "execute_result"
    }
   ],
   "source": [
    "save_path = r'data/crime_data_full.csv'\n",
    "merge_df.to_csv(save_path, index=False)\n",
    "f'{round(os.path.getsize(save_path) /1e6, 2)} mb'"
   ]
  }
 ],
 "metadata": {
  "kernelspec": {
   "display_name": "Python 3",
   "language": "python",
   "name": "python3"
  },
  "language_info": {
   "codemirror_mode": {
    "name": "ipython",
    "version": 3
   },
   "file_extension": ".py",
   "mimetype": "text/x-python",
   "name": "python",
   "nbconvert_exporter": "python",
   "pygments_lexer": "ipython3",
   "version": "3.7.3"
  }
 },
 "nbformat": 4,
 "nbformat_minor": 2
}
