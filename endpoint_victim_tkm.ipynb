{
 "cells": [
  {
   "cell_type": "markdown",
   "metadata": {},
   "source": [
    "# Victim TKM Endpoint"
   ]
  },
  {
   "cell_type": "code",
   "execution_count": 1,
   "metadata": {},
   "outputs": [],
   "source": [
    "import os\n",
    "import pandas as pd\n",
    "\n",
    "import crime_helper as ch"
   ]
  },
  {
   "cell_type": "code",
   "execution_count": 2,
   "metadata": {},
   "outputs": [],
   "source": [
    "from IPython.core.interactiveshell import InteractiveShell\n",
    "InteractiveShell.ast_node_interactivity = \"all\"\n",
    "pd.set_option('display.max_colwidth', -1)"
   ]
  },
  {
   "cell_type": "markdown",
   "metadata": {},
   "source": [
    "## Import Lookups"
   ]
  },
  {
   "cell_type": "code",
   "execution_count": 3,
   "metadata": {},
   "outputs": [],
   "source": [
    "OFFENSE_SHORT = 'data/offense_short.csv'\n",
    "STATE = 'data/state.csv'\n",
    "AGENCY = 'data/agency.csv'\n",
    "YEAR_SINCE = 2010\n",
    "YEAR_UNTIL = 2018"
   ]
  },
  {
   "cell_type": "code",
   "execution_count": 4,
   "metadata": {
    "scrolled": true
   },
   "outputs": [
    {
     "data": {
      "text/html": [
       "<div>\n",
       "<style scoped>\n",
       "    .dataframe tbody tr th:only-of-type {\n",
       "        vertical-align: middle;\n",
       "    }\n",
       "\n",
       "    .dataframe tbody tr th {\n",
       "        vertical-align: top;\n",
       "    }\n",
       "\n",
       "    .dataframe thead th {\n",
       "        text-align: right;\n",
       "    }\n",
       "</style>\n",
       "<table border=\"1\" class=\"dataframe\">\n",
       "  <thead>\n",
       "    <tr style=\"text-align: right;\">\n",
       "      <th></th>\n",
       "      <th>offense_type</th>\n",
       "    </tr>\n",
       "  </thead>\n",
       "  <tbody>\n",
       "    <tr>\n",
       "      <th>0</th>\n",
       "      <td>aggravated-assault</td>\n",
       "    </tr>\n",
       "    <tr>\n",
       "      <th>1</th>\n",
       "      <td>burglary</td>\n",
       "    </tr>\n",
       "    <tr>\n",
       "      <th>2</th>\n",
       "      <td>larceny</td>\n",
       "    </tr>\n",
       "    <tr>\n",
       "      <th>3</th>\n",
       "      <td>motor-vehicle-theft</td>\n",
       "    </tr>\n",
       "    <tr>\n",
       "      <th>4</th>\n",
       "      <td>homicide</td>\n",
       "    </tr>\n",
       "  </tbody>\n",
       "</table>\n",
       "</div>"
      ],
      "text/plain": [
       "          offense_type\n",
       "0  aggravated-assault \n",
       "1  burglary           \n",
       "2  larceny            \n",
       "3  motor-vehicle-theft\n",
       "4  homicide           "
      ]
     },
     "execution_count": 4,
     "metadata": {},
     "output_type": "execute_result"
    }
   ],
   "source": [
    "offense_df = pd.read_csv(OFFENSE_SHORT)\n",
    "offense_df.head()"
   ]
  },
  {
   "cell_type": "code",
   "execution_count": 5,
   "metadata": {
    "scrolled": true
   },
   "outputs": [
    {
     "data": {
      "text/html": [
       "<div>\n",
       "<style scoped>\n",
       "    .dataframe tbody tr th:only-of-type {\n",
       "        vertical-align: middle;\n",
       "    }\n",
       "\n",
       "    .dataframe tbody tr th {\n",
       "        vertical-align: top;\n",
       "    }\n",
       "\n",
       "    .dataframe thead th {\n",
       "        text-align: right;\n",
       "    }\n",
       "</style>\n",
       "<table border=\"1\" class=\"dataframe\">\n",
       "  <thead>\n",
       "    <tr style=\"text-align: right;\">\n",
       "      <th></th>\n",
       "      <th>region_code</th>\n",
       "      <th>state_abbr</th>\n",
       "      <th>state_fips_code</th>\n",
       "      <th>state_id</th>\n",
       "      <th>state_name</th>\n",
       "    </tr>\n",
       "  </thead>\n",
       "  <tbody>\n",
       "    <tr>\n",
       "      <th>0</th>\n",
       "      <td>4</td>\n",
       "      <td>AK</td>\n",
       "      <td>2.0</td>\n",
       "      <td>1</td>\n",
       "      <td>Alaska</td>\n",
       "    </tr>\n",
       "    <tr>\n",
       "      <th>1</th>\n",
       "      <td>3</td>\n",
       "      <td>AL</td>\n",
       "      <td>1.0</td>\n",
       "      <td>2</td>\n",
       "      <td>Alabama</td>\n",
       "    </tr>\n",
       "    <tr>\n",
       "      <th>2</th>\n",
       "      <td>3</td>\n",
       "      <td>AR</td>\n",
       "      <td>5.0</td>\n",
       "      <td>3</td>\n",
       "      <td>Arkansas</td>\n",
       "    </tr>\n",
       "    <tr>\n",
       "      <th>3</th>\n",
       "      <td>99</td>\n",
       "      <td>AS</td>\n",
       "      <td>60.0</td>\n",
       "      <td>4</td>\n",
       "      <td>American Samoa</td>\n",
       "    </tr>\n",
       "    <tr>\n",
       "      <th>4</th>\n",
       "      <td>4</td>\n",
       "      <td>AZ</td>\n",
       "      <td>4.0</td>\n",
       "      <td>5</td>\n",
       "      <td>Arizona</td>\n",
       "    </tr>\n",
       "  </tbody>\n",
       "</table>\n",
       "</div>"
      ],
      "text/plain": [
       "   region_code state_abbr  state_fips_code  state_id      state_name\n",
       "0  4            AK         2.0              1         Alaska        \n",
       "1  3            AL         1.0              2         Alabama       \n",
       "2  3            AR         5.0              3         Arkansas      \n",
       "3  99           AS         60.0             4         American Samoa\n",
       "4  4            AZ         4.0              5         Arizona       "
      ]
     },
     "execution_count": 5,
     "metadata": {},
     "output_type": "execute_result"
    }
   ],
   "source": [
    "state_df = pd.read_csv(STATE)\n",
    "state_df.head()\n",
    "#state_df.info()"
   ]
  },
  {
   "cell_type": "code",
   "execution_count": 6,
   "metadata": {},
   "outputs": [
    {
     "data": {
      "text/html": [
       "<div>\n",
       "<style scoped>\n",
       "    .dataframe tbody tr th:only-of-type {\n",
       "        vertical-align: middle;\n",
       "    }\n",
       "\n",
       "    .dataframe tbody tr th {\n",
       "        vertical-align: top;\n",
       "    }\n",
       "\n",
       "    .dataframe thead th {\n",
       "        text-align: right;\n",
       "    }\n",
       "</style>\n",
       "<table border=\"1\" class=\"dataframe\">\n",
       "  <thead>\n",
       "    <tr style=\"text-align: right;\">\n",
       "      <th></th>\n",
       "      <th>agency_name</th>\n",
       "      <th>agency_type_name</th>\n",
       "      <th>county_name</th>\n",
       "      <th>division_name</th>\n",
       "      <th>latitude</th>\n",
       "      <th>longitude</th>\n",
       "      <th>nibrs</th>\n",
       "      <th>nibrs_start_date</th>\n",
       "      <th>ori</th>\n",
       "      <th>region_desc</th>\n",
       "      <th>region_name</th>\n",
       "      <th>state_abbr</th>\n",
       "      <th>state_name</th>\n",
       "    </tr>\n",
       "  </thead>\n",
       "  <tbody>\n",
       "    <tr>\n",
       "      <th>0</th>\n",
       "      <td>Anchorage Police Department</td>\n",
       "      <td>Municipality</td>\n",
       "      <td>ANCHORAGE</td>\n",
       "      <td>Pacific</td>\n",
       "      <td>61.174250</td>\n",
       "      <td>-149.284329</td>\n",
       "      <td>False</td>\n",
       "      <td>NaN</td>\n",
       "      <td>AK0010100</td>\n",
       "      <td>Region IV</td>\n",
       "      <td>West</td>\n",
       "      <td>AK</td>\n",
       "      <td>Alaska</td>\n",
       "    </tr>\n",
       "    <tr>\n",
       "      <th>1</th>\n",
       "      <td>Fairbanks Police Department</td>\n",
       "      <td>Borough</td>\n",
       "      <td>FAIRBANKS NORTH STAR</td>\n",
       "      <td>Pacific</td>\n",
       "      <td>64.839450</td>\n",
       "      <td>-147.719420</td>\n",
       "      <td>False</td>\n",
       "      <td>NaN</td>\n",
       "      <td>AK0010200</td>\n",
       "      <td>Region IV</td>\n",
       "      <td>West</td>\n",
       "      <td>AK</td>\n",
       "      <td>Alaska</td>\n",
       "    </tr>\n",
       "    <tr>\n",
       "      <th>2</th>\n",
       "      <td>Juneau Police Department</td>\n",
       "      <td>City and Borough</td>\n",
       "      <td>JUNEAU</td>\n",
       "      <td>Pacific</td>\n",
       "      <td>58.356556</td>\n",
       "      <td>-134.507310</td>\n",
       "      <td>False</td>\n",
       "      <td>NaN</td>\n",
       "      <td>AK0010300</td>\n",
       "      <td>Region IV</td>\n",
       "      <td>West</td>\n",
       "      <td>AK</td>\n",
       "      <td>Alaska</td>\n",
       "    </tr>\n",
       "    <tr>\n",
       "      <th>3</th>\n",
       "      <td>Ketchikan Police Department</td>\n",
       "      <td>Borough</td>\n",
       "      <td>KETCHIKAN GATEWAY</td>\n",
       "      <td>Pacific</td>\n",
       "      <td>55.449938</td>\n",
       "      <td>-131.106685</td>\n",
       "      <td>False</td>\n",
       "      <td>NaN</td>\n",
       "      <td>AK0010400</td>\n",
       "      <td>Region IV</td>\n",
       "      <td>West</td>\n",
       "      <td>AK</td>\n",
       "      <td>Alaska</td>\n",
       "    </tr>\n",
       "    <tr>\n",
       "      <th>4</th>\n",
       "      <td>Kodiak Police Department</td>\n",
       "      <td>Borough</td>\n",
       "      <td>KODIAK ISLAND</td>\n",
       "      <td>Pacific</td>\n",
       "      <td>57.804900</td>\n",
       "      <td>-152.373320</td>\n",
       "      <td>False</td>\n",
       "      <td>NaN</td>\n",
       "      <td>AK0010500</td>\n",
       "      <td>Region IV</td>\n",
       "      <td>West</td>\n",
       "      <td>AK</td>\n",
       "      <td>Alaska</td>\n",
       "    </tr>\n",
       "  </tbody>\n",
       "</table>\n",
       "</div>"
      ],
      "text/plain": [
       "                   agency_name  agency_type_name           county_name  \\\n",
       "0  Anchorage Police Department  Municipality      ANCHORAGE              \n",
       "1  Fairbanks Police Department  Borough           FAIRBANKS NORTH STAR   \n",
       "2  Juneau Police Department     City and Borough  JUNEAU                 \n",
       "3  Ketchikan Police Department  Borough           KETCHIKAN GATEWAY      \n",
       "4  Kodiak Police Department     Borough           KODIAK ISLAND          \n",
       "\n",
       "  division_name   latitude   longitude  nibrs nibrs_start_date        ori  \\\n",
       "0  Pacific       61.174250 -149.284329  False  NaN              AK0010100   \n",
       "1  Pacific       64.839450 -147.719420  False  NaN              AK0010200   \n",
       "2  Pacific       58.356556 -134.507310  False  NaN              AK0010300   \n",
       "3  Pacific       55.449938 -131.106685  False  NaN              AK0010400   \n",
       "4  Pacific       57.804900 -152.373320  False  NaN              AK0010500   \n",
       "\n",
       "  region_desc region_name state_abbr state_name  \n",
       "0  Region IV   West        AK         Alaska     \n",
       "1  Region IV   West        AK         Alaska     \n",
       "2  Region IV   West        AK         Alaska     \n",
       "3  Region IV   West        AK         Alaska     \n",
       "4  Region IV   West        AK         Alaska     "
      ]
     },
     "execution_count": 6,
     "metadata": {},
     "output_type": "execute_result"
    }
   ],
   "source": [
    "agency_df = pd.read_csv(AGENCY)\n",
    "agency_df.head()"
   ]
  },
  {
   "cell_type": "markdown",
   "metadata": {},
   "source": [
    "## Get API Data"
   ]
  },
  {
   "cell_type": "code",
   "execution_count": 7,
   "metadata": {},
   "outputs": [
    {
     "data": {
      "text/plain": [
       "'homicide'"
      ]
     },
     "execution_count": 7,
     "metadata": {},
     "output_type": "execute_result"
    },
    {
     "data": {
      "text/plain": [
       "'AL0010200'"
      ]
     },
     "execution_count": 7,
     "metadata": {},
     "output_type": "execute_result"
    }
   ],
   "source": [
    "# examine data for a random row\n",
    "\n",
    "random_offense = offense_df.loc[4]['offense_type']\n",
    "random_agency = agency_df.loc[41]['ori']\n",
    "\n",
    "random_offense\n",
    "random_agency"
   ]
  },
  {
   "cell_type": "code",
   "execution_count": 8,
   "metadata": {
    "scrolled": true
   },
   "outputs": [
    {
     "data": {
      "text/plain": [
       "{'ui_type': 'pie_chart',\n",
       " 'noun': 'Victim',\n",
       " 'category': 'Victim demographic',\n",
       " 'title': 'Victim Sex',\n",
       " 'short_title': 'Sex',\n",
       " 'ui_restriction': None,\n",
       " 'keys': ['Male', 'Female', 'Unknown'],\n",
       " 'data': [{'value': 119, 'data_year': 1991, 'month_num': 0, 'key': 'Male'},\n",
       "  {'value': 64, 'data_year': 1992, 'month_num': 0, 'key': 'Male'},\n",
       "  {'value': 22, 'data_year': 1991, 'month_num': 0, 'key': 'Female'},\n",
       "  {'value': 16, 'data_year': 1992, 'month_num': 0, 'key': 'Female'},\n",
       "  {'value': 1, 'data_year': 1991, 'month_num': 0, 'key': 'Unknown'},\n",
       "  {'value': 1, 'data_year': 1992, 'month_num': 0, 'key': 'Unknown'}],\n",
       " 'precise_data': []}"
      ]
     },
     "execution_count": 8,
     "metadata": {},
     "output_type": "execute_result"
    }
   ],
   "source": [
    "config = {\n",
    "    '{offense}': random_offense,\n",
    "    '{ori}': random_agency,\n",
    "    '{variable}': 'sex', \n",
    "}\n",
    "victim_test = ch.get_json(ch.VICTIM_TKM_AGENCY, config)\n",
    "victim_test"
   ]
  },
  {
   "cell_type": "code",
   "execution_count": 9,
   "metadata": {
    "scrolled": true
   },
   "outputs": [
    {
     "data": {
      "text/plain": [
       "1991"
      ]
     },
     "execution_count": 9,
     "metadata": {},
     "output_type": "execute_result"
    },
    {
     "data": {
      "text/plain": [
       "'Male'"
      ]
     },
     "execution_count": 9,
     "metadata": {},
     "output_type": "execute_result"
    },
    {
     "data": {
      "text/plain": [
       "119"
      ]
     },
     "execution_count": 9,
     "metadata": {},
     "output_type": "execute_result"
    }
   ],
   "source": [
    "victim_test['data'][0]['data_year']\n",
    "victim_test['data'][0]['key']\n",
    "victim_test['data'][0]['value']"
   ]
  },
  {
   "cell_type": "markdown",
   "metadata": {},
   "source": [
    "### not enough data at agency level"
   ]
  },
  {
   "cell_type": "code",
   "execution_count": 10,
   "metadata": {},
   "outputs": [
    {
     "data": {
      "text/plain": [
       "'rape'"
      ]
     },
     "execution_count": 10,
     "metadata": {},
     "output_type": "execute_result"
    },
    {
     "data": {
      "text/plain": [
       "'PA'"
      ]
     },
     "execution_count": 10,
     "metadata": {},
     "output_type": "execute_result"
    }
   ],
   "source": [
    "# examine data for a random row\n",
    "\n",
    "offense_test = offense_df.loc[5]['offense_type']\n",
    "state_test = state_df.loc[41]['state_abbr']\n",
    "\n",
    "offense_test\n",
    "state_test"
   ]
  },
  {
   "cell_type": "code",
   "execution_count": 11,
   "metadata": {},
   "outputs": [
    {
     "data": {
      "text/plain": [
       "{'ui_type': 'pie_chart',\n",
       " 'noun': 'Victim',\n",
       " 'category': 'Victim demographic',\n",
       " 'title': 'Victim Sex',\n",
       " 'short_title': 'Sex',\n",
       " 'ui_restriction': None,\n",
       " 'keys': ['Male', 'Female', 'Unknown'],\n",
       " 'data': [{'value': 3, 'data_year': 2013, 'month_num': 0, 'key': 'Male'},\n",
       "  {'value': 5, 'data_year': 2014, 'month_num': 0, 'key': 'Male'},\n",
       "  {'value': 5, 'data_year': 2015, 'month_num': 0, 'key': 'Male'},\n",
       "  {'value': 5, 'data_year': 2016, 'month_num': 0, 'key': 'Male'},\n",
       "  {'value': 1, 'data_year': 2017, 'month_num': 0, 'key': 'Male'},\n",
       "  {'value': 4, 'data_year': 2018, 'month_num': 0, 'key': 'Male'},\n",
       "  {'value': 12, 'data_year': 2013, 'month_num': 0, 'key': 'Female'},\n",
       "  {'value': 43, 'data_year': 2014, 'month_num': 0, 'key': 'Female'},\n",
       "  {'value': 52, 'data_year': 2015, 'month_num': 0, 'key': 'Female'},\n",
       "  {'value': 39, 'data_year': 2016, 'month_num': 0, 'key': 'Female'},\n",
       "  {'value': 33, 'data_year': 2017, 'month_num': 0, 'key': 'Female'},\n",
       "  {'value': 36, 'data_year': 2018, 'month_num': 0, 'key': 'Female'},\n",
       "  {'value': 0, 'data_year': 2013, 'month_num': 0, 'key': 'Unknown'},\n",
       "  {'value': 0, 'data_year': 2014, 'month_num': 0, 'key': 'Unknown'},\n",
       "  {'value': 0, 'data_year': 2015, 'month_num': 0, 'key': 'Unknown'},\n",
       "  {'value': 0, 'data_year': 2016, 'month_num': 0, 'key': 'Unknown'},\n",
       "  {'value': 0, 'data_year': 2017, 'month_num': 0, 'key': 'Unknown'},\n",
       "  {'value': 0, 'data_year': 2018, 'month_num': 0, 'key': 'Unknown'}],\n",
       " 'precise_data': []}"
      ]
     },
     "execution_count": 11,
     "metadata": {},
     "output_type": "execute_result"
    }
   ],
   "source": [
    "config = {\n",
    "    '{offense}': offense_test,\n",
    "    '{stateAbbr}': state_test,\n",
    "    '{variable}': 'sex', \n",
    "}\n",
    "victim_test = ch.get_json(ch.VICTIM_TKM_STATE, config)\n",
    "victim_test"
   ]
  },
  {
   "cell_type": "code",
   "execution_count": 12,
   "metadata": {},
   "outputs": [
    {
     "name": "stdout",
     "output_type": "stream",
     "text": [
      "aggravated-assault\n",
      "burglary\n",
      "larceny\n",
      "motor-vehicle-theft\n",
      "homicide\n",
      "rape\n",
      "robbery\n",
      "arson\n",
      "violent-crime\n",
      "property-crime\n"
     ]
    },
    {
     "data": {
      "text/plain": [
       "[{'state': 'AL',\n",
       "  'offense': 'aggravated-assault',\n",
       "  'year': 1991,\n",
       "  'gender': 'Male',\n",
       "  'count': 11230},\n",
       " {'state': 'AL',\n",
       "  'offense': 'aggravated-assault',\n",
       "  'year': 1992,\n",
       "  'gender': 'Male',\n",
       "  'count': 9008},\n",
       " {'state': 'AL',\n",
       "  'offense': 'aggravated-assault',\n",
       "  'year': 2006,\n",
       "  'gender': 'Male',\n",
       "  'count': 22},\n",
       " {'state': 'AL',\n",
       "  'offense': 'aggravated-assault',\n",
       "  'year': 2007,\n",
       "  'gender': 'Male',\n",
       "  'count': 22},\n",
       " {'state': 'AL',\n",
       "  'offense': 'aggravated-assault',\n",
       "  'year': 2008,\n",
       "  'gender': 'Male',\n",
       "  'count': 26}]"
      ]
     },
     "execution_count": 12,
     "metadata": {},
     "output_type": "execute_result"
    }
   ],
   "source": [
    "# loop over all lookup values and aggregate full results\n",
    "\n",
    "results_ls = []\n",
    "\n",
    "for idx_off, row_off in offense_df.iterrows():\n",
    "    offense = row_off['offense_type']\n",
    "    print(offense)\n",
    "    \n",
    "    for idx_stt, row_stt in state_df.iterrows():\n",
    "        state = row_stt['state_abbr']\n",
    "        \n",
    "        config = {\n",
    "            '{offense}': offense,\n",
    "            '{stateAbbr}': state,\n",
    "            '{variable}': 'sex', \n",
    "        }\n",
    "        result = ch.get_json(ch.VICTIM_TKM_STATE, config)\n",
    "        \n",
    "        for res in result['data']:\n",
    "            new_dx = {\n",
    "                'state': state,\n",
    "                'offense': offense,\n",
    "                'year': res['data_year'],\n",
    "                'gender': res['key'],\n",
    "                'count': res['value'],\n",
    "            }\n",
    "            results_ls.append(new_dx)\n",
    "            \n",
    "results_ls[:5]"
   ]
  },
  {
   "cell_type": "markdown",
   "metadata": {},
   "source": [
    "## Create DataFrame from API"
   ]
  },
  {
   "cell_type": "code",
   "execution_count": 15,
   "metadata": {},
   "outputs": [
    {
     "data": {
      "text/html": [
       "<div>\n",
       "<style scoped>\n",
       "    .dataframe tbody tr th:only-of-type {\n",
       "        vertical-align: middle;\n",
       "    }\n",
       "\n",
       "    .dataframe tbody tr th {\n",
       "        vertical-align: top;\n",
       "    }\n",
       "\n",
       "    .dataframe thead th {\n",
       "        text-align: right;\n",
       "    }\n",
       "</style>\n",
       "<table border=\"1\" class=\"dataframe\">\n",
       "  <thead>\n",
       "    <tr style=\"text-align: right;\">\n",
       "      <th></th>\n",
       "      <th>count</th>\n",
       "      <th>gender</th>\n",
       "      <th>offense</th>\n",
       "      <th>state</th>\n",
       "      <th>year</th>\n",
       "    </tr>\n",
       "  </thead>\n",
       "  <tbody>\n",
       "    <tr>\n",
       "      <th>0</th>\n",
       "      <td>11230</td>\n",
       "      <td>Male</td>\n",
       "      <td>aggravated-assault</td>\n",
       "      <td>AL</td>\n",
       "      <td>1991</td>\n",
       "    </tr>\n",
       "    <tr>\n",
       "      <th>15</th>\n",
       "      <td>9592</td>\n",
       "      <td>Female</td>\n",
       "      <td>aggravated-assault</td>\n",
       "      <td>AL</td>\n",
       "      <td>1991</td>\n",
       "    </tr>\n",
       "    <tr>\n",
       "      <th>30</th>\n",
       "      <td>1087</td>\n",
       "      <td>Unknown</td>\n",
       "      <td>aggravated-assault</td>\n",
       "      <td>AL</td>\n",
       "      <td>1991</td>\n",
       "    </tr>\n",
       "    <tr>\n",
       "      <th>15357</th>\n",
       "      <td>32</td>\n",
       "      <td>Male</td>\n",
       "      <td>arson</td>\n",
       "      <td>AL</td>\n",
       "      <td>1991</td>\n",
       "    </tr>\n",
       "    <tr>\n",
       "      <th>15371</th>\n",
       "      <td>26</td>\n",
       "      <td>Female</td>\n",
       "      <td>arson</td>\n",
       "      <td>AL</td>\n",
       "      <td>1991</td>\n",
       "    </tr>\n",
       "  </tbody>\n",
       "</table>\n",
       "</div>"
      ],
      "text/plain": [
       "       count   gender             offense state  year\n",
       "0      11230  Male     aggravated-assault  AL    1991\n",
       "15     9592   Female   aggravated-assault  AL    1991\n",
       "30     1087   Unknown  aggravated-assault  AL    1991\n",
       "15357  32     Male     arson               AL    1991\n",
       "15371  26     Female   arson               AL    1991"
      ]
     },
     "execution_count": 15,
     "metadata": {},
     "output_type": "execute_result"
    },
    {
     "name": "stdout",
     "output_type": "stream",
     "text": [
      "<class 'pandas.core.frame.DataFrame'>\n",
      "Int64Index: 21969 entries, 0 to 19727\n",
      "Data columns (total 5 columns):\n",
      "count      21969 non-null int64\n",
      "gender     21969 non-null object\n",
      "offense    21969 non-null object\n",
      "state      21969 non-null object\n",
      "year       21969 non-null int64\n",
      "dtypes: int64(2), object(3)\n",
      "memory usage: 1.0+ MB\n"
     ]
    }
   ],
   "source": [
    "endpoint_df = pd.DataFrame(results_ls)\n",
    "endpoint_df = endpoint_df.sort_values(['state', 'year', 'offense'])\n",
    "endpoint_df.head()\n",
    "endpoint_df.info()"
   ]
  },
  {
   "cell_type": "code",
   "execution_count": 16,
   "metadata": {},
   "outputs": [
    {
     "data": {
      "text/html": [
       "<div>\n",
       "<style scoped>\n",
       "    .dataframe tbody tr th:only-of-type {\n",
       "        vertical-align: middle;\n",
       "    }\n",
       "\n",
       "    .dataframe tbody tr th {\n",
       "        vertical-align: top;\n",
       "    }\n",
       "\n",
       "    .dataframe thead th {\n",
       "        text-align: right;\n",
       "    }\n",
       "</style>\n",
       "<table border=\"1\" class=\"dataframe\">\n",
       "  <thead>\n",
       "    <tr style=\"text-align: right;\">\n",
       "      <th></th>\n",
       "      <th>count</th>\n",
       "      <th>gender</th>\n",
       "      <th>offense</th>\n",
       "      <th>state</th>\n",
       "      <th>year</th>\n",
       "    </tr>\n",
       "  </thead>\n",
       "  <tbody>\n",
       "  </tbody>\n",
       "</table>\n",
       "</div>"
      ],
      "text/plain": [
       "Empty DataFrame\n",
       "Columns: [count, gender, offense, state, year]\n",
       "Index: []"
      ]
     },
     "execution_count": 16,
     "metadata": {},
     "output_type": "execute_result"
    }
   ],
   "source": [
    "# no duplicates in this endpoint\n",
    "\n",
    "doop_df = endpoint_df.loc[endpoint_df.duplicated(subset=['state', 'year', 'offense', 'gender'], keep=False) == True]\n",
    "doop_df.head()"
   ]
  },
  {
   "cell_type": "code",
   "execution_count": 17,
   "metadata": {},
   "outputs": [
    {
     "data": {
      "text/html": [
       "<div>\n",
       "<style scoped>\n",
       "    .dataframe tbody tr th:only-of-type {\n",
       "        vertical-align: middle;\n",
       "    }\n",
       "\n",
       "    .dataframe tbody tr th {\n",
       "        vertical-align: top;\n",
       "    }\n",
       "\n",
       "    .dataframe thead th {\n",
       "        text-align: right;\n",
       "    }\n",
       "</style>\n",
       "<table border=\"1\" class=\"dataframe\">\n",
       "  <thead>\n",
       "    <tr style=\"text-align: right;\">\n",
       "      <th></th>\n",
       "      <th>state</th>\n",
       "      <th>year</th>\n",
       "      <th>offense</th>\n",
       "      <th>gender</th>\n",
       "      <th>count</th>\n",
       "    </tr>\n",
       "  </thead>\n",
       "  <tbody>\n",
       "    <tr>\n",
       "      <th>0</th>\n",
       "      <td>AL</td>\n",
       "      <td>1991</td>\n",
       "      <td>aggravated-assault</td>\n",
       "      <td>Male</td>\n",
       "      <td>11230</td>\n",
       "    </tr>\n",
       "    <tr>\n",
       "      <th>1</th>\n",
       "      <td>AL</td>\n",
       "      <td>1991</td>\n",
       "      <td>aggravated-assault</td>\n",
       "      <td>Female</td>\n",
       "      <td>9592</td>\n",
       "    </tr>\n",
       "    <tr>\n",
       "      <th>2</th>\n",
       "      <td>AL</td>\n",
       "      <td>1991</td>\n",
       "      <td>aggravated-assault</td>\n",
       "      <td>Unknown</td>\n",
       "      <td>1087</td>\n",
       "    </tr>\n",
       "    <tr>\n",
       "      <th>3</th>\n",
       "      <td>AL</td>\n",
       "      <td>1991</td>\n",
       "      <td>arson</td>\n",
       "      <td>Male</td>\n",
       "      <td>32</td>\n",
       "    </tr>\n",
       "    <tr>\n",
       "      <th>4</th>\n",
       "      <td>AL</td>\n",
       "      <td>1991</td>\n",
       "      <td>arson</td>\n",
       "      <td>Female</td>\n",
       "      <td>26</td>\n",
       "    </tr>\n",
       "  </tbody>\n",
       "</table>\n",
       "</div>"
      ],
      "text/plain": [
       "  state  year             offense   gender  count\n",
       "0  AL    1991  aggravated-assault  Male     11230\n",
       "1  AL    1991  aggravated-assault  Female   9592 \n",
       "2  AL    1991  aggravated-assault  Unknown  1087 \n",
       "3  AL    1991  arson               Male     32   \n",
       "4  AL    1991  arson               Female   26   "
      ]
     },
     "execution_count": 17,
     "metadata": {},
     "output_type": "execute_result"
    },
    {
     "name": "stdout",
     "output_type": "stream",
     "text": [
      "<class 'pandas.core.frame.DataFrame'>\n",
      "RangeIndex: 21969 entries, 0 to 21968\n",
      "Data columns (total 5 columns):\n",
      "state      21969 non-null object\n",
      "year       21969 non-null int64\n",
      "offense    21969 non-null object\n",
      "gender     21969 non-null object\n",
      "count      21969 non-null int64\n",
      "dtypes: int64(2), object(3)\n",
      "memory usage: 858.2+ KB\n"
     ]
    }
   ],
   "source": [
    "endpoint_df = endpoint_df.reset_index()\n",
    "endpoint_df = endpoint_df[['state', 'year', 'offense', 'gender', 'count']]\n",
    "endpoint_df.head()\n",
    "endpoint_df.info()"
   ]
  },
  {
   "cell_type": "markdown",
   "metadata": {},
   "source": [
    "## Export to csv"
   ]
  },
  {
   "cell_type": "code",
   "execution_count": 18,
   "metadata": {},
   "outputs": [
    {
     "data": {
      "text/plain": [
       "'0.65 mb'"
      ]
     },
     "execution_count": 18,
     "metadata": {},
     "output_type": "execute_result"
    }
   ],
   "source": [
    "save_path = r'data/victim_tkm_state.csv'\n",
    "endpoint_df.to_csv(save_path, index=False)\n",
    "f'{round(os.path.getsize(save_path) /1e6, 2)} mb'"
   ]
  },
  {
   "cell_type": "code",
   "execution_count": null,
   "metadata": {},
   "outputs": [],
   "source": []
  }
 ],
 "metadata": {
  "kernelspec": {
   "display_name": "Python 3",
   "language": "python",
   "name": "python3"
  },
  "language_info": {
   "codemirror_mode": {
    "name": "ipython",
    "version": 3
   },
   "file_extension": ".py",
   "mimetype": "text/x-python",
   "name": "python",
   "nbconvert_exporter": "python",
   "pygments_lexer": "ipython3",
   "version": "3.7.3"
  }
 },
 "nbformat": 4,
 "nbformat_minor": 2
}
