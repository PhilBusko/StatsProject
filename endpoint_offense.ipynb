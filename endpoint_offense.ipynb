{
 "cells": [
  {
   "cell_type": "markdown",
   "metadata": {},
   "source": [
    "# CDE - Explore Endpoints"
   ]
  },
  {
   "cell_type": "code",
   "execution_count": 1,
   "metadata": {},
   "outputs": [],
   "source": [
    "import os\n",
    "import pandas as pd\n",
    "\n",
    "import crime_helper as ch"
   ]
  },
  {
   "cell_type": "code",
   "execution_count": 2,
   "metadata": {},
   "outputs": [],
   "source": [
    "from IPython.core.interactiveshell import InteractiveShell\n",
    "InteractiveShell.ast_node_interactivity = \"all\"\n",
    "pd.set_option('display.max_colwidth', -1)"
   ]
  },
  {
   "cell_type": "markdown",
   "metadata": {},
   "source": [
    "## Import Data"
   ]
  },
  {
   "cell_type": "code",
   "execution_count": 3,
   "metadata": {},
   "outputs": [],
   "source": [
    "# load the lookup data\n",
    "\n",
    "STATE = 'data/state.csv'\n",
    "OFFENSE_SHORT = 'data/offense_short.csv'\n",
    "YEAR_SINCE = 2010\n",
    "YEAR_UNTIL = 2011"
   ]
  },
  {
   "cell_type": "code",
   "execution_count": 4,
   "metadata": {
    "scrolled": true
   },
   "outputs": [
    {
     "data": {
      "text/html": [
       "<div>\n",
       "<style scoped>\n",
       "    .dataframe tbody tr th:only-of-type {\n",
       "        vertical-align: middle;\n",
       "    }\n",
       "\n",
       "    .dataframe tbody tr th {\n",
       "        vertical-align: top;\n",
       "    }\n",
       "\n",
       "    .dataframe thead th {\n",
       "        text-align: right;\n",
       "    }\n",
       "</style>\n",
       "<table border=\"1\" class=\"dataframe\">\n",
       "  <thead>\n",
       "    <tr style=\"text-align: right;\">\n",
       "      <th></th>\n",
       "      <th>region_code</th>\n",
       "      <th>state_abbr</th>\n",
       "      <th>state_fips_code</th>\n",
       "      <th>state_id</th>\n",
       "      <th>state_name</th>\n",
       "    </tr>\n",
       "  </thead>\n",
       "  <tbody>\n",
       "    <tr>\n",
       "      <th>0</th>\n",
       "      <td>4</td>\n",
       "      <td>AK</td>\n",
       "      <td>2.0</td>\n",
       "      <td>1</td>\n",
       "      <td>Alaska</td>\n",
       "    </tr>\n",
       "    <tr>\n",
       "      <th>1</th>\n",
       "      <td>3</td>\n",
       "      <td>AL</td>\n",
       "      <td>1.0</td>\n",
       "      <td>2</td>\n",
       "      <td>Alabama</td>\n",
       "    </tr>\n",
       "    <tr>\n",
       "      <th>2</th>\n",
       "      <td>3</td>\n",
       "      <td>AR</td>\n",
       "      <td>5.0</td>\n",
       "      <td>3</td>\n",
       "      <td>Arkansas</td>\n",
       "    </tr>\n",
       "    <tr>\n",
       "      <th>3</th>\n",
       "      <td>99</td>\n",
       "      <td>AS</td>\n",
       "      <td>60.0</td>\n",
       "      <td>4</td>\n",
       "      <td>American Samoa</td>\n",
       "    </tr>\n",
       "    <tr>\n",
       "      <th>4</th>\n",
       "      <td>4</td>\n",
       "      <td>AZ</td>\n",
       "      <td>4.0</td>\n",
       "      <td>5</td>\n",
       "      <td>Arizona</td>\n",
       "    </tr>\n",
       "  </tbody>\n",
       "</table>\n",
       "</div>"
      ],
      "text/plain": [
       "   region_code state_abbr  state_fips_code  state_id      state_name\n",
       "0  4            AK         2.0              1         Alaska        \n",
       "1  3            AL         1.0              2         Alabama       \n",
       "2  3            AR         5.0              3         Arkansas      \n",
       "3  99           AS         60.0             4         American Samoa\n",
       "4  4            AZ         4.0              5         Arizona       "
      ]
     },
     "execution_count": 4,
     "metadata": {},
     "output_type": "execute_result"
    }
   ],
   "source": [
    "state_df = pd.read_csv(STATE)\n",
    "state_df.head()"
   ]
  },
  {
   "cell_type": "code",
   "execution_count": 5,
   "metadata": {},
   "outputs": [
    {
     "data": {
      "text/html": [
       "<div>\n",
       "<style scoped>\n",
       "    .dataframe tbody tr th:only-of-type {\n",
       "        vertical-align: middle;\n",
       "    }\n",
       "\n",
       "    .dataframe tbody tr th {\n",
       "        vertical-align: top;\n",
       "    }\n",
       "\n",
       "    .dataframe thead th {\n",
       "        text-align: right;\n",
       "    }\n",
       "</style>\n",
       "<table border=\"1\" class=\"dataframe\">\n",
       "  <thead>\n",
       "    <tr style=\"text-align: right;\">\n",
       "      <th></th>\n",
       "      <th>offense_type</th>\n",
       "    </tr>\n",
       "  </thead>\n",
       "  <tbody>\n",
       "    <tr>\n",
       "      <th>0</th>\n",
       "      <td>aggravated-assault</td>\n",
       "    </tr>\n",
       "    <tr>\n",
       "      <th>1</th>\n",
       "      <td>burglary</td>\n",
       "    </tr>\n",
       "    <tr>\n",
       "      <th>2</th>\n",
       "      <td>larceny</td>\n",
       "    </tr>\n",
       "    <tr>\n",
       "      <th>3</th>\n",
       "      <td>motor-vehicle-theft</td>\n",
       "    </tr>\n",
       "    <tr>\n",
       "      <th>4</th>\n",
       "      <td>homicide</td>\n",
       "    </tr>\n",
       "  </tbody>\n",
       "</table>\n",
       "</div>"
      ],
      "text/plain": [
       "          offense_type\n",
       "0  aggravated-assault \n",
       "1  burglary           \n",
       "2  larceny            \n",
       "3  motor-vehicle-theft\n",
       "4  homicide           "
      ]
     },
     "execution_count": 5,
     "metadata": {},
     "output_type": "execute_result"
    }
   ],
   "source": [
    "offense_df = pd.read_csv(OFFENSE_SHORT)\n",
    "offense_df.head()"
   ]
  },
  {
   "cell_type": "code",
   "execution_count": 6,
   "metadata": {},
   "outputs": [
    {
     "data": {
      "text/plain": [
       "'DE'"
      ]
     },
     "execution_count": 6,
     "metadata": {},
     "output_type": "execute_result"
    },
    {
     "data": {
      "text/plain": [
       "'homicide'"
      ]
     },
     "execution_count": 6,
     "metadata": {},
     "output_type": "execute_result"
    }
   ],
   "source": [
    "# examine data for a random row\n",
    "\n",
    "random_state = state_df.loc[10]['state_abbr']\n",
    "random_offense = offense_df.loc[4]['offense_type']\n",
    "random_state\n",
    "random_offense"
   ]
  },
  {
   "cell_type": "code",
   "execution_count": 7,
   "metadata": {},
   "outputs": [
    {
     "name": "stdout",
     "output_type": "stream",
     "text": [
      "https://api.usa.gov/crime/fbi/sapi//api/nibrs/homicide/offense/states/DE/count\n"
     ]
    }
   ],
   "source": [
    "config = {\n",
    "    '{offense}': random_offense,\n",
    "    '{stateAbbr}': random_state,\n",
    "}\n",
    "offense = ch.get_json(ch.OFFENSE_STATE, config)"
   ]
  },
  {
   "cell_type": "code",
   "execution_count": 8,
   "metadata": {},
   "outputs": [
    {
     "data": {
      "text/plain": [
       "{'ui_type': 'text',\n",
       " 'noun': 'offense',\n",
       " 'category': None,\n",
       " 'title': 'Offense Count',\n",
       " 'short_title': None,\n",
       " 'ui_restriction': None,\n",
       " 'keys': ['Incident Count', 'Offense Count'],\n",
       " 'data': [{'value': 25,\n",
       "   'data_year': 2001,\n",
       "   'month_num': 0,\n",
       "   'key': 'Incident Count'},\n",
       "  {'value': 29, 'data_year': 2002, 'month_num': 0, 'key': 'Incident Count'},\n",
       "  {'value': 21, 'data_year': 2003, 'month_num': 0, 'key': 'Incident Count'},\n",
       "  {'value': 27, 'data_year': 2004, 'month_num': 0, 'key': 'Incident Count'},\n",
       "  {'value': 38, 'data_year': 2005, 'month_num': 0, 'key': 'Incident Count'},\n",
       "  {'value': 39, 'data_year': 2006, 'month_num': 0, 'key': 'Incident Count'},\n",
       "  {'value': 39, 'data_year': 2007, 'month_num': 0, 'key': 'Incident Count'},\n",
       "  {'value': 54, 'data_year': 2008, 'month_num': 0, 'key': 'Incident Count'},\n",
       "  {'value': 40, 'data_year': 2009, 'month_num': 0, 'key': 'Incident Count'},\n",
       "  {'value': 51, 'data_year': 2010, 'month_num': 0, 'key': 'Incident Count'},\n",
       "  {'value': 46, 'data_year': 2011, 'month_num': 0, 'key': 'Incident Count'},\n",
       "  {'value': 52, 'data_year': 2012, 'month_num': 0, 'key': 'Incident Count'},\n",
       "  {'value': 38, 'data_year': 2013, 'month_num': 0, 'key': 'Incident Count'},\n",
       "  {'value': 47, 'data_year': 2014, 'month_num': 0, 'key': 'Incident Count'},\n",
       "  {'value': 54, 'data_year': 2015, 'month_num': 0, 'key': 'Incident Count'},\n",
       "  {'value': 51, 'data_year': 2016, 'month_num': 0, 'key': 'Incident Count'},\n",
       "  {'value': 49, 'data_year': 2017, 'month_num': 0, 'key': 'Incident Count'},\n",
       "  {'value': 42, 'data_year': 2018, 'month_num': 0, 'key': 'Incident Count'},\n",
       "  {'value': 29, 'data_year': 2001, 'month_num': 0, 'key': 'Offense Count'},\n",
       "  {'value': 30, 'data_year': 2002, 'month_num': 0, 'key': 'Offense Count'},\n",
       "  {'value': 21, 'data_year': 2003, 'month_num': 0, 'key': 'Offense Count'},\n",
       "  {'value': 28, 'data_year': 2004, 'month_num': 0, 'key': 'Offense Count'},\n",
       "  {'value': 41, 'data_year': 2005, 'month_num': 0, 'key': 'Offense Count'},\n",
       "  {'value': 42, 'data_year': 2006, 'month_num': 0, 'key': 'Offense Count'},\n",
       "  {'value': 39, 'data_year': 2007, 'month_num': 0, 'key': 'Offense Count'},\n",
       "  {'value': 57, 'data_year': 2008, 'month_num': 0, 'key': 'Offense Count'},\n",
       "  {'value': 41, 'data_year': 2009, 'month_num': 0, 'key': 'Offense Count'},\n",
       "  {'value': 51, 'data_year': 2010, 'month_num': 0, 'key': 'Offense Count'},\n",
       "  {'value': 48, 'data_year': 2011, 'month_num': 0, 'key': 'Offense Count'},\n",
       "  {'value': 56, 'data_year': 2012, 'month_num': 0, 'key': 'Offense Count'},\n",
       "  {'value': 41, 'data_year': 2013, 'month_num': 0, 'key': 'Offense Count'},\n",
       "  {'value': 48, 'data_year': 2014, 'month_num': 0, 'key': 'Offense Count'},\n",
       "  {'value': 56, 'data_year': 2015, 'month_num': 0, 'key': 'Offense Count'},\n",
       "  {'value': 53, 'data_year': 2016, 'month_num': 0, 'key': 'Offense Count'},\n",
       "  {'value': 51, 'data_year': 2017, 'month_num': 0, 'key': 'Offense Count'},\n",
       "  {'value': 48, 'data_year': 2018, 'month_num': 0, 'key': 'Offense Count'}],\n",
       " 'precise_data': []}"
      ]
     },
     "execution_count": 8,
     "metadata": {},
     "output_type": "execute_result"
    }
   ],
   "source": [
    "offense"
   ]
  },
  {
   "cell_type": "markdown",
   "metadata": {},
   "source": [
    "## Export to csv"
   ]
  },
  {
   "cell_type": "code",
   "execution_count": 9,
   "metadata": {},
   "outputs": [
    {
     "ename": "NameError",
     "evalue": "name 'file_df' is not defined",
     "output_type": "error",
     "traceback": [
      "\u001b[0;31m---------------------------------------------------------------------------\u001b[0m",
      "\u001b[0;31mNameError\u001b[0m                                 Traceback (most recent call last)",
      "\u001b[0;32m<ipython-input-9-275d738ddbb9>\u001b[0m in \u001b[0;36m<module>\u001b[0;34m\u001b[0m\n\u001b[1;32m      1\u001b[0m \u001b[0msave_path\u001b[0m \u001b[0;34m=\u001b[0m \u001b[0;34mr'data/file_clean.csv'\u001b[0m\u001b[0;34m\u001b[0m\u001b[0;34m\u001b[0m\u001b[0m\n\u001b[0;32m----> 2\u001b[0;31m \u001b[0mfile_df\u001b[0m\u001b[0;34m.\u001b[0m\u001b[0mto_csv\u001b[0m\u001b[0;34m(\u001b[0m\u001b[0msave_path\u001b[0m\u001b[0;34m,\u001b[0m \u001b[0mindex\u001b[0m\u001b[0;34m=\u001b[0m\u001b[0;32mFalse\u001b[0m\u001b[0;34m)\u001b[0m\u001b[0;34m\u001b[0m\u001b[0;34m\u001b[0m\u001b[0m\n\u001b[0m\u001b[1;32m      3\u001b[0m \u001b[0;34mf'{round(os.path.getsize(save_path) /1e6, 2)} mb'\u001b[0m\u001b[0;34m\u001b[0m\u001b[0;34m\u001b[0m\u001b[0m\n",
      "\u001b[0;31mNameError\u001b[0m: name 'file_df' is not defined"
     ]
    }
   ],
   "source": [
    "save_path = r'data/file_clean.csv'\n",
    "file_df.to_csv(save_path, index=False)\n",
    "f'{round(os.path.getsize(save_path) /1e6, 2)} mb'"
   ]
  }
 ],
 "metadata": {
  "kernelspec": {
   "display_name": "Python 3",
   "language": "python",
   "name": "python3"
  },
  "language_info": {
   "codemirror_mode": {
    "name": "ipython",
    "version": 3
   },
   "file_extension": ".py",
   "mimetype": "text/x-python",
   "name": "python",
   "nbconvert_exporter": "python",
   "pygments_lexer": "ipython3",
   "version": "3.7.3"
  }
 },
 "nbformat": 4,
 "nbformat_minor": 2
}
