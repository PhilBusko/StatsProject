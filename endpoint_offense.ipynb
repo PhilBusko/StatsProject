{
 "cells": [
  {
   "cell_type": "markdown",
   "metadata": {},
   "source": [
    "# CDE - Explore Endpoints"
   ]
  },
  {
   "cell_type": "code",
   "execution_count": 1,
   "metadata": {},
   "outputs": [],
   "source": [
    "import os\n",
    "import pandas as pd\n",
    "\n",
    "import crime_helper as ch"
   ]
  },
  {
   "cell_type": "code",
   "execution_count": 2,
   "metadata": {},
   "outputs": [],
   "source": [
    "from IPython.core.interactiveshell import InteractiveShell\n",
    "InteractiveShell.ast_node_interactivity = \"all\"\n",
    "pd.set_option('display.max_colwidth', -1)"
   ]
  },
  {
   "cell_type": "markdown",
   "metadata": {},
   "source": [
    "## Import Data"
   ]
  },
  {
   "cell_type": "code",
   "execution_count": 3,
   "metadata": {},
   "outputs": [],
   "source": [
    "AGENCY = 'data/state.csv'\n",
    "YEAR_SINCE = 2010\n",
    "YEAR_UNTIL = 2011"
   ]
  },
  {
   "cell_type": "code",
   "execution_count": 4,
   "metadata": {
    "scrolled": true
   },
   "outputs": [
    {
     "data": {
      "text/html": [
       "<div>\n",
       "<style scoped>\n",
       "    .dataframe tbody tr th:only-of-type {\n",
       "        vertical-align: middle;\n",
       "    }\n",
       "\n",
       "    .dataframe tbody tr th {\n",
       "        vertical-align: top;\n",
       "    }\n",
       "\n",
       "    .dataframe thead th {\n",
       "        text-align: right;\n",
       "    }\n",
       "</style>\n",
       "<table border=\"1\" class=\"dataframe\">\n",
       "  <thead>\n",
       "    <tr style=\"text-align: right;\">\n",
       "      <th></th>\n",
       "      <th>agency_name</th>\n",
       "      <th>agency_type_name</th>\n",
       "      <th>county_name</th>\n",
       "      <th>division_name</th>\n",
       "      <th>latitude</th>\n",
       "      <th>longitude</th>\n",
       "      <th>nibrs</th>\n",
       "      <th>nibrs_start_date</th>\n",
       "      <th>ori</th>\n",
       "      <th>region_desc</th>\n",
       "      <th>region_name</th>\n",
       "      <th>state_abbr</th>\n",
       "      <th>state_name</th>\n",
       "    </tr>\n",
       "  </thead>\n",
       "  <tbody>\n",
       "    <tr>\n",
       "      <th>0</th>\n",
       "      <td>Anchorage Police Department</td>\n",
       "      <td>Municipality</td>\n",
       "      <td>ANCHORAGE</td>\n",
       "      <td>Pacific</td>\n",
       "      <td>61.174250</td>\n",
       "      <td>-149.284329</td>\n",
       "      <td>False</td>\n",
       "      <td>NaN</td>\n",
       "      <td>AK0010100</td>\n",
       "      <td>Region IV</td>\n",
       "      <td>West</td>\n",
       "      <td>AK</td>\n",
       "      <td>Alaska</td>\n",
       "    </tr>\n",
       "    <tr>\n",
       "      <th>1</th>\n",
       "      <td>Fairbanks Police Department</td>\n",
       "      <td>Borough</td>\n",
       "      <td>FAIRBANKS NORTH STAR</td>\n",
       "      <td>Pacific</td>\n",
       "      <td>64.839450</td>\n",
       "      <td>-147.719420</td>\n",
       "      <td>False</td>\n",
       "      <td>NaN</td>\n",
       "      <td>AK0010200</td>\n",
       "      <td>Region IV</td>\n",
       "      <td>West</td>\n",
       "      <td>AK</td>\n",
       "      <td>Alaska</td>\n",
       "    </tr>\n",
       "    <tr>\n",
       "      <th>2</th>\n",
       "      <td>Juneau Police Department</td>\n",
       "      <td>City and Borough</td>\n",
       "      <td>JUNEAU</td>\n",
       "      <td>Pacific</td>\n",
       "      <td>58.356556</td>\n",
       "      <td>-134.507310</td>\n",
       "      <td>False</td>\n",
       "      <td>NaN</td>\n",
       "      <td>AK0010300</td>\n",
       "      <td>Region IV</td>\n",
       "      <td>West</td>\n",
       "      <td>AK</td>\n",
       "      <td>Alaska</td>\n",
       "    </tr>\n",
       "    <tr>\n",
       "      <th>3</th>\n",
       "      <td>Ketchikan Police Department</td>\n",
       "      <td>Borough</td>\n",
       "      <td>KETCHIKAN GATEWAY</td>\n",
       "      <td>Pacific</td>\n",
       "      <td>55.449938</td>\n",
       "      <td>-131.106685</td>\n",
       "      <td>False</td>\n",
       "      <td>NaN</td>\n",
       "      <td>AK0010400</td>\n",
       "      <td>Region IV</td>\n",
       "      <td>West</td>\n",
       "      <td>AK</td>\n",
       "      <td>Alaska</td>\n",
       "    </tr>\n",
       "    <tr>\n",
       "      <th>4</th>\n",
       "      <td>Kodiak Police Department</td>\n",
       "      <td>Borough</td>\n",
       "      <td>KODIAK ISLAND</td>\n",
       "      <td>Pacific</td>\n",
       "      <td>57.804900</td>\n",
       "      <td>-152.373320</td>\n",
       "      <td>False</td>\n",
       "      <td>NaN</td>\n",
       "      <td>AK0010500</td>\n",
       "      <td>Region IV</td>\n",
       "      <td>West</td>\n",
       "      <td>AK</td>\n",
       "      <td>Alaska</td>\n",
       "    </tr>\n",
       "  </tbody>\n",
       "</table>\n",
       "</div>"
      ],
      "text/plain": [
       "                   agency_name  agency_type_name           county_name  \\\n",
       "0  Anchorage Police Department  Municipality      ANCHORAGE              \n",
       "1  Fairbanks Police Department  Borough           FAIRBANKS NORTH STAR   \n",
       "2  Juneau Police Department     City and Borough  JUNEAU                 \n",
       "3  Ketchikan Police Department  Borough           KETCHIKAN GATEWAY      \n",
       "4  Kodiak Police Department     Borough           KODIAK ISLAND          \n",
       "\n",
       "  division_name   latitude   longitude  nibrs nibrs_start_date        ori  \\\n",
       "0  Pacific       61.174250 -149.284329  False  NaN              AK0010100   \n",
       "1  Pacific       64.839450 -147.719420  False  NaN              AK0010200   \n",
       "2  Pacific       58.356556 -134.507310  False  NaN              AK0010300   \n",
       "3  Pacific       55.449938 -131.106685  False  NaN              AK0010400   \n",
       "4  Pacific       57.804900 -152.373320  False  NaN              AK0010500   \n",
       "\n",
       "  region_desc region_name state_abbr state_name  \n",
       "0  Region IV   West        AK         Alaska     \n",
       "1  Region IV   West        AK         Alaska     \n",
       "2  Region IV   West        AK         Alaska     \n",
       "3  Region IV   West        AK         Alaska     \n",
       "4  Region IV   West        AK         Alaska     "
      ]
     },
     "execution_count": 4,
     "metadata": {},
     "output_type": "execute_result"
    },
    {
     "name": "stdout",
     "output_type": "stream",
     "text": [
      "<class 'pandas.core.frame.DataFrame'>\n",
      "RangeIndex: 18459 entries, 0 to 18458\n",
      "Data columns (total 13 columns):\n",
      "agency_name         18459 non-null object\n",
      "agency_type_name    18459 non-null object\n",
      "county_name         18017 non-null object\n",
      "division_name       18459 non-null object\n",
      "latitude            17914 non-null float64\n",
      "longitude           17914 non-null float64\n",
      "nibrs               18459 non-null bool\n",
      "nibrs_start_date    8545 non-null object\n",
      "ori                 18459 non-null object\n",
      "region_desc         18459 non-null object\n",
      "region_name         18459 non-null object\n",
      "state_abbr          18459 non-null object\n",
      "state_name          18459 non-null object\n",
      "dtypes: bool(1), float64(2), object(10)\n",
      "memory usage: 1.7+ MB\n"
     ]
    }
   ],
   "source": [
    "agency_df = pd.read_csv(AGENCY)\n",
    "agency_df.head()\n",
    "agency_df.info()"
   ]
  },
  {
   "cell_type": "code",
   "execution_count": 19,
   "metadata": {},
   "outputs": [
    {
     "data": {
      "text/plain": [
       "'CA0101500'"
      ]
     },
     "execution_count": 19,
     "metadata": {},
     "output_type": "execute_result"
    }
   ],
   "source": [
    "random_ori = agency_df.loc[991, 'ori']\n",
    "random_ori"
   ]
  },
  {
   "cell_type": "code",
   "execution_count": 15,
   "metadata": {},
   "outputs": [],
   "source": [
    "config = {\n",
    "    '{ori}': random_ori,\n",
    "    '{since}': '2010',\n",
    "    '{until}': '2010',\n",
    "}\n",
    "summary = ch.get_json(ch.SUMMARY, config)"
   ]
  },
  {
   "cell_type": "code",
   "execution_count": 17,
   "metadata": {},
   "outputs": [
    {
     "data": {
      "text/plain": [
       "{'results': [{'ori': 'AL0050400',\n",
       "   'data_year': 2010,\n",
       "   'offense': 'aggravated-assault',\n",
       "   'state_abbr': 'AL',\n",
       "   'cleared': 0,\n",
       "   'actual': 10},\n",
       "  {'ori': 'AL0050400',\n",
       "   'data_year': 2010,\n",
       "   'offense': 'arson',\n",
       "   'state_abbr': 'AL',\n",
       "   'cleared': 0,\n",
       "   'actual': 0},\n",
       "  {'ori': 'AL0050400',\n",
       "   'data_year': 2010,\n",
       "   'offense': 'burglary',\n",
       "   'state_abbr': 'AL',\n",
       "   'cleared': 0,\n",
       "   'actual': 28},\n",
       "  {'ori': 'AL0050400',\n",
       "   'data_year': 2010,\n",
       "   'offense': 'homicide',\n",
       "   'state_abbr': 'AL',\n",
       "   'cleared': 0,\n",
       "   'actual': 1},\n",
       "  {'ori': 'AL0050400',\n",
       "   'data_year': 2010,\n",
       "   'offense': 'human-trafficing',\n",
       "   'state_abbr': 'AL',\n",
       "   'cleared': 0,\n",
       "   'actual': 0},\n",
       "  {'ori': 'AL0050400',\n",
       "   'data_year': 2010,\n",
       "   'offense': 'larceny',\n",
       "   'state_abbr': 'AL',\n",
       "   'cleared': 8,\n",
       "   'actual': 428},\n",
       "  {'ori': 'AL0050400',\n",
       "   'data_year': 2010,\n",
       "   'offense': 'motor-vehicle-theft',\n",
       "   'state_abbr': 'AL',\n",
       "   'cleared': 1,\n",
       "   'actual': 13},\n",
       "  {'ori': 'AL0050400',\n",
       "   'data_year': 2010,\n",
       "   'offense': 'property-crime',\n",
       "   'state_abbr': 'AL',\n",
       "   'cleared': 9,\n",
       "   'actual': 469},\n",
       "  {'ori': 'AL0050400',\n",
       "   'data_year': 2010,\n",
       "   'offense': 'rape',\n",
       "   'state_abbr': 'AL',\n",
       "   'cleared': 0,\n",
       "   'actual': 0},\n",
       "  {'ori': 'AL0050400',\n",
       "   'data_year': 2010,\n",
       "   'offense': 'rape-legacy',\n",
       "   'state_abbr': 'AL',\n",
       "   'cleared': 2,\n",
       "   'actual': 9},\n",
       "  {'ori': 'AL0050400',\n",
       "   'data_year': 2010,\n",
       "   'offense': 'robbery',\n",
       "   'state_abbr': 'AL',\n",
       "   'cleared': 0,\n",
       "   'actual': 4},\n",
       "  {'ori': 'AL0050400',\n",
       "   'data_year': 2010,\n",
       "   'offense': 'violent-crime',\n",
       "   'state_abbr': 'AL',\n",
       "   'cleared': 2,\n",
       "   'actual': 24}],\n",
       " 'pagination': {'count': 12, 'page': 0, 'pages': 1, 'per_page': 0}}"
      ]
     },
     "execution_count": 17,
     "metadata": {},
     "output_type": "execute_result"
    }
   ],
   "source": [
    "summary"
   ]
  },
  {
   "cell_type": "markdown",
   "metadata": {},
   "source": [
    "## Export to csv"
   ]
  },
  {
   "cell_type": "code",
   "execution_count": 7,
   "metadata": {},
   "outputs": [
    {
     "ename": "NameError",
     "evalue": "name 'file_df' is not defined",
     "output_type": "error",
     "traceback": [
      "\u001b[0;31m---------------------------------------------------------------------------\u001b[0m",
      "\u001b[0;31mNameError\u001b[0m                                 Traceback (most recent call last)",
      "\u001b[0;32m<ipython-input-7-275d738ddbb9>\u001b[0m in \u001b[0;36m<module>\u001b[0;34m\u001b[0m\n\u001b[1;32m      1\u001b[0m \u001b[0msave_path\u001b[0m \u001b[0;34m=\u001b[0m \u001b[0;34mr'data/file_clean.csv'\u001b[0m\u001b[0;34m\u001b[0m\u001b[0;34m\u001b[0m\u001b[0m\n\u001b[0;32m----> 2\u001b[0;31m \u001b[0mfile_df\u001b[0m\u001b[0;34m.\u001b[0m\u001b[0mto_csv\u001b[0m\u001b[0;34m(\u001b[0m\u001b[0msave_path\u001b[0m\u001b[0;34m,\u001b[0m \u001b[0mindex\u001b[0m\u001b[0;34m=\u001b[0m\u001b[0;32mFalse\u001b[0m\u001b[0;34m)\u001b[0m\u001b[0;34m\u001b[0m\u001b[0;34m\u001b[0m\u001b[0m\n\u001b[0m\u001b[1;32m      3\u001b[0m \u001b[0;34mf'{round(os.path.getsize(save_path) /1e6, 2)} mb'\u001b[0m\u001b[0;34m\u001b[0m\u001b[0;34m\u001b[0m\u001b[0m\n",
      "\u001b[0;31mNameError\u001b[0m: name 'file_df' is not defined"
     ]
    }
   ],
   "source": [
    "save_path = r'data/file_clean.csv'\n",
    "file_df.to_csv(save_path, index=False)\n",
    "f'{round(os.path.getsize(save_path) /1e6, 2)} mb'"
   ]
  }
 ],
 "metadata": {
  "kernelspec": {
   "display_name": "Python 3",
   "language": "python",
   "name": "python3"
  },
  "language_info": {
   "codemirror_mode": {
    "name": "ipython",
    "version": 3
   },
   "file_extension": ".py",
   "mimetype": "text/x-python",
   "name": "python",
   "nbconvert_exporter": "python",
   "pygments_lexer": "ipython3",
   "version": "3.7.3"
  }
 },
 "nbformat": 4,
 "nbformat_minor": 2
}
